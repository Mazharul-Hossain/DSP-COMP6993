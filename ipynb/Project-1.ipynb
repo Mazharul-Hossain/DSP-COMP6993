{
 "cells": [
  {
   "cell_type": "code",
   "execution_count": 1,
   "metadata": {},
   "outputs": [],
   "source": [
    "import pandas, seaborn, matplotlib\n",
    "import os, sys\n",
    "import numpy"
   ]
  },
  {
   "cell_type": "code",
   "execution_count": 2,
   "metadata": {},
   "outputs": [
    {
     "data": {
      "text/html": [
       "<div>\n",
       "<style scoped>\n",
       "    .dataframe tbody tr th:only-of-type {\n",
       "        vertical-align: middle;\n",
       "    }\n",
       "\n",
       "    .dataframe tbody tr th {\n",
       "        vertical-align: top;\n",
       "    }\n",
       "\n",
       "    .dataframe thead th {\n",
       "        text-align: right;\n",
       "    }\n",
       "</style>\n",
       "<table border=\"1\" class=\"dataframe\">\n",
       "  <thead>\n",
       "    <tr style=\"text-align: right;\">\n",
       "      <th></th>\n",
       "      <th>Order</th>\n",
       "      <th>PID</th>\n",
       "      <th>MS SubClass</th>\n",
       "      <th>MS Zoning</th>\n",
       "      <th>Lot Frontage</th>\n",
       "      <th>Lot Area</th>\n",
       "      <th>Street</th>\n",
       "      <th>Alley</th>\n",
       "      <th>Lot Shape</th>\n",
       "      <th>Land Contour</th>\n",
       "      <th>...</th>\n",
       "      <th>Pool Area</th>\n",
       "      <th>Pool QC</th>\n",
       "      <th>Fence</th>\n",
       "      <th>Misc Feature</th>\n",
       "      <th>Misc Val</th>\n",
       "      <th>Mo Sold</th>\n",
       "      <th>Yr Sold</th>\n",
       "      <th>Sale Type</th>\n",
       "      <th>Sale Condition</th>\n",
       "      <th>SalePrice</th>\n",
       "    </tr>\n",
       "  </thead>\n",
       "  <tbody>\n",
       "    <tr>\n",
       "      <th>0</th>\n",
       "      <td>1</td>\n",
       "      <td>526301100</td>\n",
       "      <td>20</td>\n",
       "      <td>RL</td>\n",
       "      <td>141.0</td>\n",
       "      <td>31770</td>\n",
       "      <td>Pave</td>\n",
       "      <td>NaN</td>\n",
       "      <td>IR1</td>\n",
       "      <td>Lvl</td>\n",
       "      <td>...</td>\n",
       "      <td>0</td>\n",
       "      <td>NaN</td>\n",
       "      <td>NaN</td>\n",
       "      <td>NaN</td>\n",
       "      <td>0</td>\n",
       "      <td>5</td>\n",
       "      <td>2010</td>\n",
       "      <td>WD</td>\n",
       "      <td>Normal</td>\n",
       "      <td>215000</td>\n",
       "    </tr>\n",
       "    <tr>\n",
       "      <th>1</th>\n",
       "      <td>2</td>\n",
       "      <td>526350040</td>\n",
       "      <td>20</td>\n",
       "      <td>RH</td>\n",
       "      <td>80.0</td>\n",
       "      <td>11622</td>\n",
       "      <td>Pave</td>\n",
       "      <td>NaN</td>\n",
       "      <td>Reg</td>\n",
       "      <td>Lvl</td>\n",
       "      <td>...</td>\n",
       "      <td>0</td>\n",
       "      <td>NaN</td>\n",
       "      <td>MnPrv</td>\n",
       "      <td>NaN</td>\n",
       "      <td>0</td>\n",
       "      <td>6</td>\n",
       "      <td>2010</td>\n",
       "      <td>WD</td>\n",
       "      <td>Normal</td>\n",
       "      <td>105000</td>\n",
       "    </tr>\n",
       "    <tr>\n",
       "      <th>2</th>\n",
       "      <td>3</td>\n",
       "      <td>526351010</td>\n",
       "      <td>20</td>\n",
       "      <td>RL</td>\n",
       "      <td>81.0</td>\n",
       "      <td>14267</td>\n",
       "      <td>Pave</td>\n",
       "      <td>NaN</td>\n",
       "      <td>IR1</td>\n",
       "      <td>Lvl</td>\n",
       "      <td>...</td>\n",
       "      <td>0</td>\n",
       "      <td>NaN</td>\n",
       "      <td>NaN</td>\n",
       "      <td>Gar2</td>\n",
       "      <td>12500</td>\n",
       "      <td>6</td>\n",
       "      <td>2010</td>\n",
       "      <td>WD</td>\n",
       "      <td>Normal</td>\n",
       "      <td>172000</td>\n",
       "    </tr>\n",
       "    <tr>\n",
       "      <th>3</th>\n",
       "      <td>4</td>\n",
       "      <td>526353030</td>\n",
       "      <td>20</td>\n",
       "      <td>RL</td>\n",
       "      <td>93.0</td>\n",
       "      <td>11160</td>\n",
       "      <td>Pave</td>\n",
       "      <td>NaN</td>\n",
       "      <td>Reg</td>\n",
       "      <td>Lvl</td>\n",
       "      <td>...</td>\n",
       "      <td>0</td>\n",
       "      <td>NaN</td>\n",
       "      <td>NaN</td>\n",
       "      <td>NaN</td>\n",
       "      <td>0</td>\n",
       "      <td>4</td>\n",
       "      <td>2010</td>\n",
       "      <td>WD</td>\n",
       "      <td>Normal</td>\n",
       "      <td>244000</td>\n",
       "    </tr>\n",
       "    <tr>\n",
       "      <th>4</th>\n",
       "      <td>5</td>\n",
       "      <td>527105010</td>\n",
       "      <td>60</td>\n",
       "      <td>RL</td>\n",
       "      <td>74.0</td>\n",
       "      <td>13830</td>\n",
       "      <td>Pave</td>\n",
       "      <td>NaN</td>\n",
       "      <td>IR1</td>\n",
       "      <td>Lvl</td>\n",
       "      <td>...</td>\n",
       "      <td>0</td>\n",
       "      <td>NaN</td>\n",
       "      <td>MnPrv</td>\n",
       "      <td>NaN</td>\n",
       "      <td>0</td>\n",
       "      <td>3</td>\n",
       "      <td>2010</td>\n",
       "      <td>WD</td>\n",
       "      <td>Normal</td>\n",
       "      <td>189900</td>\n",
       "    </tr>\n",
       "    <tr>\n",
       "      <th>5</th>\n",
       "      <td>6</td>\n",
       "      <td>527105030</td>\n",
       "      <td>60</td>\n",
       "      <td>RL</td>\n",
       "      <td>78.0</td>\n",
       "      <td>9978</td>\n",
       "      <td>Pave</td>\n",
       "      <td>NaN</td>\n",
       "      <td>IR1</td>\n",
       "      <td>Lvl</td>\n",
       "      <td>...</td>\n",
       "      <td>0</td>\n",
       "      <td>NaN</td>\n",
       "      <td>NaN</td>\n",
       "      <td>NaN</td>\n",
       "      <td>0</td>\n",
       "      <td>6</td>\n",
       "      <td>2010</td>\n",
       "      <td>WD</td>\n",
       "      <td>Normal</td>\n",
       "      <td>195500</td>\n",
       "    </tr>\n",
       "    <tr>\n",
       "      <th>6</th>\n",
       "      <td>7</td>\n",
       "      <td>527127150</td>\n",
       "      <td>120</td>\n",
       "      <td>RL</td>\n",
       "      <td>41.0</td>\n",
       "      <td>4920</td>\n",
       "      <td>Pave</td>\n",
       "      <td>NaN</td>\n",
       "      <td>Reg</td>\n",
       "      <td>Lvl</td>\n",
       "      <td>...</td>\n",
       "      <td>0</td>\n",
       "      <td>NaN</td>\n",
       "      <td>NaN</td>\n",
       "      <td>NaN</td>\n",
       "      <td>0</td>\n",
       "      <td>4</td>\n",
       "      <td>2010</td>\n",
       "      <td>WD</td>\n",
       "      <td>Normal</td>\n",
       "      <td>213500</td>\n",
       "    </tr>\n",
       "    <tr>\n",
       "      <th>7</th>\n",
       "      <td>8</td>\n",
       "      <td>527145080</td>\n",
       "      <td>120</td>\n",
       "      <td>RL</td>\n",
       "      <td>43.0</td>\n",
       "      <td>5005</td>\n",
       "      <td>Pave</td>\n",
       "      <td>NaN</td>\n",
       "      <td>IR1</td>\n",
       "      <td>HLS</td>\n",
       "      <td>...</td>\n",
       "      <td>0</td>\n",
       "      <td>NaN</td>\n",
       "      <td>NaN</td>\n",
       "      <td>NaN</td>\n",
       "      <td>0</td>\n",
       "      <td>1</td>\n",
       "      <td>2010</td>\n",
       "      <td>WD</td>\n",
       "      <td>Normal</td>\n",
       "      <td>191500</td>\n",
       "    </tr>\n",
       "    <tr>\n",
       "      <th>8</th>\n",
       "      <td>9</td>\n",
       "      <td>527146030</td>\n",
       "      <td>120</td>\n",
       "      <td>RL</td>\n",
       "      <td>39.0</td>\n",
       "      <td>5389</td>\n",
       "      <td>Pave</td>\n",
       "      <td>NaN</td>\n",
       "      <td>IR1</td>\n",
       "      <td>Lvl</td>\n",
       "      <td>...</td>\n",
       "      <td>0</td>\n",
       "      <td>NaN</td>\n",
       "      <td>NaN</td>\n",
       "      <td>NaN</td>\n",
       "      <td>0</td>\n",
       "      <td>3</td>\n",
       "      <td>2010</td>\n",
       "      <td>WD</td>\n",
       "      <td>Normal</td>\n",
       "      <td>236500</td>\n",
       "    </tr>\n",
       "    <tr>\n",
       "      <th>9</th>\n",
       "      <td>10</td>\n",
       "      <td>527162130</td>\n",
       "      <td>60</td>\n",
       "      <td>RL</td>\n",
       "      <td>60.0</td>\n",
       "      <td>7500</td>\n",
       "      <td>Pave</td>\n",
       "      <td>NaN</td>\n",
       "      <td>Reg</td>\n",
       "      <td>Lvl</td>\n",
       "      <td>...</td>\n",
       "      <td>0</td>\n",
       "      <td>NaN</td>\n",
       "      <td>NaN</td>\n",
       "      <td>NaN</td>\n",
       "      <td>0</td>\n",
       "      <td>6</td>\n",
       "      <td>2010</td>\n",
       "      <td>WD</td>\n",
       "      <td>Normal</td>\n",
       "      <td>189000</td>\n",
       "    </tr>\n",
       "  </tbody>\n",
       "</table>\n",
       "<p>10 rows × 82 columns</p>\n",
       "</div>"
      ],
      "text/plain": [
       "   Order        PID  MS SubClass MS Zoning  Lot Frontage  Lot Area Street  \\\n",
       "0      1  526301100           20        RL         141.0     31770   Pave   \n",
       "1      2  526350040           20        RH          80.0     11622   Pave   \n",
       "2      3  526351010           20        RL          81.0     14267   Pave   \n",
       "3      4  526353030           20        RL          93.0     11160   Pave   \n",
       "4      5  527105010           60        RL          74.0     13830   Pave   \n",
       "5      6  527105030           60        RL          78.0      9978   Pave   \n",
       "6      7  527127150          120        RL          41.0      4920   Pave   \n",
       "7      8  527145080          120        RL          43.0      5005   Pave   \n",
       "8      9  527146030          120        RL          39.0      5389   Pave   \n",
       "9     10  527162130           60        RL          60.0      7500   Pave   \n",
       "\n",
       "  Alley Lot Shape Land Contour    ...     Pool Area Pool QC  Fence  \\\n",
       "0   NaN       IR1          Lvl    ...             0     NaN    NaN   \n",
       "1   NaN       Reg          Lvl    ...             0     NaN  MnPrv   \n",
       "2   NaN       IR1          Lvl    ...             0     NaN    NaN   \n",
       "3   NaN       Reg          Lvl    ...             0     NaN    NaN   \n",
       "4   NaN       IR1          Lvl    ...             0     NaN  MnPrv   \n",
       "5   NaN       IR1          Lvl    ...             0     NaN    NaN   \n",
       "6   NaN       Reg          Lvl    ...             0     NaN    NaN   \n",
       "7   NaN       IR1          HLS    ...             0     NaN    NaN   \n",
       "8   NaN       IR1          Lvl    ...             0     NaN    NaN   \n",
       "9   NaN       Reg          Lvl    ...             0     NaN    NaN   \n",
       "\n",
       "  Misc Feature Misc Val Mo Sold Yr Sold Sale Type  Sale Condition  SalePrice  \n",
       "0          NaN        0       5    2010       WD           Normal     215000  \n",
       "1          NaN        0       6    2010       WD           Normal     105000  \n",
       "2         Gar2    12500       6    2010       WD           Normal     172000  \n",
       "3          NaN        0       4    2010       WD           Normal     244000  \n",
       "4          NaN        0       3    2010       WD           Normal     189900  \n",
       "5          NaN        0       6    2010       WD           Normal     195500  \n",
       "6          NaN        0       4    2010       WD           Normal     213500  \n",
       "7          NaN        0       1    2010       WD           Normal     191500  \n",
       "8          NaN        0       3    2010       WD           Normal     236500  \n",
       "9          NaN        0       6    2010       WD           Normal     189000  \n",
       "\n",
       "[10 rows x 82 columns]"
      ]
     },
     "execution_count": 2,
     "metadata": {},
     "output_type": "execute_result"
    }
   ],
   "source": [
    "df = pandas.read_excel('../data/AmesHousing.xls')\n",
    "df.head(10)"
   ]
  },
  {
   "cell_type": "code",
   "execution_count": 3,
   "metadata": {
    "scrolled": true
   },
   "outputs": [
    {
     "data": {
      "text/plain": [
       "Order                0\n",
       "PID                  0\n",
       "MS SubClass          0\n",
       "MS Zoning            0\n",
       "Lot Frontage       490\n",
       "Lot Area             0\n",
       "Street               0\n",
       "Alley             2732\n",
       "Lot Shape            0\n",
       "Land Contour         0\n",
       "Utilities            0\n",
       "Lot Config           0\n",
       "Land Slope           0\n",
       "Neighborhood         0\n",
       "Condition 1          0\n",
       "Condition 2          0\n",
       "Bldg Type            0\n",
       "House Style          0\n",
       "Overall Qual         0\n",
       "Overall Cond         0\n",
       "Year Built           0\n",
       "Year Remod/Add       0\n",
       "Roof Style           0\n",
       "Roof Matl            0\n",
       "Exterior 1st         0\n",
       "Exterior 2nd         0\n",
       "Mas Vnr Type        23\n",
       "Mas Vnr Area        23\n",
       "Exter Qual           0\n",
       "Exter Cond           0\n",
       "                  ... \n",
       "Bedroom AbvGr        0\n",
       "Kitchen AbvGr        0\n",
       "Kitchen Qual         0\n",
       "TotRms AbvGrd        0\n",
       "Functional           0\n",
       "Fireplaces           0\n",
       "Fireplace Qu      1422\n",
       "Garage Type        157\n",
       "Garage Yr Blt      159\n",
       "Garage Finish      159\n",
       "Garage Cars          1\n",
       "Garage Area          1\n",
       "Garage Qual        159\n",
       "Garage Cond        159\n",
       "Paved Drive          0\n",
       "Wood Deck SF         0\n",
       "Open Porch SF        0\n",
       "Enclosed Porch       0\n",
       "3Ssn Porch           0\n",
       "Screen Porch         0\n",
       "Pool Area            0\n",
       "Pool QC           2917\n",
       "Fence             2358\n",
       "Misc Feature      2824\n",
       "Misc Val             0\n",
       "Mo Sold              0\n",
       "Yr Sold              0\n",
       "Sale Type            0\n",
       "Sale Condition       0\n",
       "SalePrice            0\n",
       "Length: 82, dtype: int64"
      ]
     },
     "execution_count": 3,
     "metadata": {},
     "output_type": "execute_result"
    }
   ],
   "source": [
    "df.isnull().sum() \n",
    "# df2 = df.dropna()\n",
    "# print( df2.isnull().sum() )"
   ]
  },
  {
   "cell_type": "code",
   "execution_count": 4,
   "metadata": {},
   "outputs": [
    {
     "data": {
      "text/plain": [
       "(2930, 82)"
      ]
     },
     "execution_count": 4,
     "metadata": {},
     "output_type": "execute_result"
    }
   ],
   "source": [
    "df.shape"
   ]
  },
  {
   "cell_type": "code",
   "execution_count": 5,
   "metadata": {},
   "outputs": [
    {
     "data": {
      "text/plain": [
       "Index(['Order', 'PID', 'MS SubClass', 'MS Zoning', 'Lot Frontage', 'Lot Area',\n",
       "       'Street', 'Alley', 'Lot Shape', 'Land Contour', 'Utilities',\n",
       "       'Lot Config', 'Land Slope', 'Neighborhood', 'Condition 1',\n",
       "       'Condition 2', 'Bldg Type', 'House Style', 'Overall Qual',\n",
       "       'Overall Cond', 'Year Built', 'Year Remod/Add', 'Roof Style',\n",
       "       'Roof Matl', 'Exterior 1st', 'Exterior 2nd', 'Mas Vnr Type',\n",
       "       'Mas Vnr Area', 'Exter Qual', 'Exter Cond', 'Foundation', 'Bsmt Qual',\n",
       "       'Bsmt Cond', 'Bsmt Exposure', 'BsmtFin Type 1', 'BsmtFin SF 1',\n",
       "       'BsmtFin Type 2', 'BsmtFin SF 2', 'Bsmt Unf SF', 'Total Bsmt SF',\n",
       "       'Heating', 'Heating QC', 'Central Air', 'Electrical', '1st Flr SF',\n",
       "       '2nd Flr SF', 'Low Qual Fin SF', 'Gr Liv Area', 'Bsmt Full Bath',\n",
       "       'Bsmt Half Bath', 'Full Bath', 'Half Bath', 'Bedroom AbvGr',\n",
       "       'Kitchen AbvGr', 'Kitchen Qual', 'TotRms AbvGrd', 'Functional',\n",
       "       'Fireplaces', 'Fireplace Qu', 'Garage Type', 'Garage Yr Blt',\n",
       "       'Garage Finish', 'Garage Cars', 'Garage Area', 'Garage Qual',\n",
       "       'Garage Cond', 'Paved Drive', 'Wood Deck SF', 'Open Porch SF',\n",
       "       'Enclosed Porch', '3Ssn Porch', 'Screen Porch', 'Pool Area', 'Pool QC',\n",
       "       'Fence', 'Misc Feature', 'Misc Val', 'Mo Sold', 'Yr Sold', 'Sale Type',\n",
       "       'Sale Condition', 'SalePrice'],\n",
       "      dtype='object')"
      ]
     },
     "execution_count": 5,
     "metadata": {},
     "output_type": "execute_result"
    }
   ],
   "source": [
    "df.columns"
   ]
  },
  {
   "cell_type": "code",
   "execution_count": 6,
   "metadata": {},
   "outputs": [
    {
     "name": "stdout",
     "output_type": "stream",
     "text": [
      "(2218, 77) (2930, 82)\n"
     ]
    }
   ],
   "source": [
    "# As \"Alley\" has 2732 rows empty we're dropping it\n",
    "# Fireplace Qu      1422\n",
    "# Pool QC           2917\n",
    "# Fence             2358\n",
    "# Misc Feature      2824\n",
    "df2 = df.drop(columns = {\"Alley\", \"Fireplace Qu\", \"Pool QC\", \"Fence\", \"Misc Feature\"} )\n",
    "df2 = df2.dropna()\n",
    "print( df2. shape, df.shape)"
   ]
  },
  {
   "cell_type": "code",
   "execution_count": 7,
   "metadata": {
    "scrolled": true
   },
   "outputs": [
    {
     "data": {
      "text/plain": [
       "Order              7.263813e+05\n",
       "PID                3.549135e+16\n",
       "MS SubClass        1.800148e+03\n",
       "Lot Frontage       5.448666e+02\n",
       "Lot Area           4.252451e+07\n",
       "Overall Qual       1.953479e+00\n",
       "Overall Cond       1.131126e+00\n",
       "Year Built         9.549593e+02\n",
       "Year Remod/Add     4.428112e+02\n",
       "Mas Vnr Area       3.434711e+04\n",
       "BsmtFin SF 1       2.175499e+05\n",
       "BsmtFin SF 2       2.821691e+04\n",
       "Bsmt Unf SF        1.937870e+05\n",
       "Total Bsmt SF      1.763186e+05\n",
       "1st Flr SF         1.572558e+05\n",
       "2nd Flr SF         1.801603e+05\n",
       "Low Qual Fin SF    1.909926e+03\n",
       "Gr Liv Area        2.533150e+05\n",
       "Bsmt Full Bath     2.694093e-01\n",
       "Bsmt Half Bath     5.859469e-02\n",
       "Full Bath          2.970791e-01\n",
       "Half Bath          2.469051e-01\n",
       "Bedroom AbvGr      6.036421e-01\n",
       "Kitchen AbvGr      2.893698e-02\n",
       "TotRms AbvGrd      2.374167e+00\n",
       "Fireplaces         4.087866e-01\n",
       "Garage Yr Blt      6.880518e+02\n",
       "Garage Cars        4.492340e-01\n",
       "Garage Area        3.778488e+04\n",
       "Wood Deck SF       1.510078e+04\n",
       "Open Porch SF      4.379514e+03\n",
       "Enclosed Porch     4.128349e+03\n",
       "3Ssn Porch         6.371594e+02\n",
       "Screen Porch       3.321939e+03\n",
       "Pool Area          1.287483e+03\n",
       "Misc Val           2.671573e+05\n",
       "Mo Sold            7.429042e+00\n",
       "Yr Sold            1.755412e+00\n",
       "SalePrice          6.960357e+09\n",
       "dtype: float64"
      ]
     },
     "execution_count": 7,
     "metadata": {},
     "output_type": "execute_result"
    }
   ],
   "source": [
    "df2.var() "
   ]
  },
  {
   "cell_type": "code",
   "execution_count": 85,
   "metadata": {},
   "outputs": [],
   "source": [
    "from sklearn.linear_model import LinearRegression\n",
    "from sklearn.model_selection import train_test_split"
   ]
  },
  {
   "cell_type": "code",
   "execution_count": 9,
   "metadata": {},
   "outputs": [
    {
     "name": "stdout",
     "output_type": "stream",
     "text": [
      "LinearRegression(copy_X=True, fit_intercept=True, n_jobs=1, normalize=False) 0.5596716275534689\n"
     ]
    },
    {
     "data": {
      "text/plain": [
       "(18361.959543811216, array([  1.18735455, 117.97681398,  95.42084995]))"
      ]
     },
     "execution_count": 9,
     "metadata": {},
     "output_type": "execute_result"
    }
   ],
   "source": [
    "# model \"Linear Regression\"\n",
    "model = LinearRegression()\n",
    "\n",
    "X = df2[['Lot Area', 'Mas Vnr Area', 'Gr Liv Area']]\n",
    "y = df2.SalePrice\n",
    "\n",
    "# distributing Training and Testing set\n",
    "X_train, X_test, y_train, y_test = train_test_split(X, y, test_size=0.2)\n",
    "\n",
    "print( model.fit(X_train, y_train), model.score(X_test, y_test) )\n",
    "\n",
    "model.intercept_ , model.coef_"
   ]
  },
  {
   "cell_type": "code",
   "execution_count": 10,
   "metadata": {},
   "outputs": [],
   "source": [
    "# from sklearn.cluster import KMeans\n",
    "# modelknn = KMeans(n_clusters=16)\n",
    "\n",
    "# # X (features) must be a list columns\n",
    "# X = df2[['MS SubClass']]\n",
    "\n",
    "# # Now we do the clustering\n",
    "# modelknn.fit(X)\n",
    "\n",
    "# df2['kmeans'] = modelknn.labels_    # valid because order of rows is same as order of labels.\n",
    "# seaborn.relplot(x='MS SubClass', y='SalePrice', hue='kmeans', data=df2)"
   ]
  },
  {
   "cell_type": "code",
   "execution_count": 12,
   "metadata": {},
   "outputs": [
    {
     "name": "stdout",
     "output_type": "stream",
     "text": [
      "LinearRegression(copy_X=True, fit_intercept=True, n_jobs=1, normalize=False) -0.009203254389180682 198013.90300453326 [-204.40322464]\n"
     ]
    }
   ],
   "source": [
    "# model \"Linear Regression\"\n",
    "model = LinearRegression()\n",
    "\n",
    "X = df2[['MS SubClass']]\n",
    "y = df2.SalePrice\n",
    "\n",
    "# distributing Training and Testing set\n",
    "X_train, X_test, y_train, y_test = train_test_split(X, y, test_size=0.2)\n",
    "\n",
    "print( model.fit(X_train, y_train), model.score(X_test, y_test), model.intercept_ , model.coef_ )"
   ]
  },
  {
   "cell_type": "code",
   "execution_count": 16,
   "metadata": {},
   "outputs": [],
   "source": [
    "# S = {}\n",
    "# for column in df2.columns:\n",
    "#     # model \"Linear Regression\"\n",
    "#     model = LinearRegression()\n",
    "\n",
    "#     X = df2[[column]]\n",
    "#     y = df2.SalePrice\n",
    "\n",
    "#     # distributing Training and Testing set\n",
    "#     X_train, X_test, y_train, y_test = train_test_split(X, y, test_size=0.2)\n",
    "#     S[column] = {\"intercept\" : model.intercept_ , \"coef\" : model.coef_}\n",
    "#     print( column, \" : \", model.fit(X_train, y_train), model.score(X_test, y_test) )"
   ]
  },
  {
   "cell_type": "markdown",
   "metadata": {},
   "source": [
    "## Feature Selection\n",
    "\n",
    "Feature selection is the most important part of Regression\n",
    "\n",
    "[Feature selection](http://scikit-learn.org/stable/modules/feature_selection.html)"
   ]
  },
  {
   "cell_type": "code",
   "execution_count": 17,
   "metadata": {},
   "outputs": [],
   "source": [
    "from sklearn.feature_selection import SelectKBest\n",
    "from sklearn.feature_selection import chi2"
   ]
  },
  {
   "cell_type": "code",
   "execution_count": 18,
   "metadata": {},
   "outputs": [],
   "source": [
    "X, y = df[ ['Overall Qual', 'Overall Cond', 'Year Built', 'Year Remod/Add' ] ], df.SalePrice"
   ]
  },
  {
   "cell_type": "code",
   "execution_count": 41,
   "metadata": {},
   "outputs": [
    {
     "data": {
      "text/plain": [
       "Index(['Order', 'PID', 'MS SubClass', 'MS Zoning', 'Lot Frontage', 'Lot Area',\n",
       "       'Street', 'Lot Shape', 'Land Contour', 'Utilities', 'Lot Config',\n",
       "       'Land Slope', 'Neighborhood', 'Condition 1', 'Condition 2', 'Bldg Type',\n",
       "       'House Style', 'Overall Qual', 'Overall Cond', 'Year Built',\n",
       "       'Year Remod/Add', 'Roof Style', 'Roof Matl', 'Exterior 1st',\n",
       "       'Exterior 2nd', 'Mas Vnr Type', 'Mas Vnr Area', 'Exter Qual',\n",
       "       'Exter Cond', 'Foundation', 'Bsmt Qual', 'Bsmt Cond', 'Bsmt Exposure',\n",
       "       'BsmtFin Type 1', 'BsmtFin SF 1', 'BsmtFin Type 2', 'BsmtFin SF 2',\n",
       "       'Bsmt Unf SF', 'Total Bsmt SF', 'Heating', 'Heating QC', 'Central Air',\n",
       "       'Electrical', '1st Flr SF', '2nd Flr SF', 'Low Qual Fin SF',\n",
       "       'Gr Liv Area', 'Bsmt Full Bath', 'Bsmt Half Bath', 'Full Bath',\n",
       "       'Half Bath', 'Bedroom AbvGr', 'Kitchen AbvGr', 'Kitchen Qual',\n",
       "       'TotRms AbvGrd'],\n",
       "      dtype='object')"
      ]
     },
     "execution_count": 41,
     "metadata": {},
     "output_type": "execute_result"
    }
   ],
   "source": [
    "df2.columns[:55]"
   ]
  },
  {
   "cell_type": "code",
   "execution_count": 36,
   "metadata": {},
   "outputs": [],
   "source": [
    "X = df2.columns[2:52]"
   ]
  },
  {
   "cell_type": "code",
   "execution_count": 37,
   "metadata": {
    "scrolled": false
   },
   "outputs": [
    {
     "ename": "ValueError",
     "evalue": "could not convert string to float: 'Bedroom AbvGr'",
     "output_type": "error",
     "traceback": [
      "\u001b[1;31m---------------------------------------------------------------------------\u001b[0m",
      "\u001b[1;31mValueError\u001b[0m                                Traceback (most recent call last)",
      "\u001b[1;32m<ipython-input-37-1a2a7ae3f8ca>\u001b[0m in \u001b[0;36m<module>\u001b[1;34m()\u001b[0m\n\u001b[1;32m----> 1\u001b[1;33m \u001b[0mX_new\u001b[0m \u001b[1;33m=\u001b[0m \u001b[0mSelectKBest\u001b[0m\u001b[1;33m(\u001b[0m\u001b[0mchi2\u001b[0m\u001b[1;33m,\u001b[0m \u001b[0mk\u001b[0m\u001b[1;33m=\u001b[0m\u001b[1;36m4\u001b[0m\u001b[1;33m)\u001b[0m\u001b[1;33m.\u001b[0m\u001b[0mfit_transform\u001b[0m\u001b[1;33m(\u001b[0m\u001b[0mX\u001b[0m\u001b[1;33m,\u001b[0m \u001b[0my\u001b[0m\u001b[1;33m)\u001b[0m\u001b[1;33m\u001b[0m\u001b[0m\n\u001b[0m\u001b[0;32m      2\u001b[0m \u001b[0mX_new\u001b[0m\u001b[1;33m.\u001b[0m\u001b[0mshape\u001b[0m\u001b[1;33m\u001b[0m\u001b[0m\n",
      "\u001b[1;32mD:\\Anaconda3\\lib\\site-packages\\sklearn\\base.py\u001b[0m in \u001b[0;36mfit_transform\u001b[1;34m(self, X, y, **fit_params)\u001b[0m\n\u001b[0;32m    518\u001b[0m         \u001b[1;32melse\u001b[0m\u001b[1;33m:\u001b[0m\u001b[1;33m\u001b[0m\u001b[0m\n\u001b[0;32m    519\u001b[0m             \u001b[1;31m# fit method of arity 2 (supervised transformation)\u001b[0m\u001b[1;33m\u001b[0m\u001b[1;33m\u001b[0m\u001b[0m\n\u001b[1;32m--> 520\u001b[1;33m             \u001b[1;32mreturn\u001b[0m \u001b[0mself\u001b[0m\u001b[1;33m.\u001b[0m\u001b[0mfit\u001b[0m\u001b[1;33m(\u001b[0m\u001b[0mX\u001b[0m\u001b[1;33m,\u001b[0m \u001b[0my\u001b[0m\u001b[1;33m,\u001b[0m \u001b[1;33m**\u001b[0m\u001b[0mfit_params\u001b[0m\u001b[1;33m)\u001b[0m\u001b[1;33m.\u001b[0m\u001b[0mtransform\u001b[0m\u001b[1;33m(\u001b[0m\u001b[0mX\u001b[0m\u001b[1;33m)\u001b[0m\u001b[1;33m\u001b[0m\u001b[0m\n\u001b[0m\u001b[0;32m    521\u001b[0m \u001b[1;33m\u001b[0m\u001b[0m\n\u001b[0;32m    522\u001b[0m \u001b[1;33m\u001b[0m\u001b[0m\n",
      "\u001b[1;32mD:\\Anaconda3\\lib\\site-packages\\sklearn\\feature_selection\\univariate_selection.py\u001b[0m in \u001b[0;36mfit\u001b[1;34m(self, X, y)\u001b[0m\n\u001b[0;32m    339\u001b[0m             \u001b[0mReturns\u001b[0m \u001b[0mself\u001b[0m\u001b[1;33m.\u001b[0m\u001b[1;33m\u001b[0m\u001b[0m\n\u001b[0;32m    340\u001b[0m         \"\"\"\n\u001b[1;32m--> 341\u001b[1;33m         \u001b[0mX\u001b[0m\u001b[1;33m,\u001b[0m \u001b[0my\u001b[0m \u001b[1;33m=\u001b[0m \u001b[0mcheck_X_y\u001b[0m\u001b[1;33m(\u001b[0m\u001b[0mX\u001b[0m\u001b[1;33m,\u001b[0m \u001b[0my\u001b[0m\u001b[1;33m,\u001b[0m \u001b[1;33m[\u001b[0m\u001b[1;34m'csr'\u001b[0m\u001b[1;33m,\u001b[0m \u001b[1;34m'csc'\u001b[0m\u001b[1;33m]\u001b[0m\u001b[1;33m,\u001b[0m \u001b[0mmulti_output\u001b[0m\u001b[1;33m=\u001b[0m\u001b[1;32mTrue\u001b[0m\u001b[1;33m)\u001b[0m\u001b[1;33m\u001b[0m\u001b[0m\n\u001b[0m\u001b[0;32m    342\u001b[0m \u001b[1;33m\u001b[0m\u001b[0m\n\u001b[0;32m    343\u001b[0m         \u001b[1;32mif\u001b[0m \u001b[1;32mnot\u001b[0m \u001b[0mcallable\u001b[0m\u001b[1;33m(\u001b[0m\u001b[0mself\u001b[0m\u001b[1;33m.\u001b[0m\u001b[0mscore_func\u001b[0m\u001b[1;33m)\u001b[0m\u001b[1;33m:\u001b[0m\u001b[1;33m\u001b[0m\u001b[0m\n",
      "\u001b[1;32mD:\\Anaconda3\\lib\\site-packages\\sklearn\\utils\\validation.py\u001b[0m in \u001b[0;36mcheck_X_y\u001b[1;34m(X, y, accept_sparse, dtype, order, copy, force_all_finite, ensure_2d, allow_nd, multi_output, ensure_min_samples, ensure_min_features, y_numeric, warn_on_dtype, estimator)\u001b[0m\n\u001b[0;32m    571\u001b[0m     X = check_array(X, accept_sparse, dtype, order, copy, force_all_finite,\n\u001b[0;32m    572\u001b[0m                     \u001b[0mensure_2d\u001b[0m\u001b[1;33m,\u001b[0m \u001b[0mallow_nd\u001b[0m\u001b[1;33m,\u001b[0m \u001b[0mensure_min_samples\u001b[0m\u001b[1;33m,\u001b[0m\u001b[1;33m\u001b[0m\u001b[0m\n\u001b[1;32m--> 573\u001b[1;33m                     ensure_min_features, warn_on_dtype, estimator)\n\u001b[0m\u001b[0;32m    574\u001b[0m     \u001b[1;32mif\u001b[0m \u001b[0mmulti_output\u001b[0m\u001b[1;33m:\u001b[0m\u001b[1;33m\u001b[0m\u001b[0m\n\u001b[0;32m    575\u001b[0m         y = check_array(y, 'csr', force_all_finite=True, ensure_2d=False,\n",
      "\u001b[1;32mD:\\Anaconda3\\lib\\site-packages\\sklearn\\utils\\validation.py\u001b[0m in \u001b[0;36mcheck_array\u001b[1;34m(array, accept_sparse, dtype, order, copy, force_all_finite, ensure_2d, allow_nd, ensure_min_samples, ensure_min_features, warn_on_dtype, estimator)\u001b[0m\n\u001b[0;32m    431\u001b[0m                                       force_all_finite)\n\u001b[0;32m    432\u001b[0m     \u001b[1;32melse\u001b[0m\u001b[1;33m:\u001b[0m\u001b[1;33m\u001b[0m\u001b[0m\n\u001b[1;32m--> 433\u001b[1;33m         \u001b[0marray\u001b[0m \u001b[1;33m=\u001b[0m \u001b[0mnp\u001b[0m\u001b[1;33m.\u001b[0m\u001b[0marray\u001b[0m\u001b[1;33m(\u001b[0m\u001b[0marray\u001b[0m\u001b[1;33m,\u001b[0m \u001b[0mdtype\u001b[0m\u001b[1;33m=\u001b[0m\u001b[0mdtype\u001b[0m\u001b[1;33m,\u001b[0m \u001b[0morder\u001b[0m\u001b[1;33m=\u001b[0m\u001b[0morder\u001b[0m\u001b[1;33m,\u001b[0m \u001b[0mcopy\u001b[0m\u001b[1;33m=\u001b[0m\u001b[0mcopy\u001b[0m\u001b[1;33m)\u001b[0m\u001b[1;33m\u001b[0m\u001b[0m\n\u001b[0m\u001b[0;32m    434\u001b[0m \u001b[1;33m\u001b[0m\u001b[0m\n\u001b[0;32m    435\u001b[0m         \u001b[1;32mif\u001b[0m \u001b[0mensure_2d\u001b[0m\u001b[1;33m:\u001b[0m\u001b[1;33m\u001b[0m\u001b[0m\n",
      "\u001b[1;31mValueError\u001b[0m: could not convert string to float: 'Bedroom AbvGr'"
     ]
    }
   ],
   "source": [
    "X_new = SelectKBest(chi2, k=4).fit_transform(X, y)\n",
    "X_new.shape"
   ]
  },
  {
   "cell_type": "markdown",
   "metadata": {},
   "source": [
    "## Normalize and Standardize data with preprocessing"
   ]
  },
  {
   "cell_type": "markdown",
   "metadata": {},
   "source": [
    "### Pandas get_dummies"
   ]
  },
  {
   "cell_type": "code",
   "execution_count": null,
   "metadata": {
    "scrolled": true
   },
   "outputs": [],
   "source": [
    "mydf = pandas.DataFrame({'temperature':[30,10,27,24,-6],\n",
    "                     'feeling':['Hot', 'Cold', 'Hot', 'Hot', 'Cold'],\n",
    "                     'weather':['Sunny', 'Rainy', 'Rainy', 'Sunny', 'Snowy']})\n",
    "dummy_df = pandas.get_dummies(mydf[['feeling', 'weather']])\n",
    "pandas.concat([mydf[['temperature']],dummy_df], axis = 1)"
   ]
  },
  {
   "cell_type": "markdown",
   "metadata": {},
   "source": [
    "### sklearn OneHotEncoder"
   ]
  },
  {
   "cell_type": "code",
   "execution_count": null,
   "metadata": {},
   "outputs": [],
   "source": [
    "from sklearn.preprocessing import OneHotEncoder"
   ]
  },
  {
   "cell_type": "code",
   "execution_count": null,
   "metadata": {},
   "outputs": [],
   "source": [
    "encoder = OneHotEncoder(handle_unknown='ignore')"
   ]
  },
  {
   "cell_type": "markdown",
   "metadata": {},
   "source": [
    "## Regression"
   ]
  },
  {
   "cell_type": "code",
   "execution_count": 42,
   "metadata": {},
   "outputs": [
    {
     "data": {
      "text/plain": [
       "Index(['Order', 'PID', 'MS SubClass', 'MS Zoning', 'Lot Frontage', 'Lot Area',\n",
       "       'Street', 'Lot Shape', 'Land Contour', 'Utilities', 'Lot Config',\n",
       "       'Land Slope', 'Neighborhood', 'Condition 1', 'Condition 2', 'Bldg Type',\n",
       "       'House Style', 'Overall Qual', 'Overall Cond', 'Year Built',\n",
       "       'Year Remod/Add', 'Roof Style', 'Roof Matl', 'Exterior 1st',\n",
       "       'Exterior 2nd', 'Mas Vnr Type', 'Mas Vnr Area', 'Exter Qual',\n",
       "       'Exter Cond', 'Foundation', 'Bsmt Qual', 'Bsmt Cond', 'Bsmt Exposure',\n",
       "       'BsmtFin Type 1', 'BsmtFin SF 1', 'BsmtFin Type 2', 'BsmtFin SF 2',\n",
       "       'Bsmt Unf SF', 'Total Bsmt SF', 'Heating', 'Heating QC', 'Central Air',\n",
       "       'Electrical', '1st Flr SF', '2nd Flr SF', 'Low Qual Fin SF',\n",
       "       'Gr Liv Area', 'Bsmt Full Bath', 'Bsmt Half Bath', 'Full Bath',\n",
       "       'Half Bath', 'Bedroom AbvGr', 'Kitchen AbvGr', 'Kitchen Qual',\n",
       "       'TotRms AbvGrd'],\n",
       "      dtype='object')"
      ]
     },
     "execution_count": 42,
     "metadata": {},
     "output_type": "execute_result"
    }
   ],
   "source": [
    "df2.columns[:55]"
   ]
  },
  {
   "cell_type": "code",
   "execution_count": null,
   "metadata": {},
   "outputs": [],
   "source": [
    " Numerical Value: 'MS SubClass',  'Lot Frontage', 'Lot Area', \n",
    "        'Overall Qual', 'Overall Cond', 'Year Built', \n",
    "        'Mas Vnr Area', \n",
    "        "
   ]
  },
  {
   "cell_type": "code",
   "execution_count": null,
   "metadata": {},
   "outputs": [],
   "source": [
    "String Value: 'MS Zoning', 'Street', 'Lot Shape', 'Land Contour', 'Utilities', 'Lot Config',\n",
    "    'Land Slope', 'Neighborhood', 'Condition 1', 'Condition 2', 'Bldg Type',\n",
    "    'House Style', 'Roof Style', 'Roof Matl', 'Exterior 1st', 'Exterior 2nd', \n",
    "    'Mas Vnr Type', 'Exter Qual',"
   ]
  },
  {
   "cell_type": "code",
   "execution_count": null,
   "metadata": {},
   "outputs": [],
   "source": [
    "1 feature : 'Utilities': 'AllPub',  ( 'Mas Vnr Type', 'Mas Vnr Area' ) "
   ]
  },
  {
   "cell_type": "code",
   "execution_count": 69,
   "metadata": {
    "scrolled": false
   },
   "outputs": [
    {
     "data": {
      "text/plain": [
       "array([1.120e+02, 0.000e+00, 1.080e+02, 2.000e+01, 6.030e+02, 3.500e+02,\n",
       "       1.190e+02, 4.800e+02, 8.100e+01, 5.040e+02, 4.920e+02, 3.810e+02,\n",
       "       1.620e+02, 2.000e+02, 4.500e+02, 2.560e+02, 2.260e+02, 6.150e+02,\n",
       "       2.400e+02, 1.680e+02, 7.600e+02, 1.280e+02, 1.095e+03, 2.320e+02,\n",
       "       4.120e+02, 1.780e+02, 1.060e+02, 1.400e+01, 1.600e+01, 1.650e+02,\n",
       "       1.140e+02, 3.380e+02, 3.620e+02, 3.480e+02, 3.000e+01, 5.790e+02,\n",
       "       3.600e+01, 1.220e+02, 1.300e+02, 2.500e+02, 1.800e+02, 1.200e+02,\n",
       "       2.160e+02, 4.200e+01, 1.720e+02, 2.680e+02, 1.560e+02, 2.650e+02,\n",
       "       3.400e+02, 1.100e+02, 1.640e+02, 3.610e+02, 5.060e+02, 2.200e+02,\n",
       "       3.240e+02, 9.100e+01, 4.320e+02, 1.040e+02, 3.000e+02, 2.610e+02,\n",
       "       2.180e+02, 3.510e+02, 7.710e+02, 2.940e+02, 9.000e+01, 4.700e+01,\n",
       "       1.430e+02, 9.600e+01, 3.360e+02, 1.770e+02, 8.500e+01, 2.460e+02,\n",
       "       7.200e+01, 2.400e+01, 8.000e+01, 1.160e+02, 3.200e+02, 2.230e+02,\n",
       "       4.420e+02, 1.710e+02, 1.090e+02, 9.800e+01, 1.450e+02, 2.030e+02,\n",
       "       3.710e+02, 4.300e+02, 4.400e+01, 1.860e+02, 6.000e+01, 8.400e+01,\n",
       "       4.400e+02, 3.200e+01, 1.600e+02, 4.000e+01, 4.500e+01, 7.480e+02,\n",
       "       4.640e+02, 1.570e+02, 2.780e+02, 2.090e+02, 1.010e+02, 1.440e+02,\n",
       "       2.060e+02, 1.890e+02, 1.960e+02, 1.740e+02, 3.120e+02, 1.420e+02,\n",
       "       4.250e+02, 5.100e+02, 2.300e+02, 7.260e+02, 8.600e+02, 6.400e+02,\n",
       "       3.060e+02, 1.540e+02, 3.050e+02, 4.200e+02, 4.720e+02, 4.240e+02,\n",
       "       3.020e+02, 2.380e+02, 2.840e+02, 2.620e+02, 2.850e+02, 4.180e+02,\n",
       "       9.220e+02, 7.240e+02, 3.830e+02, 1.350e+02, 1.760e+02, 1.660e+02,\n",
       "       7.300e+02, 4.700e+02, 3.080e+02, 5.000e+02, 2.700e+02, 1.630e+02,\n",
       "       1.100e+01, 6.730e+02, 1.500e+02, 9.750e+02, 9.210e+02, 2.860e+02,\n",
       "       5.280e+02, 1.940e+02, 2.600e+02, 1.980e+02, 1.210e+02, 1.000e+02,\n",
       "       2.880e+02, 2.640e+02, 1.400e+02, 1.320e+02, 3.660e+02, 1.530e+02,\n",
       "       7.600e+01, 8.940e+02, 5.130e+02, 4.560e+02, 3.600e+02, 2.520e+02,\n",
       "       9.500e+01, 2.170e+02, 3.000e+00, 2.100e+02, 5.760e+02, 1.830e+02,\n",
       "       3.990e+02, 6.500e+02, 6.570e+02, 7.000e+01, 2.950e+02, 3.680e+02,\n",
       "       8.200e+01, 1.240e+02, 4.440e+02, 9.200e+01, 8.900e+01, 5.400e+01,\n",
       "       1.490e+02, 2.340e+02, 1.370e+02, 2.750e+02, 2.420e+02, 3.640e+02,\n",
       "       3.520e+02, 6.800e+01, 2.550e+02, 2.590e+02, 8.800e+01, 4.060e+02,\n",
       "       3.100e+02, 5.840e+02, 2.900e+02, 1.820e+02, 2.450e+02, 2.960e+02,\n",
       "       1.230e+02, 1.020e+02, 6.210e+02, 2.800e+02, 6.600e+02, 3.590e+02,\n",
       "       1.580e+02, 4.220e+02, 1.270e+02, 6.040e+02, 3.560e+02, 4.260e+02,\n",
       "       2.720e+02, 8.160e+02, 4.360e+02, 5.540e+02, 4.680e+02, 1.260e+02,\n",
       "       6.800e+02, 6.640e+02, 2.920e+02, 1.110e+03, 2.210e+02, 7.660e+02,\n",
       "       6.160e+02, 7.140e+02, 1.460e+02, 3.180e+02, 6.470e+02, 1.290e+03,\n",
       "       4.730e+02, 4.950e+02, 6.510e+02, 4.480e+02, 7.400e+01, 5.300e+01,\n",
       "       7.680e+02, 3.800e+01, 2.580e+02, 5.680e+02, 2.120e+02, 4.660e+02,\n",
       "       5.640e+02, 1.480e+02, 2.430e+02, 4.910e+02, 1.360e+02, 2.370e+02,\n",
       "       4.100e+02, 1.870e+02, 3.870e+02, 5.200e+01, 1.250e+02, 4.150e+02,\n",
       "       3.350e+02, 3.900e+01, 2.990e+02, 9.900e+01, 2.510e+02, 4.020e+02,\n",
       "       2.810e+02, 2.020e+02, 1.920e+02, 1.700e+02, 2.150e+02, 1.130e+02,\n",
       "       5.000e+01, 2.660e+02, 2.220e+02, 7.960e+02, 1.150e+02, 2.280e+02,\n",
       "       2.190e+02, 6.740e+02, 1.970e+02, 1.115e+03, 1.380e+02, 7.100e+02,\n",
       "       9.450e+02, 6.700e+01, 5.490e+02, 2.530e+02, 2.630e+02, 3.650e+02,\n",
       "       5.670e+02, 3.040e+02, 3.760e+02, 3.780e+02, 4.520e+02, 2.540e+02,\n",
       "       3.280e+02, 3.150e+02, 1.900e+02, 4.000e+02, 3.750e+02, 7.720e+02,\n",
       "       2.480e+02, 9.700e+02, 3.440e+02, 5.020e+02, 3.880e+02, 3.940e+02,\n",
       "       2.350e+02, 2.200e+01, 5.150e+02, 1.170e+03, 5.940e+02, 3.090e+02,\n",
       "       5.260e+02, 7.540e+02, 2.080e+02, 4.280e+02, 2.050e+02, 2.980e+02,\n",
       "       3.530e+02, 1.050e+02, 3.370e+02, 3.420e+02, 1.129e+03, 1.600e+03,\n",
       "       6.000e+02, 4.100e+01, 5.250e+02, 6.600e+01, 6.300e+01, 5.600e+01,\n",
       "       2.240e+02, 2.910e+02, 1.000e+00, 6.900e+01, 2.890e+02, 8.600e+01,\n",
       "       2.790e+02, 4.350e+02, 2.040e+02, 1.670e+02, 5.100e+01, 2.140e+02,\n",
       "       5.190e+02, 4.380e+02, 4.800e+01, 1.224e+03, 7.620e+02, 4.230e+02,\n",
       "       4.810e+02, 2.740e+02, 1.170e+02, 8.860e+02, 2.360e+02, 1.340e+02,\n",
       "       2.440e+02, 4.340e+02, 2.700e+01, 6.620e+02, 1.840e+02, 7.340e+02,\n",
       "       5.500e+02, 1.031e+03, 5.140e+02, 4.080e+02, 3.800e+02, 2.970e+02,\n",
       "       3.700e+02, 3.850e+02, 7.880e+02, 5.620e+02, 8.700e+02, 9.400e+01,\n",
       "       5.180e+02, 5.720e+02, 3.220e+02, 1.378e+03, 5.300e+02, 3.970e+02,\n",
       "       7.380e+02, 3.910e+02, 1.180e+02, 4.600e+01, 6.920e+02, 3.320e+02,\n",
       "       1.750e+02, 6.400e+01, 5.220e+02, 1.047e+03, 3.790e+02, 1.610e+02,\n",
       "       2.070e+02, 9.700e+01, 5.320e+02, 6.200e+01, 2.270e+02, 1.690e+02,\n",
       "       4.590e+02, 4.050e+02, 3.270e+02, 2.570e+02, 2.930e+02, 6.300e+02,\n",
       "       3.820e+02, 4.430e+02])"
      ]
     },
     "execution_count": 69,
     "metadata": {},
     "output_type": "execute_result"
    }
   ],
   "source": [
    "df2[\"Mas Vnr Area\"].unique()"
   ]
  },
  {
   "cell_type": "code",
   "execution_count": 70,
   "metadata": {},
   "outputs": [],
   "source": [
    "def validate_model(model, X, y):\n",
    "    scores = []\n",
    "    for i in range(100):\n",
    "        # distributing Training and Testing set\n",
    "        X_train, X_test, y_train, y_test = train_test_split(X, y, test_size=0.4)\n",
    "\n",
    "        model.fit(X_train, y_train)\n",
    "\n",
    "        scores.append( model.score(X_test, y_test) ) \n",
    "\n",
    "    scores = numpy.array( scores )\n",
    "    return numpy.mean( scores ), model"
   ]
  },
  {
   "cell_type": "code",
   "execution_count": 74,
   "metadata": {},
   "outputs": [],
   "source": [
    "model_X = df2[ ['Overall Qual', 'Overall Cond', 'Year Built', 'Year Remod/Add' ] ]\n",
    "model_y = df2.SalePrice"
   ]
  },
  {
   "cell_type": "code",
   "execution_count": 88,
   "metadata": {},
   "outputs": [
    {
     "data": {
      "text/plain": [
       "(0.65242815441687,\n",
       " LinearRegression(copy_X=True, fit_intercept=True, n_jobs=1, normalize=True))"
      ]
     },
     "execution_count": 88,
     "metadata": {},
     "output_type": "execute_result"
    }
   ],
   "source": [
    "# model \"Linear Regression\"\n",
    "model_LR = LinearRegression(normalize=True)\n",
    "\n",
    "score, model_LR = validate_model( model_LR, model_X, model_y )\n",
    "score, model_LR"
   ]
  },
  {
   "cell_type": "code",
   "execution_count": 77,
   "metadata": {},
   "outputs": [
    {
     "data": {
      "text/plain": [
       "(0.6530394166373299,\n",
       " LinearRegression(copy_X=True, fit_intercept=True, n_jobs=1, normalize=False))"
      ]
     },
     "execution_count": 77,
     "metadata": {},
     "output_type": "execute_result"
    }
   ],
   "source": [
    "# model \"Linear Regression\" with normalize = False\n",
    "model_LR = LinearRegression()\n",
    "\n",
    "score, model_LR = validate_model( model_LR, model_X, model_y )\n",
    "score, model_LR"
   ]
  },
  {
   "cell_type": "code",
   "execution_count": 84,
   "metadata": {},
   "outputs": [],
   "source": [
    "from sklearn import linear_model"
   ]
  },
  {
   "cell_type": "code",
   "execution_count": 86,
   "metadata": {},
   "outputs": [
    {
     "data": {
      "text/plain": [
       "(0.6510835787541679,\n",
       " LinearRegression(copy_X=True, fit_intercept=True, n_jobs=1, normalize=False))"
      ]
     },
     "execution_count": 86,
     "metadata": {},
     "output_type": "execute_result"
    }
   ],
   "source": [
    "model_R = linear_model.Ridge (alpha = .5)\n",
    "score_R, model_R = validate_model( model_LR, model_X, model_y )\n",
    "\n",
    "score_R, model_R"
   ]
  },
  {
   "cell_type": "code",
   "execution_count": 87,
   "metadata": {},
   "outputs": [
    {
     "data": {
      "text/plain": [
       "(0.6519826520060993,\n",
       " Lasso(alpha=0.1, copy_X=True, fit_intercept=True, max_iter=1000,\n",
       "    normalize=False, positive=False, precompute=False, random_state=None,\n",
       "    selection='cyclic', tol=0.0001, warm_start=False))"
      ]
     },
     "execution_count": 87,
     "metadata": {},
     "output_type": "execute_result"
    }
   ],
   "source": [
    "model_L = linear_model.Lasso(alpha = 0.1)\n",
    "score_L, model_L = validate_model( model_L, model_X, model_y )\n",
    "\n",
    "score_L, model_L"
   ]
  },
  {
   "cell_type": "code",
   "execution_count": 91,
   "metadata": {},
   "outputs": [],
   "source": [
    "df2[\"LR\"] = model_LR.predict(model_X)\n",
    "df2[\"RR\"] = model_R.predict(model_X)\n",
    "df2[\"LeR\"] = model_L.predict(model_X)"
   ]
  },
  {
   "cell_type": "code",
   "execution_count": 92,
   "metadata": {},
   "outputs": [
    {
     "data": {
      "text/html": [
       "<div>\n",
       "<style scoped>\n",
       "    .dataframe tbody tr th:only-of-type {\n",
       "        vertical-align: middle;\n",
       "    }\n",
       "\n",
       "    .dataframe tbody tr th {\n",
       "        vertical-align: top;\n",
       "    }\n",
       "\n",
       "    .dataframe thead th {\n",
       "        text-align: right;\n",
       "    }\n",
       "</style>\n",
       "<table border=\"1\" class=\"dataframe\">\n",
       "  <thead>\n",
       "    <tr style=\"text-align: right;\">\n",
       "      <th></th>\n",
       "      <th>Order</th>\n",
       "      <th>PID</th>\n",
       "      <th>MS SubClass</th>\n",
       "      <th>MS Zoning</th>\n",
       "      <th>Lot Frontage</th>\n",
       "      <th>Lot Area</th>\n",
       "      <th>Street</th>\n",
       "      <th>Lot Shape</th>\n",
       "      <th>Land Contour</th>\n",
       "      <th>Utilities</th>\n",
       "      <th>...</th>\n",
       "      <th>Pool Area</th>\n",
       "      <th>Misc Val</th>\n",
       "      <th>Mo Sold</th>\n",
       "      <th>Yr Sold</th>\n",
       "      <th>Sale Type</th>\n",
       "      <th>Sale Condition</th>\n",
       "      <th>SalePrice</th>\n",
       "      <th>LR</th>\n",
       "      <th>RR</th>\n",
       "      <th>LeR</th>\n",
       "    </tr>\n",
       "  </thead>\n",
       "  <tbody>\n",
       "    <tr>\n",
       "      <th>2743</th>\n",
       "      <td>2744</td>\n",
       "      <td>905475150</td>\n",
       "      <td>20</td>\n",
       "      <td>RL</td>\n",
       "      <td>57.0</td>\n",
       "      <td>6420</td>\n",
       "      <td>Pave</td>\n",
       "      <td>IR1</td>\n",
       "      <td>Lvl</td>\n",
       "      <td>AllPub</td>\n",
       "      <td>...</td>\n",
       "      <td>0</td>\n",
       "      <td>0</td>\n",
       "      <td>9</td>\n",
       "      <td>2006</td>\n",
       "      <td>WD</td>\n",
       "      <td>Normal</td>\n",
       "      <td>123500</td>\n",
       "      <td>115702.449958</td>\n",
       "      <td>114774.620999</td>\n",
       "      <td>116498.420081</td>\n",
       "    </tr>\n",
       "    <tr>\n",
       "      <th>51</th>\n",
       "      <td>52</td>\n",
       "      <td>528218150</td>\n",
       "      <td>20</td>\n",
       "      <td>RL</td>\n",
       "      <td>100.0</td>\n",
       "      <td>18494</td>\n",
       "      <td>Pave</td>\n",
       "      <td>IR1</td>\n",
       "      <td>Lvl</td>\n",
       "      <td>AllPub</td>\n",
       "      <td>...</td>\n",
       "      <td>0</td>\n",
       "      <td>0</td>\n",
       "      <td>1</td>\n",
       "      <td>2010</td>\n",
       "      <td>WD</td>\n",
       "      <td>Normal</td>\n",
       "      <td>199500</td>\n",
       "      <td>188665.025161</td>\n",
       "      <td>189634.047661</td>\n",
       "      <td>190893.391443</td>\n",
       "    </tr>\n",
       "    <tr>\n",
       "      <th>1185</th>\n",
       "      <td>1186</td>\n",
       "      <td>534126090</td>\n",
       "      <td>20</td>\n",
       "      <td>RL</td>\n",
       "      <td>80.0</td>\n",
       "      <td>10400</td>\n",
       "      <td>Pave</td>\n",
       "      <td>Reg</td>\n",
       "      <td>Lvl</td>\n",
       "      <td>AllPub</td>\n",
       "      <td>...</td>\n",
       "      <td>0</td>\n",
       "      <td>0</td>\n",
       "      <td>5</td>\n",
       "      <td>2008</td>\n",
       "      <td>WD</td>\n",
       "      <td>Normal</td>\n",
       "      <td>174000</td>\n",
       "      <td>215414.954708</td>\n",
       "      <td>212278.782027</td>\n",
       "      <td>212378.308637</td>\n",
       "    </tr>\n",
       "    <tr>\n",
       "      <th>1871</th>\n",
       "      <td>1872</td>\n",
       "      <td>534176140</td>\n",
       "      <td>20</td>\n",
       "      <td>RL</td>\n",
       "      <td>88.0</td>\n",
       "      <td>10738</td>\n",
       "      <td>Pave</td>\n",
       "      <td>IR1</td>\n",
       "      <td>Lvl</td>\n",
       "      <td>AllPub</td>\n",
       "      <td>...</td>\n",
       "      <td>0</td>\n",
       "      <td>400</td>\n",
       "      <td>11</td>\n",
       "      <td>2007</td>\n",
       "      <td>WD</td>\n",
       "      <td>Normal</td>\n",
       "      <td>158500</td>\n",
       "      <td>166425.417075</td>\n",
       "      <td>165224.691201</td>\n",
       "      <td>166112.329900</td>\n",
       "    </tr>\n",
       "    <tr>\n",
       "      <th>1797</th>\n",
       "      <td>1798</td>\n",
       "      <td>528458120</td>\n",
       "      <td>60</td>\n",
       "      <td>FV</td>\n",
       "      <td>75.0</td>\n",
       "      <td>9000</td>\n",
       "      <td>Pave</td>\n",
       "      <td>Reg</td>\n",
       "      <td>Lvl</td>\n",
       "      <td>AllPub</td>\n",
       "      <td>...</td>\n",
       "      <td>0</td>\n",
       "      <td>0</td>\n",
       "      <td>12</td>\n",
       "      <td>2007</td>\n",
       "      <td>WD</td>\n",
       "      <td>Normal</td>\n",
       "      <td>270000</td>\n",
       "      <td>278346.982947</td>\n",
       "      <td>276255.620087</td>\n",
       "      <td>275716.517182</td>\n",
       "    </tr>\n",
       "    <tr>\n",
       "      <th>65</th>\n",
       "      <td>66</td>\n",
       "      <td>528386040</td>\n",
       "      <td>50</td>\n",
       "      <td>RL</td>\n",
       "      <td>56.0</td>\n",
       "      <td>14720</td>\n",
       "      <td>Pave</td>\n",
       "      <td>IR1</td>\n",
       "      <td>Lvl</td>\n",
       "      <td>AllPub</td>\n",
       "      <td>...</td>\n",
       "      <td>0</td>\n",
       "      <td>0</td>\n",
       "      <td>3</td>\n",
       "      <td>2010</td>\n",
       "      <td>WD</td>\n",
       "      <td>Normal</td>\n",
       "      <td>410000</td>\n",
       "      <td>273931.937174</td>\n",
       "      <td>270829.032904</td>\n",
       "      <td>270232.150038</td>\n",
       "    </tr>\n",
       "    <tr>\n",
       "      <th>398</th>\n",
       "      <td>399</td>\n",
       "      <td>527405160</td>\n",
       "      <td>20</td>\n",
       "      <td>RL</td>\n",
       "      <td>60.0</td>\n",
       "      <td>6960</td>\n",
       "      <td>Pave</td>\n",
       "      <td>Reg</td>\n",
       "      <td>Lvl</td>\n",
       "      <td>AllPub</td>\n",
       "      <td>...</td>\n",
       "      <td>0</td>\n",
       "      <td>500</td>\n",
       "      <td>11</td>\n",
       "      <td>2009</td>\n",
       "      <td>WD</td>\n",
       "      <td>Normal</td>\n",
       "      <td>120500</td>\n",
       "      <td>81545.572276</td>\n",
       "      <td>83139.677165</td>\n",
       "      <td>85943.880802</td>\n",
       "    </tr>\n",
       "    <tr>\n",
       "      <th>2269</th>\n",
       "      <td>2270</td>\n",
       "      <td>916455150</td>\n",
       "      <td>20</td>\n",
       "      <td>RL</td>\n",
       "      <td>80.0</td>\n",
       "      <td>11305</td>\n",
       "      <td>Pave</td>\n",
       "      <td>Reg</td>\n",
       "      <td>Lvl</td>\n",
       "      <td>AllPub</td>\n",
       "      <td>...</td>\n",
       "      <td>0</td>\n",
       "      <td>0</td>\n",
       "      <td>4</td>\n",
       "      <td>2007</td>\n",
       "      <td>WD</td>\n",
       "      <td>Normal</td>\n",
       "      <td>282000</td>\n",
       "      <td>276604.171622</td>\n",
       "      <td>274140.276683</td>\n",
       "      <td>273582.488456</td>\n",
       "    </tr>\n",
       "    <tr>\n",
       "      <th>52</th>\n",
       "      <td>53</td>\n",
       "      <td>528228285</td>\n",
       "      <td>120</td>\n",
       "      <td>RL</td>\n",
       "      <td>43.0</td>\n",
       "      <td>3203</td>\n",
       "      <td>Pave</td>\n",
       "      <td>Reg</td>\n",
       "      <td>Lvl</td>\n",
       "      <td>AllPub</td>\n",
       "      <td>...</td>\n",
       "      <td>0</td>\n",
       "      <td>0</td>\n",
       "      <td>1</td>\n",
       "      <td>2010</td>\n",
       "      <td>WD</td>\n",
       "      <td>Normal</td>\n",
       "      <td>160000</td>\n",
       "      <td>233723.855470</td>\n",
       "      <td>233209.251799</td>\n",
       "      <td>233571.707903</td>\n",
       "    </tr>\n",
       "    <tr>\n",
       "      <th>1752</th>\n",
       "      <td>1753</td>\n",
       "      <td>528250070</td>\n",
       "      <td>60</td>\n",
       "      <td>RL</td>\n",
       "      <td>63.0</td>\n",
       "      <td>7875</td>\n",
       "      <td>Pave</td>\n",
       "      <td>Reg</td>\n",
       "      <td>Lvl</td>\n",
       "      <td>AllPub</td>\n",
       "      <td>...</td>\n",
       "      <td>0</td>\n",
       "      <td>0</td>\n",
       "      <td>7</td>\n",
       "      <td>2007</td>\n",
       "      <td>WD</td>\n",
       "      <td>Normal</td>\n",
       "      <td>211000</td>\n",
       "      <td>232416.746975</td>\n",
       "      <td>231622.744246</td>\n",
       "      <td>231971.186359</td>\n",
       "    </tr>\n",
       "  </tbody>\n",
       "</table>\n",
       "<p>10 rows × 80 columns</p>\n",
       "</div>"
      ],
      "text/plain": [
       "      Order        PID  MS SubClass MS Zoning  Lot Frontage  Lot Area Street  \\\n",
       "2743   2744  905475150           20        RL          57.0      6420   Pave   \n",
       "51       52  528218150           20        RL         100.0     18494   Pave   \n",
       "1185   1186  534126090           20        RL          80.0     10400   Pave   \n",
       "1871   1872  534176140           20        RL          88.0     10738   Pave   \n",
       "1797   1798  528458120           60        FV          75.0      9000   Pave   \n",
       "65       66  528386040           50        RL          56.0     14720   Pave   \n",
       "398     399  527405160           20        RL          60.0      6960   Pave   \n",
       "2269   2270  916455150           20        RL          80.0     11305   Pave   \n",
       "52       53  528228285          120        RL          43.0      3203   Pave   \n",
       "1752   1753  528250070           60        RL          63.0      7875   Pave   \n",
       "\n",
       "     Lot Shape Land Contour Utilities      ...       Pool Area Misc Val  \\\n",
       "2743       IR1          Lvl    AllPub      ...               0        0   \n",
       "51         IR1          Lvl    AllPub      ...               0        0   \n",
       "1185       Reg          Lvl    AllPub      ...               0        0   \n",
       "1871       IR1          Lvl    AllPub      ...               0      400   \n",
       "1797       Reg          Lvl    AllPub      ...               0        0   \n",
       "65         IR1          Lvl    AllPub      ...               0        0   \n",
       "398        Reg          Lvl    AllPub      ...               0      500   \n",
       "2269       Reg          Lvl    AllPub      ...               0        0   \n",
       "52         Reg          Lvl    AllPub      ...               0        0   \n",
       "1752       Reg          Lvl    AllPub      ...               0        0   \n",
       "\n",
       "     Mo Sold Yr Sold Sale Type Sale Condition SalePrice             LR  \\\n",
       "2743       9    2006       WD          Normal    123500  115702.449958   \n",
       "51         1    2010       WD          Normal    199500  188665.025161   \n",
       "1185       5    2008       WD          Normal    174000  215414.954708   \n",
       "1871      11    2007       WD          Normal    158500  166425.417075   \n",
       "1797      12    2007       WD          Normal    270000  278346.982947   \n",
       "65         3    2010       WD          Normal    410000  273931.937174   \n",
       "398       11    2009       WD          Normal    120500   81545.572276   \n",
       "2269       4    2007       WD          Normal    282000  276604.171622   \n",
       "52         1    2010       WD          Normal    160000  233723.855470   \n",
       "1752       7    2007       WD          Normal    211000  232416.746975   \n",
       "\n",
       "                 RR            LeR  \n",
       "2743  114774.620999  116498.420081  \n",
       "51    189634.047661  190893.391443  \n",
       "1185  212278.782027  212378.308637  \n",
       "1871  165224.691201  166112.329900  \n",
       "1797  276255.620087  275716.517182  \n",
       "65    270829.032904  270232.150038  \n",
       "398    83139.677165   85943.880802  \n",
       "2269  274140.276683  273582.488456  \n",
       "52    233209.251799  233571.707903  \n",
       "1752  231622.744246  231971.186359  \n",
       "\n",
       "[10 rows x 80 columns]"
      ]
     },
     "execution_count": 92,
     "metadata": {},
     "output_type": "execute_result"
    }
   ],
   "source": [
    "df2.sample(10)"
   ]
  },
  {
   "cell_type": "markdown",
   "metadata": {},
   "source": [
    "## Use multiple regression model to predict"
   ]
  },
  {
   "cell_type": "markdown",
   "metadata": {},
   "source": [
    "stacker = LinearRegression()\n",
    "stacker.fit( df[ [ 'predictedSVR', 'predictedLASSO', 'predictedGBR' ] ], df['predicted'] )\n",
    "\n",
    "stacker.predict()"
   ]
  },
  {
   "cell_type": "code",
   "execution_count": null,
   "metadata": {},
   "outputs": [],
   "source": []
  }
 ],
 "metadata": {
  "kernelspec": {
   "display_name": "Python 3",
   "language": "python",
   "name": "python3"
  },
  "language_info": {
   "codemirror_mode": {
    "name": "ipython",
    "version": 3
   },
   "file_extension": ".py",
   "mimetype": "text/x-python",
   "name": "python",
   "nbconvert_exporter": "python",
   "pygments_lexer": "ipython3",
   "version": "3.6.6"
  }
 },
 "nbformat": 4,
 "nbformat_minor": 2
}
