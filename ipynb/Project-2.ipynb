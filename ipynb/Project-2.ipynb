{
 "cells": [
  {
   "cell_type": "code",
   "execution_count": 10,
   "metadata": {},
   "outputs": [],
   "source": [
    "import pandas, seaborn, matplotlib\n",
    "import os, sys\n",
    "import numpy"
   ]
  },
  {
   "cell_type": "code",
   "execution_count": 3,
   "metadata": {},
   "outputs": [],
   "source": [
    "AmesHousing = pandas.read_excel('../data/AmesHousing.xls')"
   ]
  },
  {
   "cell_type": "code",
   "execution_count": 4,
   "metadata": {},
   "outputs": [
    {
     "data": {
      "text/plain": [
       "(2930, 82)"
      ]
     },
     "execution_count": 4,
     "metadata": {},
     "output_type": "execute_result"
    }
   ],
   "source": [
    "AmesHousing.shape"
   ]
  },
  {
   "cell_type": "code",
   "execution_count": 4,
   "metadata": {
    "scrolled": true
   },
   "outputs": [
    {
     "data": {
      "text/plain": [
       "Order                 0\n",
       "Sale Condition        0\n",
       "Heating QC            0\n",
       "Central Air           0\n",
       "1st Flr SF            0\n",
       "2nd Flr SF            0\n",
       "Low Qual Fin SF       0\n",
       "Gr Liv Area           0\n",
       "Full Bath             0\n",
       "Half Bath             0\n",
       "Bedroom AbvGr         0\n",
       "Kitchen AbvGr         0\n",
       "Kitchen Qual          0\n",
       "Foundation            0\n",
       "TotRms AbvGrd         0\n",
       "Fireplaces            0\n",
       "Paved Drive           0\n",
       "Wood Deck SF          0\n",
       "Open Porch SF         0\n",
       "Enclosed Porch        0\n",
       "3Ssn Porch            0\n",
       "Screen Porch          0\n",
       "Pool Area             0\n",
       "Misc Val              0\n",
       "Mo Sold               0\n",
       "Yr Sold               0\n",
       "Sale Type             0\n",
       "Functional            0\n",
       "Exter Cond            0\n",
       "Heating               0\n",
       "                   ... \n",
       "Roof Matl             0\n",
       "Exterior 1st          0\n",
       "Exterior 2nd          0\n",
       "Electrical            1\n",
       "BsmtFin SF 1          1\n",
       "BsmtFin SF 2          1\n",
       "Bsmt Unf SF           1\n",
       "Total Bsmt SF         1\n",
       "Garage Cars           1\n",
       "Garage Area           1\n",
       "Bsmt Half Bath        2\n",
       "Bsmt Full Bath        2\n",
       "Mas Vnr Area         23\n",
       "Mas Vnr Type         23\n",
       "Bsmt Qual            80\n",
       "Bsmt Cond            80\n",
       "BsmtFin Type 1       80\n",
       "BsmtFin Type 2       81\n",
       "Bsmt Exposure        83\n",
       "Garage Type         157\n",
       "Garage Finish       159\n",
       "Garage Cond         159\n",
       "Garage Yr Blt       159\n",
       "Garage Qual         159\n",
       "Lot Frontage        490\n",
       "Fireplace Qu       1422\n",
       "Fence              2358\n",
       "Alley              2732\n",
       "Misc Feature       2824\n",
       "Pool QC            2917\n",
       "Length: 82, dtype: int64"
      ]
     },
     "execution_count": 4,
     "metadata": {},
     "output_type": "execute_result"
    }
   ],
   "source": [
    "AmesHousing.isnull().sum().sort_values()"
   ]
  },
  {
   "cell_type": "code",
   "execution_count": 5,
   "metadata": {
    "scrolled": true
   },
   "outputs": [
    {
     "name": "stdout",
     "output_type": "stream",
     "text": [
      "(2678, 76) (2930, 82)\n"
     ]
    }
   ],
   "source": [
    "# As \"Alley\" has 2732 rows empty we're dropping it\n",
    "# Lot Frontage        490\n",
    "# Fireplace Qu       1422\n",
    "# Fence              2358\n",
    "# Alley              2732\n",
    "# Misc Feature       2824\n",
    "# Pool QC            2917\n",
    "df = AmesHousing.drop( columns = { \"Lot Frontage\", \"Fireplace Qu\", \"Fence\", \"Alley\", \"Misc Feature\", \"Pool QC\", } )\n",
    "df = df.dropna()\n",
    "print( df. shape, AmesHousing.shape)"
   ]
  },
  {
   "cell_type": "code",
   "execution_count": 6,
   "metadata": {},
   "outputs": [],
   "source": [
    "from sklearn.linear_model import LinearRegression\n",
    "from sklearn.model_selection import train_test_split"
   ]
  },
  {
   "cell_type": "code",
   "execution_count": null,
   "metadata": {},
   "outputs": [],
   "source": [
    "# model \"Linear Regression\"\n",
    "model = LinearRegression()\n",
    "\n",
    "X = df2[['Lot Area', 'Mas Vnr Area', 'Gr Liv Area']]\n",
    "y = df2.SalePrice\n",
    "\n",
    "# distributing Training and Testing set\n",
    "X_train, X_test, y_train, y_test = train_test_split(X, y, test_size=0.2)\n",
    "\n",
    "print( model.fit(X_train, y_train), model.score(X_test, y_test) )\n",
    "\n",
    "model.intercept_ , model.coef_"
   ]
  },
  {
   "cell_type": "code",
   "execution_count": null,
   "metadata": {},
   "outputs": [],
   "source": [
    "# from sklearn.cluster import KMeans\n",
    "# modelknn = KMeans(n_clusters=16)\n",
    "\n",
    "# # X (features) must be a list columns\n",
    "# X = df2[['MS SubClass']]\n",
    "\n",
    "# # Now we do the clustering\n",
    "# modelknn.fit(X)\n",
    "\n",
    "# df2['kmeans'] = modelknn.labels_    # valid because order of rows is same as order of labels.\n",
    "# seaborn.relplot(x='MS SubClass', y='SalePrice', hue='kmeans', data=df2)"
   ]
  },
  {
   "cell_type": "code",
   "execution_count": null,
   "metadata": {},
   "outputs": [],
   "source": [
    "# model \"Linear Regression\"\n",
    "model = LinearRegression()\n",
    "\n",
    "X = df2[['MS SubClass']]\n",
    "y = df2.SalePrice\n",
    "\n",
    "# distributing Training and Testing set\n",
    "X_train, X_test, y_train, y_test = train_test_split(X, y, test_size=0.2)\n",
    "\n",
    "print( model.fit(X_train, y_train), model.score(X_test, y_test), model.intercept_ , model.coef_ )"
   ]
  },
  {
   "cell_type": "code",
   "execution_count": null,
   "metadata": {},
   "outputs": [],
   "source": [
    "# S = {}\n",
    "# for column in df2.columns:\n",
    "#     # model \"Linear Regression\"\n",
    "#     model = LinearRegression()\n",
    "\n",
    "#     X = df2[[column]]\n",
    "#     y = df2.SalePrice\n",
    "\n",
    "#     # distributing Training and Testing set\n",
    "#     X_train, X_test, y_train, y_test = train_test_split(X, y, test_size=0.2)\n",
    "#     S[column] = {\"intercept\" : model.intercept_ , \"coef\" : model.coef_}\n",
    "#     print( column, \" : \", model.fit(X_train, y_train), model.score(X_test, y_test) )"
   ]
  },
  {
   "cell_type": "markdown",
   "metadata": {},
   "source": [
    "## Feature Selection\n",
    "\n",
    "Feature selection is the most important part of Regression\n",
    "\n",
    "[Feature selection](http://scikit-learn.org/stable/modules/feature_selection.html)"
   ]
  },
  {
   "cell_type": "code",
   "execution_count": null,
   "metadata": {},
   "outputs": [],
   "source": [
    "from sklearn.feature_selection import SelectKBest\n",
    "from sklearn.feature_selection import chi2"
   ]
  },
  {
   "cell_type": "code",
   "execution_count": null,
   "metadata": {},
   "outputs": [],
   "source": [
    "X, y = df[ ['Overall Qual', 'Overall Cond', 'Year Built', 'Year Remod/Add' ] ], df.SalePrice"
   ]
  },
  {
   "cell_type": "code",
   "execution_count": null,
   "metadata": {},
   "outputs": [],
   "source": [
    "df2.columns[:55]"
   ]
  },
  {
   "cell_type": "code",
   "execution_count": null,
   "metadata": {},
   "outputs": [],
   "source": [
    "X = df2.columns[2:52]"
   ]
  },
  {
   "cell_type": "code",
   "execution_count": null,
   "metadata": {
    "scrolled": false
   },
   "outputs": [],
   "source": [
    "X_new = SelectKBest(chi2, k=4).fit_transform(X, y)\n",
    "X_new.shape"
   ]
  },
  {
   "cell_type": "markdown",
   "metadata": {},
   "source": [
    "## Normalize and Standardize data with preprocessing"
   ]
  },
  {
   "cell_type": "markdown",
   "metadata": {},
   "source": [
    "### Standardize values"
   ]
  },
  {
   "cell_type": "code",
   "execution_count": 7,
   "metadata": {},
   "outputs": [],
   "source": [
    "from sklearn import preprocessing"
   ]
  },
  {
   "cell_type": "code",
   "execution_count": null,
   "metadata": {},
   "outputs": [],
   "source": [
    "def standardize_max_min(df):\n",
    "    result = df.copy()\n",
    "    \n",
    "    for feature_name in df.columns:\n",
    "        max_value = df[feature_name].max()\n",
    "        min_value = df[feature_name].min()\n",
    "        result[feature_name] = (df[feature_name] - min_value) / (max_value - min_value)\n",
    "    \n",
    "    return result"
   ]
  },
  {
   "cell_type": "code",
   "execution_count": null,
   "metadata": {},
   "outputs": [],
   "source": [
    "# https://scikit-learn.org/stable/modules/generated/sklearn.preprocessing.StandardScaler.html#sklearn.preprocessing.StandardScaler\n",
    "# class sklearn.preprocessing.StandardScaler(copy=True, with_mean=True, with_std=True)\n",
    "\n",
    "def standardize_mean_std(df):\n",
    "    result = df.copy()\n",
    "    \n",
    "    for feature_name in df.columns:\n",
    "        mean = df[feature_name].mean()\n",
    "        std = df[feature_name].std()\n",
    "        result[feature_name] = (df[feature_name] - mean) / std\n",
    "    \n",
    "    return result"
   ]
  },
  {
   "cell_type": "code",
   "execution_count": null,
   "metadata": {},
   "outputs": [],
   "source": [
    "sample = df.head(10)"
   ]
  },
  {
   "cell_type": "code",
   "execution_count": null,
   "metadata": {
    "scrolled": true
   },
   "outputs": [],
   "source": [
    "sample.iloc[ : , 0:20]"
   ]
  },
  {
   "cell_type": "code",
   "execution_count": 14,
   "metadata": {},
   "outputs": [],
   "source": [
    "# StandardScaler MinMaxScaler MaxAbsScaler\n",
    "transformer = preprocessing.MaxAbsScaler()"
   ]
  },
  {
   "cell_type": "code",
   "execution_count": 17,
   "metadata": {},
   "outputs": [
    {
     "data": {
      "text/html": [
       "<div>\n",
       "<style scoped>\n",
       "    .dataframe tbody tr th:only-of-type {\n",
       "        vertical-align: middle;\n",
       "    }\n",
       "\n",
       "    .dataframe tbody tr th {\n",
       "        vertical-align: top;\n",
       "    }\n",
       "\n",
       "    .dataframe thead th {\n",
       "        text-align: right;\n",
       "    }\n",
       "</style>\n",
       "<table border=\"1\" class=\"dataframe\">\n",
       "  <thead>\n",
       "    <tr style=\"text-align: right;\">\n",
       "      <th></th>\n",
       "      <th>Lot Area</th>\n",
       "      <th>Mas Vnr Area</th>\n",
       "      <th>BsmtFin SF 1</th>\n",
       "      <th>BsmtFin SF 2</th>\n",
       "      <th>Bsmt Unf SF</th>\n",
       "      <th>Total Bsmt SF</th>\n",
       "      <th>1st Flr SF</th>\n",
       "      <th>2nd Flr SF</th>\n",
       "      <th>Low Qual Fin SF</th>\n",
       "      <th>Gr Liv Area</th>\n",
       "      <th>Garage Area</th>\n",
       "      <th>Wood Deck SF</th>\n",
       "      <th>Open Porch SF</th>\n",
       "      <th>Enclosed Porch</th>\n",
       "      <th>Screen Porch</th>\n",
       "      <th>Pool Area</th>\n",
       "      <th>Misc Val</th>\n",
       "    </tr>\n",
       "  </thead>\n",
       "  <tbody>\n",
       "    <tr>\n",
       "      <th>0</th>\n",
       "      <td>0.147599</td>\n",
       "      <td>0.0700</td>\n",
       "      <td>0.113218</td>\n",
       "      <td>0.000000</td>\n",
       "      <td>0.188784</td>\n",
       "      <td>0.176759</td>\n",
       "      <td>0.325025</td>\n",
       "      <td>0.000000</td>\n",
       "      <td>0.0</td>\n",
       "      <td>0.293513</td>\n",
       "      <td>0.354839</td>\n",
       "      <td>0.147472</td>\n",
       "      <td>0.108772</td>\n",
       "      <td>0.0</td>\n",
       "      <td>0.000000</td>\n",
       "      <td>0.0</td>\n",
       "      <td>0.000000</td>\n",
       "    </tr>\n",
       "    <tr>\n",
       "      <th>1</th>\n",
       "      <td>0.053994</td>\n",
       "      <td>0.0000</td>\n",
       "      <td>0.082920</td>\n",
       "      <td>0.094364</td>\n",
       "      <td>0.115582</td>\n",
       "      <td>0.144354</td>\n",
       "      <td>0.175859</td>\n",
       "      <td>0.000000</td>\n",
       "      <td>0.0</td>\n",
       "      <td>0.158809</td>\n",
       "      <td>0.490591</td>\n",
       "      <td>0.098315</td>\n",
       "      <td>0.000000</td>\n",
       "      <td>0.0</td>\n",
       "      <td>0.208333</td>\n",
       "      <td>0.0</td>\n",
       "      <td>0.000000</td>\n",
       "    </tr>\n",
       "    <tr>\n",
       "      <th>2</th>\n",
       "      <td>0.066283</td>\n",
       "      <td>0.0675</td>\n",
       "      <td>0.163536</td>\n",
       "      <td>0.000000</td>\n",
       "      <td>0.173801</td>\n",
       "      <td>0.217512</td>\n",
       "      <td>0.260844</td>\n",
       "      <td>0.000000</td>\n",
       "      <td>0.0</td>\n",
       "      <td>0.235555</td>\n",
       "      <td>0.209677</td>\n",
       "      <td>0.275983</td>\n",
       "      <td>0.063158</td>\n",
       "      <td>0.0</td>\n",
       "      <td>0.000000</td>\n",
       "      <td>0.0</td>\n",
       "      <td>0.735294</td>\n",
       "    </tr>\n",
       "    <tr>\n",
       "      <th>3</th>\n",
       "      <td>0.051848</td>\n",
       "      <td>0.0000</td>\n",
       "      <td>0.188696</td>\n",
       "      <td>0.000000</td>\n",
       "      <td>0.447346</td>\n",
       "      <td>0.345336</td>\n",
       "      <td>0.414132</td>\n",
       "      <td>0.000000</td>\n",
       "      <td>0.0</td>\n",
       "      <td>0.373981</td>\n",
       "      <td>0.350806</td>\n",
       "      <td>0.000000</td>\n",
       "      <td>0.000000</td>\n",
       "      <td>0.0</td>\n",
       "      <td>0.000000</td>\n",
       "      <td>0.0</td>\n",
       "      <td>0.000000</td>\n",
       "    </tr>\n",
       "    <tr>\n",
       "      <th>4</th>\n",
       "      <td>0.064252</td>\n",
       "      <td>0.0000</td>\n",
       "      <td>0.140149</td>\n",
       "      <td>0.000000</td>\n",
       "      <td>0.058647</td>\n",
       "      <td>0.151882</td>\n",
       "      <td>0.182139</td>\n",
       "      <td>0.339467</td>\n",
       "      <td>0.0</td>\n",
       "      <td>0.288727</td>\n",
       "      <td>0.323925</td>\n",
       "      <td>0.148876</td>\n",
       "      <td>0.059649</td>\n",
       "      <td>0.0</td>\n",
       "      <td>0.000000</td>\n",
       "      <td>0.0</td>\n",
       "      <td>0.000000</td>\n",
       "    </tr>\n",
       "  </tbody>\n",
       "</table>\n",
       "</div>"
      ],
      "text/plain": [
       "   Lot Area  Mas Vnr Area  BsmtFin SF 1  BsmtFin SF 2  Bsmt Unf SF  \\\n",
       "0  0.147599        0.0700      0.113218      0.000000     0.188784   \n",
       "1  0.053994        0.0000      0.082920      0.094364     0.115582   \n",
       "2  0.066283        0.0675      0.163536      0.000000     0.173801   \n",
       "3  0.051848        0.0000      0.188696      0.000000     0.447346   \n",
       "4  0.064252        0.0000      0.140149      0.000000     0.058647   \n",
       "\n",
       "   Total Bsmt SF  1st Flr SF  2nd Flr SF  Low Qual Fin SF  Gr Liv Area  \\\n",
       "0       0.176759    0.325025    0.000000              0.0     0.293513   \n",
       "1       0.144354    0.175859    0.000000              0.0     0.158809   \n",
       "2       0.217512    0.260844    0.000000              0.0     0.235555   \n",
       "3       0.345336    0.414132    0.000000              0.0     0.373981   \n",
       "4       0.151882    0.182139    0.339467              0.0     0.288727   \n",
       "\n",
       "   Garage Area  Wood Deck SF  Open Porch SF  Enclosed Porch  Screen Porch  \\\n",
       "0     0.354839      0.147472       0.108772             0.0      0.000000   \n",
       "1     0.490591      0.098315       0.000000             0.0      0.208333   \n",
       "2     0.209677      0.275983       0.063158             0.0      0.000000   \n",
       "3     0.350806      0.000000       0.000000             0.0      0.000000   \n",
       "4     0.323925      0.148876       0.059649             0.0      0.000000   \n",
       "\n",
       "   Pool Area  Misc Val  \n",
       "0        0.0  0.000000  \n",
       "1        0.0  0.000000  \n",
       "2        0.0  0.735294  \n",
       "3        0.0  0.000000  \n",
       "4        0.0  0.000000  "
      ]
     },
     "execution_count": 17,
     "metadata": {},
     "output_type": "execute_result"
    }
   ],
   "source": [
    "# \"Lot Frontage\", \"3-Ssn Porch\", \n",
    "columns = [ \"Lot Area\", \"Mas Vnr Area\", \"BsmtFin SF 1\", \"BsmtFin SF 2\", \"Bsmt Unf SF\", \"Total Bsmt SF\", \n",
    "               \"1st Flr SF\", \"2nd Flr SF\", \"Low Qual Fin SF\", \"Gr Liv Area\", \"Garage Area\", \"Wood Deck SF\", \"Open Porch SF\",\n",
    "               \"Enclosed Porch\", \"Screen Porch\", \"Pool Area\", \"Misc Val\",  ]\n",
    "\n",
    "pandas.DataFrame( transformer.fit_transform( df[ columns ] ), columns=columns ).head()"
   ]
  },
  {
   "cell_type": "markdown",
   "metadata": {},
   "source": [
    "### Nominal Category\n",
    "\n",
    "Usually there are three possibilities:\n",
    "\n",
    "    - One-Hot encoding for categorical data\n",
    "    - Arbitrary numbers for ordinal data\n",
    "    - Use something like group means for categorical data (e. g. mean prices for city districts).\n",
    "\n",
    "You have to be carefull to not infuse information you do not have in the application case. \n",
    "    [Linear regression analysis with string or categorical features (variables)](https://stackoverflow.com/a/34008270/2049763)\n",
    "    [Encoding categorical features](https://scikit-learn.org/stable/modules/preprocessing.html#encoding-categorical-features) "
   ]
  },
  {
   "cell_type": "markdown",
   "metadata": {},
   "source": [
    "### sklearn OneHotEncoder OrdinalEncoder"
   ]
  },
  {
   "cell_type": "code",
   "execution_count": null,
   "metadata": {},
   "outputs": [],
   "source": [
    "encoder = preprocessing.OrdinalEncoder()"
   ]
  },
  {
   "cell_type": "code",
   "execution_count": null,
   "metadata": {},
   "outputs": [],
   "source": [
    "encoder.fit( df[ [ \"MS SubClass\", \"MS Zoning\", \"Street\", \"Lot Shape\", \"Land Contour\", \"Utilities\", \"Lot Config\" ] ] )"
   ]
  },
  {
   "cell_type": "code",
   "execution_count": null,
   "metadata": {},
   "outputs": [],
   "source": [
    "pandas.DataFrame( encoder.transform( \n",
    "    df[ [ \"MS SubClass\", \"MS Zoning\", \"Street\", \"Lot Shape\", \"Land Contour\", \"Utilities\", \"Lot Config\" ] ] \n",
    ") ).head(20)"
   ]
  },
  {
   "cell_type": "code",
   "execution_count": null,
   "metadata": {},
   "outputs": [],
   "source": [
    "encoder = preprocessing.OrdinalEncoder()\n",
    "\n",
    "encoder.fit_transform( df.SalePrice )"
   ]
  },
  {
   "cell_type": "markdown",
   "metadata": {},
   "source": [
    "### Pandas get_dummies\n",
    "\n",
    "works same as sklearn OneHotEncoder"
   ]
  },
  {
   "cell_type": "code",
   "execution_count": null,
   "metadata": {
    "scrolled": true
   },
   "outputs": [],
   "source": [
    "# Alley, \n",
    "columns = [ \"MS SubClass\", \"MS Zoning\", \"Street\", \"Land Contour\", \"Lot Config\", \"Neighborhood\", \"Condition 1\", \"Condition 2\",\n",
    "              \"Bldg Type\", \"House Style\", \"Roof Style\", \"Roof Matl\", \"Exterior 1\", \"Exterior 2\", \"Mas Vnr Type\", \"Foundation\",\n",
    "              \"Heating\", \"Central Air\", \"Garage Type\", \"Misc Feature\", \"Sale Type\", \"Sale Condition\", ]\n",
    "\n",
    "mydf = df[ columns ]\n",
    "dummy_df = pandas.get_dummies(mydf)\n",
    "\n",
    "pandas.concat( [ mydf, dummy_df ], axis = 1)"
   ]
  },
  {
   "cell_type": "markdown",
   "metadata": {},
   "source": [
    "### Ordinal Values"
   ]
  },
  {
   "cell_type": "code",
   "execution_count": 6,
   "metadata": {},
   "outputs": [],
   "source": [
    "from pandas.api.types import CategoricalDtype"
   ]
  },
  {
   "cell_type": "code",
   "execution_count": 1,
   "metadata": {
    "scrolled": true
   },
   "outputs": [
    {
     "ename": "NameError",
     "evalue": "name 'pandas' is not defined",
     "output_type": "error",
     "traceback": [
      "\u001b[1;31m---------------------------------------------------------------------------\u001b[0m",
      "\u001b[1;31mNameError\u001b[0m                                 Traceback (most recent call last)",
      "\u001b[1;32m<ipython-input-1-1d87f70be70f>\u001b[0m in \u001b[0;36m<module>\u001b[1;34m\u001b[0m\n\u001b[0;32m      4\u001b[0m }\n\u001b[0;32m      5\u001b[0m \u001b[1;33m\u001b[0m\u001b[0m\n\u001b[1;32m----> 6\u001b[1;33m \u001b[0mdf_ov\u001b[0m \u001b[1;33m=\u001b[0m \u001b[0mpandas\u001b[0m\u001b[1;33m.\u001b[0m\u001b[0mDataFrame\u001b[0m\u001b[1;33m(\u001b[0m\u001b[1;33m)\u001b[0m\u001b[1;33m\u001b[0m\u001b[1;33m\u001b[0m\u001b[0m\n\u001b[0m\u001b[0;32m      7\u001b[0m \u001b[1;33m\u001b[0m\u001b[0m\n\u001b[0;32m      8\u001b[0m \u001b[1;32mfor\u001b[0m \u001b[0mcolumn\u001b[0m\u001b[1;33m,\u001b[0m \u001b[0mcategory\u001b[0m \u001b[1;32min\u001b[0m \u001b[0mcolumns\u001b[0m\u001b[1;33m.\u001b[0m\u001b[0mitems\u001b[0m\u001b[1;33m(\u001b[0m\u001b[1;33m)\u001b[0m\u001b[1;33m:\u001b[0m\u001b[1;33m\u001b[0m\u001b[1;33m\u001b[0m\u001b[0m\n",
      "\u001b[1;31mNameError\u001b[0m: name 'pandas' is not defined"
     ]
    }
   ],
   "source": [
    "columns = {\n",
    "    \"Lot Shape\" : ['Reg', 'IR1', 'IR2', 'IR3' ],\n",
    "    \"Utilities\" : ['AllPub', 'NoSewr', 'NoSeWa', 'ELO' ]\n",
    "}\n",
    "\n",
    "df_ov = pandas.DataFrame()\n",
    "\n",
    "for column, category in columns.items(): \n",
    "    \n",
    "    new_series = df[ column ]\n",
    "    \n",
    "    cat_type = CategoricalDtype( categories=category, ordered=True )\n",
    "    new_series = new_series.astype(cat_type) \n",
    "    \n",
    "    # print( new_series, new_series.cat.codes ) \n",
    "\n",
    "    df_ov = pandas.concat( [ df_ov, pandas.DataFrame( df[ column ] ), pandas.DataFrame( new_series.cat.codes ) ], axis = 1)\n",
    "    \n",
    "df_ov"
   ]
  },
  {
   "cell_type": "code",
   "execution_count": 8,
   "metadata": {},
   "outputs": [],
   "source": [
    "ordinalEncoder = preprocessing.OrdinalEncoder()"
   ]
  },
  {
   "cell_type": "code",
   "execution_count": 13,
   "metadata": {},
   "outputs": [
    {
     "data": {
      "text/html": [
       "<div>\n",
       "<style scoped>\n",
       "    .dataframe tbody tr th:only-of-type {\n",
       "        vertical-align: middle;\n",
       "    }\n",
       "\n",
       "    .dataframe tbody tr th {\n",
       "        vertical-align: top;\n",
       "    }\n",
       "\n",
       "    .dataframe thead th {\n",
       "        text-align: right;\n",
       "    }\n",
       "</style>\n",
       "<table border=\"1\" class=\"dataframe\">\n",
       "  <thead>\n",
       "    <tr style=\"text-align: right;\">\n",
       "      <th></th>\n",
       "      <th>Lot Shape</th>\n",
       "      <th>Utilities</th>\n",
       "      <th>Land Slope</th>\n",
       "      <th>Overall Qual</th>\n",
       "      <th>Exter Qual</th>\n",
       "      <th>Exter Cond</th>\n",
       "      <th>Bsmt Qual</th>\n",
       "      <th>Bsmt Exposure</th>\n",
       "      <th>BsmtFin Type 1</th>\n",
       "      <th>Electrical</th>\n",
       "      <th>Functional</th>\n",
       "      <th>Garage Finish</th>\n",
       "      <th>Garage Qual</th>\n",
       "      <th>Garage Cond</th>\n",
       "      <th>Paved Drive</th>\n",
       "    </tr>\n",
       "  </thead>\n",
       "  <tbody>\n",
       "    <tr>\n",
       "      <th>1354</th>\n",
       "      <td>3.0</td>\n",
       "      <td>0.0</td>\n",
       "      <td>0.0</td>\n",
       "      <td>6.0</td>\n",
       "      <td>2.0</td>\n",
       "      <td>4.0</td>\n",
       "      <td>0.0</td>\n",
       "      <td>0.0</td>\n",
       "      <td>5.0</td>\n",
       "      <td>4.0</td>\n",
       "      <td>7.0</td>\n",
       "      <td>1.0</td>\n",
       "      <td>4.0</td>\n",
       "      <td>4.0</td>\n",
       "      <td>2.0</td>\n",
       "    </tr>\n",
       "    <tr>\n",
       "      <th>832</th>\n",
       "      <td>3.0</td>\n",
       "      <td>0.0</td>\n",
       "      <td>0.0</td>\n",
       "      <td>2.0</td>\n",
       "      <td>3.0</td>\n",
       "      <td>4.0</td>\n",
       "      <td>4.0</td>\n",
       "      <td>3.0</td>\n",
       "      <td>1.0</td>\n",
       "      <td>4.0</td>\n",
       "      <td>3.0</td>\n",
       "      <td>2.0</td>\n",
       "      <td>4.0</td>\n",
       "      <td>4.0</td>\n",
       "      <td>2.0</td>\n",
       "    </tr>\n",
       "    <tr>\n",
       "      <th>501</th>\n",
       "      <td>3.0</td>\n",
       "      <td>0.0</td>\n",
       "      <td>0.0</td>\n",
       "      <td>5.0</td>\n",
       "      <td>2.0</td>\n",
       "      <td>4.0</td>\n",
       "      <td>2.0</td>\n",
       "      <td>3.0</td>\n",
       "      <td>2.0</td>\n",
       "      <td>4.0</td>\n",
       "      <td>7.0</td>\n",
       "      <td>1.0</td>\n",
       "      <td>4.0</td>\n",
       "      <td>4.0</td>\n",
       "      <td>2.0</td>\n",
       "    </tr>\n",
       "    <tr>\n",
       "      <th>279</th>\n",
       "      <td>3.0</td>\n",
       "      <td>0.0</td>\n",
       "      <td>0.0</td>\n",
       "      <td>2.0</td>\n",
       "      <td>3.0</td>\n",
       "      <td>2.0</td>\n",
       "      <td>4.0</td>\n",
       "      <td>3.0</td>\n",
       "      <td>5.0</td>\n",
       "      <td>0.0</td>\n",
       "      <td>7.0</td>\n",
       "      <td>1.0</td>\n",
       "      <td>4.0</td>\n",
       "      <td>4.0</td>\n",
       "      <td>2.0</td>\n",
       "    </tr>\n",
       "    <tr>\n",
       "      <th>2626</th>\n",
       "      <td>0.0</td>\n",
       "      <td>0.0</td>\n",
       "      <td>0.0</td>\n",
       "      <td>4.0</td>\n",
       "      <td>3.0</td>\n",
       "      <td>4.0</td>\n",
       "      <td>4.0</td>\n",
       "      <td>3.0</td>\n",
       "      <td>5.0</td>\n",
       "      <td>4.0</td>\n",
       "      <td>7.0</td>\n",
       "      <td>2.0</td>\n",
       "      <td>1.0</td>\n",
       "      <td>4.0</td>\n",
       "      <td>2.0</td>\n",
       "    </tr>\n",
       "    <tr>\n",
       "      <th>2107</th>\n",
       "      <td>0.0</td>\n",
       "      <td>0.0</td>\n",
       "      <td>0.0</td>\n",
       "      <td>3.0</td>\n",
       "      <td>3.0</td>\n",
       "      <td>4.0</td>\n",
       "      <td>4.0</td>\n",
       "      <td>2.0</td>\n",
       "      <td>4.0</td>\n",
       "      <td>4.0</td>\n",
       "      <td>7.0</td>\n",
       "      <td>2.0</td>\n",
       "      <td>4.0</td>\n",
       "      <td>4.0</td>\n",
       "      <td>2.0</td>\n",
       "    </tr>\n",
       "    <tr>\n",
       "      <th>455</th>\n",
       "      <td>0.0</td>\n",
       "      <td>0.0</td>\n",
       "      <td>0.0</td>\n",
       "      <td>4.0</td>\n",
       "      <td>3.0</td>\n",
       "      <td>4.0</td>\n",
       "      <td>2.0</td>\n",
       "      <td>3.0</td>\n",
       "      <td>5.0</td>\n",
       "      <td>4.0</td>\n",
       "      <td>7.0</td>\n",
       "      <td>0.0</td>\n",
       "      <td>4.0</td>\n",
       "      <td>4.0</td>\n",
       "      <td>2.0</td>\n",
       "    </tr>\n",
       "    <tr>\n",
       "      <th>1879</th>\n",
       "      <td>0.0</td>\n",
       "      <td>0.0</td>\n",
       "      <td>0.0</td>\n",
       "      <td>3.0</td>\n",
       "      <td>2.0</td>\n",
       "      <td>2.0</td>\n",
       "      <td>4.0</td>\n",
       "      <td>1.0</td>\n",
       "      <td>3.0</td>\n",
       "      <td>4.0</td>\n",
       "      <td>7.0</td>\n",
       "      <td>2.0</td>\n",
       "      <td>4.0</td>\n",
       "      <td>4.0</td>\n",
       "      <td>2.0</td>\n",
       "    </tr>\n",
       "    <tr>\n",
       "      <th>1577</th>\n",
       "      <td>3.0</td>\n",
       "      <td>0.0</td>\n",
       "      <td>0.0</td>\n",
       "      <td>7.0</td>\n",
       "      <td>0.0</td>\n",
       "      <td>4.0</td>\n",
       "      <td>0.0</td>\n",
       "      <td>3.0</td>\n",
       "      <td>2.0</td>\n",
       "      <td>4.0</td>\n",
       "      <td>7.0</td>\n",
       "      <td>0.0</td>\n",
       "      <td>4.0</td>\n",
       "      <td>4.0</td>\n",
       "      <td>2.0</td>\n",
       "    </tr>\n",
       "    <tr>\n",
       "      <th>335</th>\n",
       "      <td>3.0</td>\n",
       "      <td>0.0</td>\n",
       "      <td>0.0</td>\n",
       "      <td>5.0</td>\n",
       "      <td>3.0</td>\n",
       "      <td>4.0</td>\n",
       "      <td>2.0</td>\n",
       "      <td>3.0</td>\n",
       "      <td>5.0</td>\n",
       "      <td>4.0</td>\n",
       "      <td>7.0</td>\n",
       "      <td>1.0</td>\n",
       "      <td>4.0</td>\n",
       "      <td>4.0</td>\n",
       "      <td>2.0</td>\n",
       "    </tr>\n",
       "  </tbody>\n",
       "</table>\n",
       "</div>"
      ],
      "text/plain": [
       "      Lot Shape  Utilities  Land Slope  Overall Qual  Exter Qual  Exter Cond  \\\n",
       "1354        3.0        0.0         0.0           6.0         2.0         4.0   \n",
       "832         3.0        0.0         0.0           2.0         3.0         4.0   \n",
       "501         3.0        0.0         0.0           5.0         2.0         4.0   \n",
       "279         3.0        0.0         0.0           2.0         3.0         2.0   \n",
       "2626        0.0        0.0         0.0           4.0         3.0         4.0   \n",
       "2107        0.0        0.0         0.0           3.0         3.0         4.0   \n",
       "455         0.0        0.0         0.0           4.0         3.0         4.0   \n",
       "1879        0.0        0.0         0.0           3.0         2.0         2.0   \n",
       "1577        3.0        0.0         0.0           7.0         0.0         4.0   \n",
       "335         3.0        0.0         0.0           5.0         3.0         4.0   \n",
       "\n",
       "      Bsmt Qual  Bsmt Exposure  BsmtFin Type 1  Electrical  Functional  \\\n",
       "1354        0.0            0.0             5.0         4.0         7.0   \n",
       "832         4.0            3.0             1.0         4.0         3.0   \n",
       "501         2.0            3.0             2.0         4.0         7.0   \n",
       "279         4.0            3.0             5.0         0.0         7.0   \n",
       "2626        4.0            3.0             5.0         4.0         7.0   \n",
       "2107        4.0            2.0             4.0         4.0         7.0   \n",
       "455         2.0            3.0             5.0         4.0         7.0   \n",
       "1879        4.0            1.0             3.0         4.0         7.0   \n",
       "1577        0.0            3.0             2.0         4.0         7.0   \n",
       "335         2.0            3.0             5.0         4.0         7.0   \n",
       "\n",
       "      Garage Finish  Garage Qual  Garage Cond  Paved Drive  \n",
       "1354            1.0          4.0          4.0          2.0  \n",
       "832             2.0          4.0          4.0          2.0  \n",
       "501             1.0          4.0          4.0          2.0  \n",
       "279             1.0          4.0          4.0          2.0  \n",
       "2626            2.0          1.0          4.0          2.0  \n",
       "2107            2.0          4.0          4.0          2.0  \n",
       "455             0.0          4.0          4.0          2.0  \n",
       "1879            2.0          4.0          4.0          2.0  \n",
       "1577            0.0          4.0          4.0          2.0  \n",
       "335             1.0          4.0          4.0          2.0  "
      ]
     },
     "execution_count": 13,
     "metadata": {},
     "output_type": "execute_result"
    }
   ],
   "source": [
    "# \"BsmtFinType 2\", \"HeatingQC\", \"KitchenQual\", \"FireplaceQu\", \"Pool QC\", \"Fence\"\n",
    "columns = [ \"Lot Shape\", \"Utilities\", \"Land Slope\", \"Overall Qual\", \"Exter Qual\", \"Exter Cond\", \"Bsmt Qual\", \"Bsmt Exposure\", \n",
    "              \"BsmtFin Type 1\", \"Electrical\", \"Functional\",\n",
    "              \"Garage Finish\", \"Garage Qual\", \"Garage Cond\", \"Paved Drive\", ]\n",
    "\n",
    "pandas.DataFrame( \n",
    "    ordinalEncoder.fit_transform( df[ columns ] ), columns=columns \n",
    ").sample(10)"
   ]
  },
  {
   "cell_type": "markdown",
   "metadata": {},
   "source": [
    "## Regression"
   ]
  },
  {
   "cell_type": "code",
   "execution_count": null,
   "metadata": {},
   "outputs": [],
   "source": [
    "df2.columns[:55]"
   ]
  },
  {
   "cell_type": "code",
   "execution_count": null,
   "metadata": {},
   "outputs": [],
   "source": [
    " Numerical Value: 'MS SubClass',  'Lot Frontage', 'Lot Area', \n",
    "        'Overall Qual', 'Overall Cond', 'Year Built', \n",
    "        'Mas Vnr Area', \n",
    "        "
   ]
  },
  {
   "cell_type": "code",
   "execution_count": null,
   "metadata": {},
   "outputs": [],
   "source": [
    "String Value: 'MS Zoning', 'Street', 'Lot Shape', 'Land Contour', 'Utilities', 'Lot Config',\n",
    "    'Land Slope', 'Neighborhood', 'Condition 1', 'Condition 2', 'Bldg Type',\n",
    "    'House Style', 'Roof Style', 'Roof Matl', 'Exterior 1st', 'Exterior 2nd', \n",
    "    'Mas Vnr Type', 'Exter Qual',"
   ]
  },
  {
   "cell_type": "code",
   "execution_count": null,
   "metadata": {},
   "outputs": [],
   "source": [
    "1 feature : 'Utilities': 'AllPub',  ( 'Mas Vnr Type', 'Mas Vnr Area' ) "
   ]
  },
  {
   "cell_type": "code",
   "execution_count": null,
   "metadata": {
    "scrolled": false
   },
   "outputs": [],
   "source": [
    "df2[\"Mas Vnr Area\"].unique()"
   ]
  },
  {
   "cell_type": "code",
   "execution_count": null,
   "metadata": {},
   "outputs": [],
   "source": [
    "def validate_model(model, X, y):\n",
    "    scores = []\n",
    "    for i in range(100):\n",
    "        # distributing Training and Testing set\n",
    "        X_train, X_test, y_train, y_test = train_test_split(X, y, test_size=0.4)\n",
    "\n",
    "        model.fit(X_train, y_train)\n",
    "\n",
    "        scores.append( model.score(X_test, y_test) ) \n",
    "\n",
    "    scores = numpy.array( scores )\n",
    "    return numpy.mean( scores ), model"
   ]
  },
  {
   "cell_type": "code",
   "execution_count": null,
   "metadata": {},
   "outputs": [],
   "source": [
    "model_X = df2[ ['Overall Qual', 'Overall Cond', 'Year Built', 'Year Remod/Add' ] ]\n",
    "model_y = df2.SalePrice"
   ]
  },
  {
   "cell_type": "code",
   "execution_count": null,
   "metadata": {},
   "outputs": [],
   "source": [
    "# model \"Linear Regression\"\n",
    "model_LR = LinearRegression(normalize=True)\n",
    "\n",
    "score, model_LR = validate_model( model_LR, model_X, model_y )\n",
    "score, model_LR"
   ]
  },
  {
   "cell_type": "code",
   "execution_count": null,
   "metadata": {},
   "outputs": [],
   "source": [
    "# model \"Linear Regression\" with normalize = False\n",
    "model_LR = LinearRegression()\n",
    "\n",
    "score, model_LR = validate_model( model_LR, model_X, model_y )\n",
    "score, model_LR"
   ]
  },
  {
   "cell_type": "code",
   "execution_count": null,
   "metadata": {},
   "outputs": [],
   "source": [
    "from sklearn import linear_model"
   ]
  },
  {
   "cell_type": "code",
   "execution_count": null,
   "metadata": {},
   "outputs": [],
   "source": [
    "model_R = linear_model.Ridge (alpha = .5)\n",
    "score_R, model_R = validate_model( model_LR, model_X, model_y )\n",
    "\n",
    "score_R, model_R"
   ]
  },
  {
   "cell_type": "code",
   "execution_count": null,
   "metadata": {},
   "outputs": [],
   "source": [
    "model_L = linear_model.Lasso(alpha = 0.1)\n",
    "score_L, model_L = validate_model( model_L, model_X, model_y )\n",
    "\n",
    "score_L, model_L"
   ]
  },
  {
   "cell_type": "code",
   "execution_count": null,
   "metadata": {},
   "outputs": [],
   "source": [
    "df2[\"LR\"] = model_LR.predict(model_X)\n",
    "df2[\"RR\"] = model_R.predict(model_X)\n",
    "df2[\"LeR\"] = model_L.predict(model_X)"
   ]
  },
  {
   "cell_type": "code",
   "execution_count": null,
   "metadata": {},
   "outputs": [],
   "source": [
    "df2.sample(10)"
   ]
  },
  {
   "cell_type": "markdown",
   "metadata": {},
   "source": [
    "## Use multiple regression model to predict"
   ]
  },
  {
   "cell_type": "markdown",
   "metadata": {},
   "source": [
    "stacker = LinearRegression()\n",
    "stacker.fit( df[ [ 'predictedSVR', 'predictedLASSO', 'predictedGBR' ] ], df['predicted'] )\n",
    "\n",
    "stacker.predict()"
   ]
  },
  {
   "cell_type": "code",
   "execution_count": null,
   "metadata": {},
   "outputs": [],
   "source": []
  }
 ],
 "metadata": {
  "kernelspec": {
   "display_name": "Python 3",
   "language": "python",
   "name": "python3"
  },
  "language_info": {
   "codemirror_mode": {
    "name": "ipython",
    "version": 3
   },
   "file_extension": ".py",
   "mimetype": "text/x-python",
   "name": "python",
   "nbconvert_exporter": "python",
   "pygments_lexer": "ipython3",
   "version": "3.6.6"
  }
 },
 "nbformat": 4,
 "nbformat_minor": 2
}
