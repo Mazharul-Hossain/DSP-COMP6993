{
 "cells": [
  {
   "cell_type": "markdown",
   "metadata": {},
   "source": [
    "## Ames Housing price prediction with Scikit Learn Regression "
   ]
  },
  {
   "cell_type": "code",
   "execution_count": 1,
   "metadata": {},
   "outputs": [],
   "source": [
    "import pandas, seaborn, matplotlib\n",
    "import os, sys\n",
    "import numpy"
   ]
  },
  {
   "cell_type": "code",
   "execution_count": 2,
   "metadata": {},
   "outputs": [],
   "source": [
    "AmesHousing = pandas.read_excel('../data/AmesHousing.xls')"
   ]
  },
  {
   "cell_type": "code",
   "execution_count": 3,
   "metadata": {
    "scrolled": true
   },
   "outputs": [
    {
     "name": "stdout",
     "output_type": "stream",
     "text": [
      "(2678, 76) (2930, 82)\n"
     ]
    }
   ],
   "source": [
    "# As \"Alley\" has 2732 rows empty we're dropping it\n",
    "# Lot Frontage        490\n",
    "# Fireplace Qu       1422\n",
    "# Fence              2358\n",
    "# Alley              2732\n",
    "# Misc Feature       2824\n",
    "# Pool QC            2917\n",
    "\n",
    "df = AmesHousing.drop( columns = [ \"Lot Frontage\", \"Fireplace Qu\", \"Fence\", \"Alley\", \"Misc Feature\", \"Pool QC\" ] )\n",
    "df.dropna(inplace=True)\n",
    "df.reset_index( drop=True, inplace=True )\n",
    "\n",
    "print( df.shape, AmesHousing.shape)"
   ]
  },
  {
   "cell_type": "markdown",
   "metadata": {},
   "source": [
    "## Normalize and Standardize data with preprocessing"
   ]
  },
  {
   "cell_type": "markdown",
   "metadata": {},
   "source": [
    "### Standardize values"
   ]
  },
  {
   "cell_type": "code",
   "execution_count": 4,
   "metadata": {},
   "outputs": [],
   "source": [
    "from sklearn import preprocessing"
   ]
  },
  {
   "cell_type": "code",
   "execution_count": 5,
   "metadata": {},
   "outputs": [],
   "source": [
    "# StandardScaler MinMaxScaler MaxAbsScaler\n",
    "transformer = preprocessing.MaxAbsScaler()"
   ]
  },
  {
   "cell_type": "code",
   "execution_count": 6,
   "metadata": {},
   "outputs": [],
   "source": [
    "# \"Lot Frontage\", \"3-Ssn Porch\", \n",
    "columns = [ \"Lot Area\", \"Mas Vnr Area\", \"BsmtFin SF 1\", \"BsmtFin SF 2\", \"Bsmt Unf SF\", \"Total Bsmt SF\", \n",
    "               \"1st Flr SF\", \"2nd Flr SF\", \"Low Qual Fin SF\", \"Gr Liv Area\", \"Garage Area\", \"Wood Deck SF\", \"Open Porch SF\",\n",
    "               \"Enclosed Porch\", \"Screen Porch\", \"Pool Area\", \"Misc Val\",  ]\n",
    "\n",
    "temp_df = df[ columns ]"
   ]
  },
  {
   "cell_type": "code",
   "execution_count": 7,
   "metadata": {},
   "outputs": [],
   "source": [
    "df.drop( columns=columns, inplace=True )\n",
    "df = pandas.concat( [ df, pandas.DataFrame( transformer.fit_transform( temp_df ), columns=columns ) ], axis=1 )"
   ]
  },
  {
   "cell_type": "markdown",
   "metadata": {},
   "source": [
    "### Nominal Category\n",
    "\n",
    "Usually there are three possibilities:\n",
    "\n",
    "    - One-Hot encoding for categorical data\n",
    "    - Arbitrary numbers for ordinal data\n",
    "    - Use something like group means for categorical data (e. g. mean prices for city districts).\n",
    "\n",
    "You have to be carefull to not infuse information you do not have in the application case. \n",
    "    [Linear regression analysis with string or categorical features (variables)](https://stackoverflow.com/a/34008270/2049763)\n",
    "    [Encoding categorical features](https://scikit-learn.org/stable/modules/preprocessing.html#encoding-categorical-features) "
   ]
  },
  {
   "cell_type": "markdown",
   "metadata": {},
   "source": [
    "### Pandas get_dummies\n",
    "\n",
    "works same as sklearn OneHotEncoder"
   ]
  },
  {
   "cell_type": "code",
   "execution_count": 8,
   "metadata": {
    "scrolled": true
   },
   "outputs": [],
   "source": [
    "# Alley, \"Misc Feature\",  \n",
    "columns = [ \"MS SubClass\", \"MS Zoning\", \"Street\", \"Land Contour\", \"Lot Config\", \"Neighborhood\", \"Condition 1\", \"Condition 2\",\n",
    "              \"Bldg Type\", \"House Style\", \"Roof Style\", \"Roof Matl\", \"Mas Vnr Type\", \"Foundation\", \"Exterior 1st\", \n",
    "               \"Exterior 2nd\", \"Heating\", \"Central Air\", \"Garage Type\", \"Sale Type\", \"Sale Condition\", ]\n",
    "\n",
    "temp_df = df[ columns ]"
   ]
  },
  {
   "cell_type": "code",
   "execution_count": 9,
   "metadata": {},
   "outputs": [],
   "source": [
    "df.drop( columns=columns, inplace=True )\n",
    "dummy_df = pandas.get_dummies( temp_df )\n",
    "\n",
    "df = pandas.concat( [ df, dummy_df ], axis = 1)"
   ]
  },
  {
   "cell_type": "markdown",
   "metadata": {},
   "source": [
    "### Ordinal Values"
   ]
  },
  {
   "cell_type": "code",
   "execution_count": 10,
   "metadata": {},
   "outputs": [],
   "source": [
    "ordinalEncoder = preprocessing.OrdinalEncoder()"
   ]
  },
  {
   "cell_type": "code",
   "execution_count": 11,
   "metadata": {},
   "outputs": [],
   "source": [
    "# \"BsmtFinType 2\", \"Fireplace Qu\", \"Pool QC\", \"Fence\"\n",
    "columns = [ \"Lot Shape\", \"Utilities\", \"Land Slope\", \"Overall Qual\", \"Exter Qual\", \"Exter Cond\", \"Bsmt Qual\", \"Bsmt Exposure\", \n",
    "              \"BsmtFin Type 1\", \"BsmtFin Type 2\", \"Electrical\", \"Functional\", \"Kitchen Qual\", \"Heating QC\", \"Bsmt Cond\",\n",
    "              \"Garage Finish\", \"Garage Qual\", \"Garage Cond\", \"Paved Drive\", ]\n",
    "\n",
    "temp_df = df[ columns ]"
   ]
  },
  {
   "cell_type": "code",
   "execution_count": 12,
   "metadata": {
    "scrolled": true
   },
   "outputs": [],
   "source": [
    "df.drop( columns=columns, inplace=True )\n",
    "\n",
    "df = pandas.concat( [ df, pandas.DataFrame(\n",
    "    ordinalEncoder.fit_transform( temp_df ), columns=columns \n",
    ") ], axis = 1)"
   ]
  },
  {
   "cell_type": "code",
   "execution_count": 13,
   "metadata": {},
   "outputs": [
    {
     "data": {
      "text/plain": [
       "(2678, 213)"
      ]
     },
     "execution_count": 13,
     "metadata": {},
     "output_type": "execute_result"
    }
   ],
   "source": [
    "df.dropna(inplace=True)\n",
    "df.reset_index( drop=True, inplace=True )\n",
    "\n",
    "df.shape"
   ]
  },
  {
   "cell_type": "code",
   "execution_count": 14,
   "metadata": {},
   "outputs": [
    {
     "data": {
      "text/html": [
       "<div>\n",
       "<style scoped>\n",
       "    .dataframe tbody tr th:only-of-type {\n",
       "        vertical-align: middle;\n",
       "    }\n",
       "\n",
       "    .dataframe tbody tr th {\n",
       "        vertical-align: top;\n",
       "    }\n",
       "\n",
       "    .dataframe thead th {\n",
       "        text-align: right;\n",
       "    }\n",
       "</style>\n",
       "<table border=\"1\" class=\"dataframe\">\n",
       "  <thead>\n",
       "    <tr style=\"text-align: right;\">\n",
       "      <th></th>\n",
       "      <th>Kitchen AbvGr</th>\n",
       "      <th>TotRms AbvGrd</th>\n",
       "      <th>Fireplaces</th>\n",
       "      <th>Garage Yr Blt</th>\n",
       "      <th>Garage Cars</th>\n",
       "      <th>3Ssn Porch</th>\n",
       "      <th>Mo Sold</th>\n",
       "      <th>Yr Sold</th>\n",
       "      <th>SalePrice</th>\n",
       "      <th>Lot Area</th>\n",
       "      <th>...</th>\n",
       "      <th>Lot Config_CulDSac</th>\n",
       "      <th>Lot Config_FR2</th>\n",
       "      <th>Lot Config_FR3</th>\n",
       "      <th>Lot Config_Inside</th>\n",
       "      <th>Neighborhood_Blmngtn</th>\n",
       "      <th>Neighborhood_Blueste</th>\n",
       "      <th>Neighborhood_BrDale</th>\n",
       "      <th>Neighborhood_BrkSide</th>\n",
       "      <th>Neighborhood_ClearCr</th>\n",
       "      <th>Neighborhood_CollgCr</th>\n",
       "    </tr>\n",
       "  </thead>\n",
       "  <tbody>\n",
       "    <tr>\n",
       "      <th>591</th>\n",
       "      <td>1</td>\n",
       "      <td>7</td>\n",
       "      <td>1</td>\n",
       "      <td>1920.0</td>\n",
       "      <td>1.0</td>\n",
       "      <td>0</td>\n",
       "      <td>6</td>\n",
       "      <td>2009</td>\n",
       "      <td>104900</td>\n",
       "      <td>0.058134</td>\n",
       "      <td>...</td>\n",
       "      <td>0</td>\n",
       "      <td>1</td>\n",
       "      <td>0</td>\n",
       "      <td>0</td>\n",
       "      <td>0</td>\n",
       "      <td>0</td>\n",
       "      <td>0</td>\n",
       "      <td>0</td>\n",
       "      <td>0</td>\n",
       "      <td>0</td>\n",
       "    </tr>\n",
       "    <tr>\n",
       "      <th>1111</th>\n",
       "      <td>1</td>\n",
       "      <td>9</td>\n",
       "      <td>1</td>\n",
       "      <td>1968.0</td>\n",
       "      <td>2.0</td>\n",
       "      <td>0</td>\n",
       "      <td>4</td>\n",
       "      <td>2008</td>\n",
       "      <td>176000</td>\n",
       "      <td>0.045994</td>\n",
       "      <td>...</td>\n",
       "      <td>0</td>\n",
       "      <td>0</td>\n",
       "      <td>0</td>\n",
       "      <td>1</td>\n",
       "      <td>0</td>\n",
       "      <td>0</td>\n",
       "      <td>0</td>\n",
       "      <td>0</td>\n",
       "      <td>0</td>\n",
       "      <td>0</td>\n",
       "    </tr>\n",
       "    <tr>\n",
       "      <th>1376</th>\n",
       "      <td>1</td>\n",
       "      <td>8</td>\n",
       "      <td>0</td>\n",
       "      <td>1955.0</td>\n",
       "      <td>1.0</td>\n",
       "      <td>0</td>\n",
       "      <td>4</td>\n",
       "      <td>2008</td>\n",
       "      <td>135500</td>\n",
       "      <td>0.076499</td>\n",
       "      <td>...</td>\n",
       "      <td>0</td>\n",
       "      <td>0</td>\n",
       "      <td>0</td>\n",
       "      <td>1</td>\n",
       "      <td>0</td>\n",
       "      <td>0</td>\n",
       "      <td>0</td>\n",
       "      <td>0</td>\n",
       "      <td>0</td>\n",
       "      <td>0</td>\n",
       "    </tr>\n",
       "    <tr>\n",
       "      <th>2395</th>\n",
       "      <td>1</td>\n",
       "      <td>6</td>\n",
       "      <td>1</td>\n",
       "      <td>1965.0</td>\n",
       "      <td>2.0</td>\n",
       "      <td>0</td>\n",
       "      <td>12</td>\n",
       "      <td>2006</td>\n",
       "      <td>160000</td>\n",
       "      <td>0.040224</td>\n",
       "      <td>...</td>\n",
       "      <td>0</td>\n",
       "      <td>0</td>\n",
       "      <td>0</td>\n",
       "      <td>1</td>\n",
       "      <td>0</td>\n",
       "      <td>0</td>\n",
       "      <td>0</td>\n",
       "      <td>0</td>\n",
       "      <td>0</td>\n",
       "      <td>0</td>\n",
       "    </tr>\n",
       "    <tr>\n",
       "      <th>2296</th>\n",
       "      <td>1</td>\n",
       "      <td>4</td>\n",
       "      <td>0</td>\n",
       "      <td>2005.0</td>\n",
       "      <td>2.0</td>\n",
       "      <td>0</td>\n",
       "      <td>6</td>\n",
       "      <td>2006</td>\n",
       "      <td>151000</td>\n",
       "      <td>0.014774</td>\n",
       "      <td>...</td>\n",
       "      <td>0</td>\n",
       "      <td>0</td>\n",
       "      <td>0</td>\n",
       "      <td>1</td>\n",
       "      <td>0</td>\n",
       "      <td>0</td>\n",
       "      <td>0</td>\n",
       "      <td>0</td>\n",
       "      <td>0</td>\n",
       "      <td>0</td>\n",
       "    </tr>\n",
       "    <tr>\n",
       "      <th>2378</th>\n",
       "      <td>1</td>\n",
       "      <td>4</td>\n",
       "      <td>0</td>\n",
       "      <td>1951.0</td>\n",
       "      <td>1.0</td>\n",
       "      <td>0</td>\n",
       "      <td>6</td>\n",
       "      <td>2006</td>\n",
       "      <td>142000</td>\n",
       "      <td>0.071676</td>\n",
       "      <td>...</td>\n",
       "      <td>0</td>\n",
       "      <td>0</td>\n",
       "      <td>0</td>\n",
       "      <td>1</td>\n",
       "      <td>0</td>\n",
       "      <td>0</td>\n",
       "      <td>0</td>\n",
       "      <td>0</td>\n",
       "      <td>0</td>\n",
       "      <td>0</td>\n",
       "    </tr>\n",
       "    <tr>\n",
       "      <th>582</th>\n",
       "      <td>1</td>\n",
       "      <td>6</td>\n",
       "      <td>0</td>\n",
       "      <td>1950.0</td>\n",
       "      <td>1.0</td>\n",
       "      <td>0</td>\n",
       "      <td>9</td>\n",
       "      <td>2009</td>\n",
       "      <td>140000</td>\n",
       "      <td>0.044600</td>\n",
       "      <td>...</td>\n",
       "      <td>0</td>\n",
       "      <td>0</td>\n",
       "      <td>0</td>\n",
       "      <td>1</td>\n",
       "      <td>0</td>\n",
       "      <td>0</td>\n",
       "      <td>0</td>\n",
       "      <td>0</td>\n",
       "      <td>0</td>\n",
       "      <td>0</td>\n",
       "    </tr>\n",
       "    <tr>\n",
       "      <th>2594</th>\n",
       "      <td>1</td>\n",
       "      <td>7</td>\n",
       "      <td>0</td>\n",
       "      <td>2004.0</td>\n",
       "      <td>2.0</td>\n",
       "      <td>0</td>\n",
       "      <td>4</td>\n",
       "      <td>2006</td>\n",
       "      <td>130000</td>\n",
       "      <td>0.011717</td>\n",
       "      <td>...</td>\n",
       "      <td>0</td>\n",
       "      <td>0</td>\n",
       "      <td>0</td>\n",
       "      <td>1</td>\n",
       "      <td>0</td>\n",
       "      <td>0</td>\n",
       "      <td>0</td>\n",
       "      <td>0</td>\n",
       "      <td>0</td>\n",
       "      <td>0</td>\n",
       "    </tr>\n",
       "    <tr>\n",
       "      <th>2671</th>\n",
       "      <td>2</td>\n",
       "      <td>8</td>\n",
       "      <td>0</td>\n",
       "      <td>1976.0</td>\n",
       "      <td>2.0</td>\n",
       "      <td>0</td>\n",
       "      <td>7</td>\n",
       "      <td>2006</td>\n",
       "      <td>188000</td>\n",
       "      <td>0.043193</td>\n",
       "      <td>...</td>\n",
       "      <td>0</td>\n",
       "      <td>0</td>\n",
       "      <td>0</td>\n",
       "      <td>1</td>\n",
       "      <td>0</td>\n",
       "      <td>0</td>\n",
       "      <td>0</td>\n",
       "      <td>0</td>\n",
       "      <td>0</td>\n",
       "      <td>0</td>\n",
       "    </tr>\n",
       "    <tr>\n",
       "      <th>228</th>\n",
       "      <td>1</td>\n",
       "      <td>5</td>\n",
       "      <td>0</td>\n",
       "      <td>1992.0</td>\n",
       "      <td>2.0</td>\n",
       "      <td>0</td>\n",
       "      <td>4</td>\n",
       "      <td>2010</td>\n",
       "      <td>147000</td>\n",
       "      <td>0.042133</td>\n",
       "      <td>...</td>\n",
       "      <td>0</td>\n",
       "      <td>0</td>\n",
       "      <td>0</td>\n",
       "      <td>1</td>\n",
       "      <td>0</td>\n",
       "      <td>0</td>\n",
       "      <td>0</td>\n",
       "      <td>0</td>\n",
       "      <td>0</td>\n",
       "      <td>0</td>\n",
       "    </tr>\n",
       "  </tbody>\n",
       "</table>\n",
       "<p>10 rows × 50 columns</p>\n",
       "</div>"
      ],
      "text/plain": [
       "      Kitchen AbvGr  TotRms AbvGrd  Fireplaces  Garage Yr Blt  Garage Cars  \\\n",
       "591               1              7           1         1920.0          1.0   \n",
       "1111              1              9           1         1968.0          2.0   \n",
       "1376              1              8           0         1955.0          1.0   \n",
       "2395              1              6           1         1965.0          2.0   \n",
       "2296              1              4           0         2005.0          2.0   \n",
       "2378              1              4           0         1951.0          1.0   \n",
       "582               1              6           0         1950.0          1.0   \n",
       "2594              1              7           0         2004.0          2.0   \n",
       "2671              2              8           0         1976.0          2.0   \n",
       "228               1              5           0         1992.0          2.0   \n",
       "\n",
       "      3Ssn Porch  Mo Sold  Yr Sold  SalePrice  Lot Area          ...           \\\n",
       "591            0        6     2009     104900  0.058134          ...            \n",
       "1111           0        4     2008     176000  0.045994          ...            \n",
       "1376           0        4     2008     135500  0.076499          ...            \n",
       "2395           0       12     2006     160000  0.040224          ...            \n",
       "2296           0        6     2006     151000  0.014774          ...            \n",
       "2378           0        6     2006     142000  0.071676          ...            \n",
       "582            0        9     2009     140000  0.044600          ...            \n",
       "2594           0        4     2006     130000  0.011717          ...            \n",
       "2671           0        7     2006     188000  0.043193          ...            \n",
       "228            0        4     2010     147000  0.042133          ...            \n",
       "\n",
       "      Lot Config_CulDSac  Lot Config_FR2  Lot Config_FR3  Lot Config_Inside  \\\n",
       "591                    0               1               0                  0   \n",
       "1111                   0               0               0                  1   \n",
       "1376                   0               0               0                  1   \n",
       "2395                   0               0               0                  1   \n",
       "2296                   0               0               0                  1   \n",
       "2378                   0               0               0                  1   \n",
       "582                    0               0               0                  1   \n",
       "2594                   0               0               0                  1   \n",
       "2671                   0               0               0                  1   \n",
       "228                    0               0               0                  1   \n",
       "\n",
       "      Neighborhood_Blmngtn  Neighborhood_Blueste  Neighborhood_BrDale  \\\n",
       "591                      0                     0                    0   \n",
       "1111                     0                     0                    0   \n",
       "1376                     0                     0                    0   \n",
       "2395                     0                     0                    0   \n",
       "2296                     0                     0                    0   \n",
       "2378                     0                     0                    0   \n",
       "582                      0                     0                    0   \n",
       "2594                     0                     0                    0   \n",
       "2671                     0                     0                    0   \n",
       "228                      0                     0                    0   \n",
       "\n",
       "      Neighborhood_BrkSide  Neighborhood_ClearCr  Neighborhood_CollgCr  \n",
       "591                      0                     0                     0  \n",
       "1111                     0                     0                     0  \n",
       "1376                     0                     0                     0  \n",
       "2395                     0                     0                     0  \n",
       "2296                     0                     0                     0  \n",
       "2378                     0                     0                     0  \n",
       "582                      0                     0                     0  \n",
       "2594                     0                     0                     0  \n",
       "2671                     0                     0                     0  \n",
       "228                      0                     0                     0  \n",
       "\n",
       "[10 rows x 50 columns]"
      ]
     },
     "execution_count": 14,
     "metadata": {},
     "output_type": "execute_result"
    }
   ],
   "source": [
    "df.sample(10).iloc[ : , 10:60]"
   ]
  },
  {
   "cell_type": "markdown",
   "metadata": {},
   "source": [
    "## Feature Selection\n",
    "\n",
    "Feature selection is the most important part of Regression\n",
    "\n",
    "[Feature selection](http://scikit-learn.org/stable/modules/feature_selection.html)"
   ]
  },
  {
   "cell_type": "code",
   "execution_count": 15,
   "metadata": {},
   "outputs": [],
   "source": [
    "from sklearn.feature_selection import SelectKBest\n",
    "from sklearn.feature_selection import chi2\n",
    "\n",
    "from sklearn.model_selection import train_test_split\n",
    "from sklearn.utils import shuffle"
   ]
  },
  {
   "cell_type": "code",
   "execution_count": 16,
   "metadata": {},
   "outputs": [],
   "source": [
    "data_frame = shuffle(df)"
   ]
  },
  {
   "cell_type": "code",
   "execution_count": 17,
   "metadata": {},
   "outputs": [
    {
     "data": {
      "text/plain": [
       "(2678, 211)"
      ]
     },
     "execution_count": 17,
     "metadata": {},
     "output_type": "execute_result"
    }
   ],
   "source": [
    "X, y = data_frame.iloc[ : , 2: ], data_frame.SalePrice\n",
    "\n",
    "X.shape"
   ]
  },
  {
   "cell_type": "code",
   "execution_count": 18,
   "metadata": {},
   "outputs": [
    {
     "data": {
      "text/plain": [
       "(1607, 211)"
      ]
     },
     "execution_count": 18,
     "metadata": {},
     "output_type": "execute_result"
    }
   ],
   "source": [
    "test_size=0.4\n",
    "\n",
    "# test \n",
    "X_test, y_test = X[ : int( len(X) * test_size ) ] , y[ : int( len(X) * test_size ) ]\n",
    "\n",
    "# Train\n",
    "model_X, model_y = X[ int( len(X) * test_size ) : ] , y[ int( len(X) * test_size ) : ]\n",
    "\n",
    "model_X.shape"
   ]
  },
  {
   "cell_type": "code",
   "execution_count": 19,
   "metadata": {
    "scrolled": false
   },
   "outputs": [],
   "source": [
    "selector = SelectKBest(chi2, k=10)\n",
    "selector.fit( model_X, model_y )\n",
    "\n",
    "# Get idxs of columns to keep\n",
    "idxs_selected = selector.get_support(indices=True)\n",
    "\n",
    "# Create new dataframe with only desired columns, or overwrite existing\n",
    "columns = model_X.columns[ idxs_selected ]\n",
    "\n",
    "X_test = X_test[ columns ] \n",
    "model_X = model_X[ columns ]"
   ]
  },
  {
   "cell_type": "code",
   "execution_count": 20,
   "metadata": {},
   "outputs": [
    {
     "data": {
      "text/html": [
       "<div>\n",
       "<style scoped>\n",
       "    .dataframe tbody tr th:only-of-type {\n",
       "        vertical-align: middle;\n",
       "    }\n",
       "\n",
       "    .dataframe tbody tr th {\n",
       "        vertical-align: top;\n",
       "    }\n",
       "\n",
       "    .dataframe thead th {\n",
       "        text-align: right;\n",
       "    }\n",
       "</style>\n",
       "<table border=\"1\" class=\"dataframe\">\n",
       "  <thead>\n",
       "    <tr style=\"text-align: right;\">\n",
       "      <th></th>\n",
       "      <th>3Ssn Porch</th>\n",
       "      <th>SalePrice</th>\n",
       "      <th>MS SubClass</th>\n",
       "      <th>Neighborhood_Greens</th>\n",
       "      <th>Neighborhood_GrnHill</th>\n",
       "      <th>Condition 2_RRNn</th>\n",
       "      <th>Exterior 1st_ImStucc</th>\n",
       "      <th>Exterior 1st_Stone</th>\n",
       "      <th>Exterior 2nd_Other</th>\n",
       "      <th>Heating QC</th>\n",
       "    </tr>\n",
       "  </thead>\n",
       "  <tbody>\n",
       "    <tr>\n",
       "      <th>1236</th>\n",
       "      <td>0</td>\n",
       "      <td>129900</td>\n",
       "      <td>50</td>\n",
       "      <td>0</td>\n",
       "      <td>0</td>\n",
       "      <td>0</td>\n",
       "      <td>0</td>\n",
       "      <td>0</td>\n",
       "      <td>0</td>\n",
       "      <td>2.0</td>\n",
       "    </tr>\n",
       "    <tr>\n",
       "      <th>916</th>\n",
       "      <td>168</td>\n",
       "      <td>180000</td>\n",
       "      <td>120</td>\n",
       "      <td>0</td>\n",
       "      <td>0</td>\n",
       "      <td>0</td>\n",
       "      <td>0</td>\n",
       "      <td>0</td>\n",
       "      <td>0</td>\n",
       "      <td>2.0</td>\n",
       "    </tr>\n",
       "    <tr>\n",
       "      <th>388</th>\n",
       "      <td>0</td>\n",
       "      <td>100000</td>\n",
       "      <td>20</td>\n",
       "      <td>0</td>\n",
       "      <td>0</td>\n",
       "      <td>0</td>\n",
       "      <td>0</td>\n",
       "      <td>0</td>\n",
       "      <td>0</td>\n",
       "      <td>4.0</td>\n",
       "    </tr>\n",
       "    <tr>\n",
       "      <th>1974</th>\n",
       "      <td>0</td>\n",
       "      <td>211000</td>\n",
       "      <td>60</td>\n",
       "      <td>0</td>\n",
       "      <td>0</td>\n",
       "      <td>0</td>\n",
       "      <td>0</td>\n",
       "      <td>0</td>\n",
       "      <td>0</td>\n",
       "      <td>0.0</td>\n",
       "    </tr>\n",
       "    <tr>\n",
       "      <th>1493</th>\n",
       "      <td>0</td>\n",
       "      <td>319900</td>\n",
       "      <td>120</td>\n",
       "      <td>0</td>\n",
       "      <td>0</td>\n",
       "      <td>0</td>\n",
       "      <td>0</td>\n",
       "      <td>0</td>\n",
       "      <td>0</td>\n",
       "      <td>0.0</td>\n",
       "    </tr>\n",
       "  </tbody>\n",
       "</table>\n",
       "</div>"
      ],
      "text/plain": [
       "      3Ssn Porch  SalePrice  MS SubClass  Neighborhood_Greens  \\\n",
       "1236           0     129900           50                    0   \n",
       "916          168     180000          120                    0   \n",
       "388            0     100000           20                    0   \n",
       "1974           0     211000           60                    0   \n",
       "1493           0     319900          120                    0   \n",
       "\n",
       "      Neighborhood_GrnHill  Condition 2_RRNn  Exterior 1st_ImStucc  \\\n",
       "1236                     0                 0                     0   \n",
       "916                      0                 0                     0   \n",
       "388                      0                 0                     0   \n",
       "1974                     0                 0                     0   \n",
       "1493                     0                 0                     0   \n",
       "\n",
       "      Exterior 1st_Stone  Exterior 2nd_Other  Heating QC  \n",
       "1236                   0                   0         2.0  \n",
       "916                    0                   0         2.0  \n",
       "388                    0                   0         4.0  \n",
       "1974                   0                   0         0.0  \n",
       "1493                   0                   0         0.0  "
      ]
     },
     "execution_count": 20,
     "metadata": {},
     "output_type": "execute_result"
    }
   ],
   "source": [
    "model_X.head()"
   ]
  },
  {
   "cell_type": "code",
   "execution_count": 21,
   "metadata": {},
   "outputs": [],
   "source": [
    "# model_X, X_test, model_y, y_test = train_test_split( X, y, test_size=0.4 )"
   ]
  },
  {
   "cell_type": "markdown",
   "metadata": {},
   "source": [
    "## Regression"
   ]
  },
  {
   "cell_type": "code",
   "execution_count": 22,
   "metadata": {},
   "outputs": [],
   "source": [
    "def validate_model(model, X, y, n=100):\n",
    "    scores = []\n",
    "    for i in range(n):\n",
    "        # distributing Training and Testing set\n",
    "        X_train, X_test, y_train, y_test = train_test_split(X, y, test_size=0.4)\n",
    "\n",
    "        model.fit(X_train, y_train)\n",
    "\n",
    "        scores.append( model.score(X_test, y_test) ) \n",
    "\n",
    "    scores = numpy.array( scores )\n",
    "    return sum(scores) / len(scores) , model"
   ]
  },
  {
   "cell_type": "code",
   "execution_count": 23,
   "metadata": {},
   "outputs": [],
   "source": [
    "from sklearn import linear_model"
   ]
  },
  {
   "cell_type": "code",
   "execution_count": 24,
   "metadata": {},
   "outputs": [
    {
     "data": {
      "text/plain": [
       "(1.0, LinearRegression(copy_X=True, fit_intercept=True, n_jobs=None,\n",
       "          normalize=False))"
      ]
     },
     "execution_count": 24,
     "metadata": {},
     "output_type": "execute_result"
    }
   ],
   "source": [
    "# model \"Linear Regression\" with normalize = False\n",
    "model_LR = linear_model.LinearRegression()\n",
    "\n",
    "score, model_LR = validate_model( model_LR, model_X, model_y )\n",
    "score, model_LR"
   ]
  },
  {
   "cell_type": "code",
   "execution_count": 25,
   "metadata": {},
   "outputs": [
    {
     "data": {
      "text/plain": [
       "(1.0, LinearRegression(copy_X=True, fit_intercept=True, n_jobs=None,\n",
       "          normalize=False))"
      ]
     },
     "execution_count": 25,
     "metadata": {},
     "output_type": "execute_result"
    }
   ],
   "source": [
    "model_R = linear_model.Ridge (alpha = .5)\n",
    "score_R, model_R = validate_model( model_LR, model_X, model_y )\n",
    "\n",
    "score_R, model_R"
   ]
  },
  {
   "cell_type": "code",
   "execution_count": 26,
   "metadata": {},
   "outputs": [
    {
     "data": {
      "text/plain": [
       "(1.0, Lasso(alpha=0.1, copy_X=True, fit_intercept=True, max_iter=1000,\n",
       "    normalize=False, positive=False, precompute=False, random_state=None,\n",
       "    selection='cyclic', tol=0.0001, warm_start=False))"
      ]
     },
     "execution_count": 26,
     "metadata": {},
     "output_type": "execute_result"
    }
   ],
   "source": [
    "model_L = linear_model.Lasso(alpha = 0.1)\n",
    "score_L, model_L = validate_model( model_L, model_X, model_y )\n",
    "\n",
    "score_L, model_L"
   ]
  },
  {
   "cell_type": "code",
   "execution_count": 27,
   "metadata": {},
   "outputs": [],
   "source": [
    "from matplotlib import pyplot"
   ]
  },
  {
   "cell_type": "code",
   "execution_count": 28,
   "metadata": {},
   "outputs": [],
   "source": [
    "# test_labels, test_predictions\n",
    "def plot_predict(predictions):\n",
    "    \n",
    "    fig, ax = pyplot.subplots()\n",
    "    for label in predictions :\n",
    "        ax.scatter( predictions[label][0], predictions[label][1], label=label )\n",
    "    \n",
    "    pyplot.xlabel('True Values [1000$]')\n",
    "    pyplot.ylabel('Predictions [1000$]')\n",
    "    \n",
    "    pyplot.axis('equal')\n",
    "    \n",
    "    pyplot.xlim(pyplot.xlim())\n",
    "    pyplot.ylim(pyplot.ylim())\n",
    "    \n",
    "    #_ = pyplot.plot([-100, 100], [-100, 100])\n",
    "    \n",
    "    ax.legend()\n",
    "    ax.grid(True)\n",
    "\n",
    "    pyplot.show()"
   ]
  },
  {
   "cell_type": "code",
   "execution_count": 29,
   "metadata": {},
   "outputs": [],
   "source": [
    "def plot_predict_error(test_labels, test_predictions):\n",
    "    error = test_predictions - test_labels\n",
    "    \n",
    "    pyplot.hist(error, bins = 50)\n",
    "    \n",
    "    pyplot.xlabel(\"Prediction Error [1000$]\")\n",
    "    _ = pyplot.ylabel(\"Count\")"
   ]
  },
  {
   "cell_type": "code",
   "execution_count": 30,
   "metadata": {},
   "outputs": [],
   "source": [
    "predictions = {}"
   ]
  },
  {
   "cell_type": "code",
   "execution_count": 31,
   "metadata": {},
   "outputs": [
    {
     "data": {
      "image/png": "[encoded data removed]",
      "text/plain": [
       "<Figure size 432x288 with 1 Axes>"
      ]
     },
     "metadata": {
      "needs_background": "light"
     },
     "output_type": "display_data"
    }
   ],
   "source": [
    "y_pred = model_L.predict( X_test ).flatten()\n",
    "\n",
    "prediction = []\n",
    "prediction.append(y_test)\n",
    "prediction.append(y_pred)\n",
    "predictions[\"Lasso\"] = prediction \n",
    "\n",
    "plot_predict_error(y_test, y_pred)"
   ]
  },
  {
   "cell_type": "code",
   "execution_count": 32,
   "metadata": {},
   "outputs": [
    {
     "data": {
      "image/png": "[encoded data removed]",
      "text/plain": [
       "<Figure size 432x288 with 1 Axes>"
      ]
     },
     "metadata": {
      "needs_background": "light"
     },
     "output_type": "display_data"
    }
   ],
   "source": [
    "y_pred = model_LR.predict( X_test ).flatten()\n",
    "\n",
    "prediction = []\n",
    "prediction.append(y_test)\n",
    "prediction.append(y_pred)\n",
    "predictions[\"LinearRegression\"] = prediction \n",
    "\n",
    "plot_predict_error(y_test, y_pred)"
   ]
  },
  {
   "cell_type": "code",
   "execution_count": 33,
   "metadata": {
    "scrolled": false
   },
   "outputs": [
    {
     "data": {
      "image/png": "[encoded data removed]",
      "text/plain": [
       "<Figure size 432x288 with 1 Axes>"
      ]
     },
     "metadata": {
      "needs_background": "light"
     },
     "output_type": "display_data"
    }
   ],
   "source": [
    "y_pred = model_R.predict( X_test ).flatten()\n",
    "\n",
    "prediction = []\n",
    "prediction.append(y_test)\n",
    "prediction.append(y_pred)\n",
    "predictions[\"Ridge\"] = prediction \n",
    "\n",
    "plot_predict_error(y_test, y_pred)"
   ]
  },
  {
   "cell_type": "code",
   "execution_count": 34,
   "metadata": {},
   "outputs": [
    {
     "data": {
      "image/png": "[encoded data removed]",
      "text/plain": [
       "<Figure size 432x288 with 1 Axes>"
      ]
     },
     "metadata": {
      "needs_background": "light"
     },
     "output_type": "display_data"
    }
   ],
   "source": [
    "plot_predict(predictions)"
   ]
  },
  {
   "cell_type": "markdown",
   "metadata": {},
   "source": [
    "## Use multiple regression model to predict"
   ]
  },
  {
   "cell_type": "markdown",
   "metadata": {},
   "source": [
    "stacker = LinearRegression()\n",
    "stacker.fit( df[ [ 'predictedSVR', 'predictedLASSO', 'predictedGBR' ] ], df['predicted'] )\n",
    "\n",
    "stacker.predict()"
   ]
  },
  {
   "cell_type": "code",
   "execution_count": null,
   "metadata": {},
   "outputs": [],
   "source": []
  }
 ],
 "metadata": {
  "kernelspec": {
   "display_name": "Python 3",
   "language": "python",
   "name": "python3"
  },
  "language_info": {
   "codemirror_mode": {
    "name": "ipython",
    "version": 3
   },
   "file_extension": ".py",
   "mimetype": "text/x-python",
   "name": "python",
   "nbconvert_exporter": "python",
   "pygments_lexer": "ipython3",
   "version": "3.6.6"
  }
 },
 "nbformat": 4,
 "nbformat_minor": 2
}
