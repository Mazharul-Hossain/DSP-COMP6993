{
 "cells": [
  {
   "cell_type": "code",
   "execution_count": 1,
   "metadata": {},
   "outputs": [],
   "source": [
    "#@title MIT License\n",
    "#\n",
    "# Copyright (c) 2017 François Chollet\n",
    "#\n",
    "# Permission is hereby granted, free of charge, to any person obtaining a\n",
    "# copy of this software and associated documentation files (the \"Software\"),\n",
    "# to deal in the Software without restriction, including without limitation\n",
    "# the rights to use, copy, modify, merge, publish, distribute, sublicense,\n",
    "# and/or sell copies of the Software, and to permit persons to whom the\n",
    "# Software is furnished to do so, subject to the following conditions:\n",
    "#\n",
    "# The above copyright notice and this permission notice shall be included in\n",
    "# all copies or substantial portions of the Software.\n",
    "#\n",
    "# THE SOFTWARE IS PROVIDED \"AS IS\", WITHOUT WARRANTY OF ANY KIND, EXPRESS OR\n",
    "# IMPLIED, INCLUDING BUT NOT LIMITED TO THE WARRANTIES OF MERCHANTABILITY,\n",
    "# FITNESS FOR A PARTICULAR PURPOSE AND NONINFRINGEMENT. IN NO EVENT SHALL\n",
    "# THE AUTHORS OR COPYRIGHT HOLDERS BE LIABLE FOR ANY CLAIM, DAMAGES OR OTHER\n",
    "# LIABILITY, WHETHER IN AN ACTION OF CONTRACT, TORT OR OTHERWISE, ARISING\n",
    "# FROM, OUT OF OR IN CONNECTION WITH THE SOFTWARE OR THE USE OR OTHER\n",
    "# DEALINGS IN THE SOFTWARE."
   ]
  },
  {
   "cell_type": "code",
   "execution_count": 27,
   "metadata": {},
   "outputs": [],
   "source": [
    "from __future__ import absolute_import, division, print_function"
   ]
  },
  {
   "cell_type": "code",
   "execution_count": 2,
   "metadata": {},
   "outputs": [
    {
     "name": "stderr",
     "output_type": "stream",
     "text": [
      "D:\\Anaconda3\\lib\\site-packages\\h5py\\__init__.py:36: FutureWarning: Conversion of the second argument of issubdtype from `float` to `np.floating` is deprecated. In future, it will be treated as `np.float64 == np.dtype(float).type`.\n",
      "  from ._conv import register_converters as _register_converters\n"
     ]
    }
   ],
   "source": [
    "import tensorflow"
   ]
  },
  {
   "cell_type": "code",
   "execution_count": 3,
   "metadata": {},
   "outputs": [],
   "source": [
    "from tensorflow import keras"
   ]
  },
  {
   "cell_type": "code",
   "execution_count": 4,
   "metadata": {},
   "outputs": [],
   "source": [
    "import numpy "
   ]
  },
  {
   "cell_type": "code",
   "execution_count": 5,
   "metadata": {},
   "outputs": [
    {
     "name": "stdout",
     "output_type": "stream",
     "text": [
      "1.11.0\n"
     ]
    }
   ],
   "source": [
    "print(tensorflow.__version__)"
   ]
  },
  {
   "cell_type": "code",
   "execution_count": 6,
   "metadata": {},
   "outputs": [],
   "source": [
    "boston_housing = keras.datasets.boston_housing\n",
    "\n",
    "(train_data, train_labels), (test_data, test_labels) = boston_housing.load_data()\n",
    "\n",
    "# Shuffle the training set\n",
    "order = numpy.argsort(numpy.random.random(train_labels.shape))\n",
    "train_data = train_data[order]\n",
    "train_labels = train_labels[order]"
   ]
  },
  {
   "cell_type": "code",
   "execution_count": 7,
   "metadata": {},
   "outputs": [
    {
     "name": "stdout",
     "output_type": "stream",
     "text": [
      "Training set: (404, 13)\n",
      "Testing set:  (102, 13)\n"
     ]
    }
   ],
   "source": [
    "print(\"Training set: {}\".format(train_data.shape))  # 404 examples, 13 features\n",
    "print(\"Testing set:  {}\".format(test_data.shape))   # 102 examples, 13 features"
   ]
  },
  {
   "cell_type": "code",
   "execution_count": 8,
   "metadata": {},
   "outputs": [],
   "source": [
    "import pandas"
   ]
  },
  {
   "cell_type": "code",
   "execution_count": 9,
   "metadata": {},
   "outputs": [
    {
     "data": {
      "text/html": [
       "<div>\n",
       "<style scoped>\n",
       "    .dataframe tbody tr th:only-of-type {\n",
       "        vertical-align: middle;\n",
       "    }\n",
       "\n",
       "    .dataframe tbody tr th {\n",
       "        vertical-align: top;\n",
       "    }\n",
       "\n",
       "    .dataframe thead th {\n",
       "        text-align: right;\n",
       "    }\n",
       "</style>\n",
       "<table border=\"1\" class=\"dataframe\">\n",
       "  <thead>\n",
       "    <tr style=\"text-align: right;\">\n",
       "      <th></th>\n",
       "      <th>CRIM</th>\n",
       "      <th>ZN</th>\n",
       "      <th>INDUS</th>\n",
       "      <th>CHAS</th>\n",
       "      <th>NOX</th>\n",
       "      <th>RM</th>\n",
       "      <th>AGE</th>\n",
       "      <th>DIS</th>\n",
       "      <th>RAD</th>\n",
       "      <th>TAX</th>\n",
       "      <th>PTRATIO</th>\n",
       "      <th>B</th>\n",
       "      <th>LSTAT</th>\n",
       "    </tr>\n",
       "  </thead>\n",
       "  <tbody>\n",
       "    <tr>\n",
       "      <th>0</th>\n",
       "      <td>0.07875</td>\n",
       "      <td>45.0</td>\n",
       "      <td>3.44</td>\n",
       "      <td>0.0</td>\n",
       "      <td>0.437</td>\n",
       "      <td>6.782</td>\n",
       "      <td>41.1</td>\n",
       "      <td>3.7886</td>\n",
       "      <td>5.0</td>\n",
       "      <td>398.0</td>\n",
       "      <td>15.2</td>\n",
       "      <td>393.87</td>\n",
       "      <td>6.68</td>\n",
       "    </tr>\n",
       "    <tr>\n",
       "      <th>1</th>\n",
       "      <td>4.55587</td>\n",
       "      <td>0.0</td>\n",
       "      <td>18.10</td>\n",
       "      <td>0.0</td>\n",
       "      <td>0.718</td>\n",
       "      <td>3.561</td>\n",
       "      <td>87.9</td>\n",
       "      <td>1.6132</td>\n",
       "      <td>24.0</td>\n",
       "      <td>666.0</td>\n",
       "      <td>20.2</td>\n",
       "      <td>354.70</td>\n",
       "      <td>7.12</td>\n",
       "    </tr>\n",
       "    <tr>\n",
       "      <th>2</th>\n",
       "      <td>0.09604</td>\n",
       "      <td>40.0</td>\n",
       "      <td>6.41</td>\n",
       "      <td>0.0</td>\n",
       "      <td>0.447</td>\n",
       "      <td>6.854</td>\n",
       "      <td>42.8</td>\n",
       "      <td>4.2673</td>\n",
       "      <td>4.0</td>\n",
       "      <td>254.0</td>\n",
       "      <td>17.6</td>\n",
       "      <td>396.90</td>\n",
       "      <td>2.98</td>\n",
       "    </tr>\n",
       "    <tr>\n",
       "      <th>3</th>\n",
       "      <td>0.01870</td>\n",
       "      <td>85.0</td>\n",
       "      <td>4.15</td>\n",
       "      <td>0.0</td>\n",
       "      <td>0.429</td>\n",
       "      <td>6.516</td>\n",
       "      <td>27.7</td>\n",
       "      <td>8.5353</td>\n",
       "      <td>4.0</td>\n",
       "      <td>351.0</td>\n",
       "      <td>17.9</td>\n",
       "      <td>392.43</td>\n",
       "      <td>6.36</td>\n",
       "    </tr>\n",
       "    <tr>\n",
       "      <th>4</th>\n",
       "      <td>0.52693</td>\n",
       "      <td>0.0</td>\n",
       "      <td>6.20</td>\n",
       "      <td>0.0</td>\n",
       "      <td>0.504</td>\n",
       "      <td>8.725</td>\n",
       "      <td>83.0</td>\n",
       "      <td>2.8944</td>\n",
       "      <td>8.0</td>\n",
       "      <td>307.0</td>\n",
       "      <td>17.4</td>\n",
       "      <td>382.00</td>\n",
       "      <td>4.63</td>\n",
       "    </tr>\n",
       "  </tbody>\n",
       "</table>\n",
       "</div>"
      ],
      "text/plain": [
       "      CRIM    ZN  INDUS  CHAS    NOX     RM   AGE     DIS   RAD    TAX  \\\n",
       "0  0.07875  45.0   3.44   0.0  0.437  6.782  41.1  3.7886   5.0  398.0   \n",
       "1  4.55587   0.0  18.10   0.0  0.718  3.561  87.9  1.6132  24.0  666.0   \n",
       "2  0.09604  40.0   6.41   0.0  0.447  6.854  42.8  4.2673   4.0  254.0   \n",
       "3  0.01870  85.0   4.15   0.0  0.429  6.516  27.7  8.5353   4.0  351.0   \n",
       "4  0.52693   0.0   6.20   0.0  0.504  8.725  83.0  2.8944   8.0  307.0   \n",
       "\n",
       "   PTRATIO       B  LSTAT  \n",
       "0     15.2  393.87   6.68  \n",
       "1     20.2  354.70   7.12  \n",
       "2     17.6  396.90   2.98  \n",
       "3     17.9  392.43   6.36  \n",
       "4     17.4  382.00   4.63  "
      ]
     },
     "execution_count": 9,
     "metadata": {},
     "output_type": "execute_result"
    }
   ],
   "source": [
    "column_names = ['CRIM', 'ZN', 'INDUS', 'CHAS', 'NOX', 'RM', 'AGE', 'DIS', 'RAD',\n",
    "                'TAX', 'PTRATIO', 'B', 'LSTAT']\n",
    "\n",
    "df = pandas.DataFrame(train_data, columns=column_names)\n",
    "df.head()"
   ]
  },
  {
   "cell_type": "code",
   "execution_count": 10,
   "metadata": {},
   "outputs": [],
   "source": [
    "mean = train_data.mean(axis=0)\n",
    "std = train_data.std(axis=0)\n",
    "# Test data is *not* used when calculating the mean and std\n",
    "\n",
    "train_data = (train_data - mean) / std\n",
    "test_data = (test_data - mean) / std"
   ]
  },
  {
   "cell_type": "code",
   "execution_count": 11,
   "metadata": {},
   "outputs": [
    {
     "data": {
      "text/html": [
       "<div>\n",
       "<style scoped>\n",
       "    .dataframe tbody tr th:only-of-type {\n",
       "        vertical-align: middle;\n",
       "    }\n",
       "\n",
       "    .dataframe tbody tr th {\n",
       "        vertical-align: top;\n",
       "    }\n",
       "\n",
       "    .dataframe thead th {\n",
       "        text-align: right;\n",
       "    }\n",
       "</style>\n",
       "<table border=\"1\" class=\"dataframe\">\n",
       "  <thead>\n",
       "    <tr style=\"text-align: right;\">\n",
       "      <th></th>\n",
       "      <th>CRIM</th>\n",
       "      <th>ZN</th>\n",
       "      <th>INDUS</th>\n",
       "      <th>CHAS</th>\n",
       "      <th>NOX</th>\n",
       "      <th>RM</th>\n",
       "      <th>AGE</th>\n",
       "      <th>DIS</th>\n",
       "      <th>RAD</th>\n",
       "      <th>TAX</th>\n",
       "      <th>PTRATIO</th>\n",
       "      <th>B</th>\n",
       "      <th>LSTAT</th>\n",
       "    </tr>\n",
       "  </thead>\n",
       "  <tbody>\n",
       "    <tr>\n",
       "      <th>0</th>\n",
       "      <td>-0.397253</td>\n",
       "      <td>1.412057</td>\n",
       "      <td>-1.126646</td>\n",
       "      <td>-0.256833</td>\n",
       "      <td>-1.027385</td>\n",
       "      <td>0.726354</td>\n",
       "      <td>-1.000164</td>\n",
       "      <td>0.023834</td>\n",
       "      <td>-0.511142</td>\n",
       "      <td>-0.047533</td>\n",
       "      <td>-1.490674</td>\n",
       "      <td>0.415841</td>\n",
       "      <td>-0.836487</td>\n",
       "    </tr>\n",
       "    <tr>\n",
       "      <th>1</th>\n",
       "      <td>0.087846</td>\n",
       "      <td>-0.483615</td>\n",
       "      <td>1.028326</td>\n",
       "      <td>-0.256833</td>\n",
       "      <td>1.371293</td>\n",
       "      <td>-3.817250</td>\n",
       "      <td>0.676891</td>\n",
       "      <td>-1.049006</td>\n",
       "      <td>1.675886</td>\n",
       "      <td>1.565287</td>\n",
       "      <td>0.784476</td>\n",
       "      <td>-0.000885</td>\n",
       "      <td>-0.775760</td>\n",
       "    </tr>\n",
       "    <tr>\n",
       "      <th>2</th>\n",
       "      <td>-0.395379</td>\n",
       "      <td>1.201427</td>\n",
       "      <td>-0.690066</td>\n",
       "      <td>-0.256833</td>\n",
       "      <td>-0.942023</td>\n",
       "      <td>0.827918</td>\n",
       "      <td>-0.939245</td>\n",
       "      <td>0.259915</td>\n",
       "      <td>-0.626249</td>\n",
       "      <td>-0.914123</td>\n",
       "      <td>-0.398602</td>\n",
       "      <td>0.448077</td>\n",
       "      <td>-1.347144</td>\n",
       "    </tr>\n",
       "    <tr>\n",
       "      <th>3</th>\n",
       "      <td>-0.403759</td>\n",
       "      <td>3.097099</td>\n",
       "      <td>-1.022279</td>\n",
       "      <td>-0.256833</td>\n",
       "      <td>-1.095675</td>\n",
       "      <td>0.351129</td>\n",
       "      <td>-1.480347</td>\n",
       "      <td>2.364762</td>\n",
       "      <td>-0.626249</td>\n",
       "      <td>-0.330379</td>\n",
       "      <td>-0.262093</td>\n",
       "      <td>0.400521</td>\n",
       "      <td>-0.880652</td>\n",
       "    </tr>\n",
       "    <tr>\n",
       "      <th>4</th>\n",
       "      <td>-0.348692</td>\n",
       "      <td>-0.483615</td>\n",
       "      <td>-0.720935</td>\n",
       "      <td>-0.256833</td>\n",
       "      <td>-0.455458</td>\n",
       "      <td>3.467186</td>\n",
       "      <td>0.501302</td>\n",
       "      <td>-0.417158</td>\n",
       "      <td>-0.165822</td>\n",
       "      <td>-0.595170</td>\n",
       "      <td>-0.489608</td>\n",
       "      <td>0.289557</td>\n",
       "      <td>-1.119419</td>\n",
       "    </tr>\n",
       "  </tbody>\n",
       "</table>\n",
       "</div>"
      ],
      "text/plain": [
       "       CRIM        ZN     INDUS      CHAS       NOX        RM       AGE  \\\n",
       "0 -0.397253  1.412057 -1.126646 -0.256833 -1.027385  0.726354 -1.000164   \n",
       "1  0.087846 -0.483615  1.028326 -0.256833  1.371293 -3.817250  0.676891   \n",
       "2 -0.395379  1.201427 -0.690066 -0.256833 -0.942023  0.827918 -0.939245   \n",
       "3 -0.403759  3.097099 -1.022279 -0.256833 -1.095675  0.351129 -1.480347   \n",
       "4 -0.348692 -0.483615 -0.720935 -0.256833 -0.455458  3.467186  0.501302   \n",
       "\n",
       "        DIS       RAD       TAX   PTRATIO         B     LSTAT  \n",
       "0  0.023834 -0.511142 -0.047533 -1.490674  0.415841 -0.836487  \n",
       "1 -1.049006  1.675886  1.565287  0.784476 -0.000885 -0.775760  \n",
       "2  0.259915 -0.626249 -0.914123 -0.398602  0.448077 -1.347144  \n",
       "3  2.364762 -0.626249 -0.330379 -0.262093  0.400521 -0.880652  \n",
       "4 -0.417158 -0.165822 -0.595170 -0.489608  0.289557 -1.119419  "
      ]
     },
     "execution_count": 11,
     "metadata": {},
     "output_type": "execute_result"
    }
   ],
   "source": [
    "df = pandas.DataFrame(train_data, columns=column_names)\n",
    "df.head()"
   ]
  },
  {
   "cell_type": "code",
   "execution_count": 12,
   "metadata": {},
   "outputs": [],
   "source": [
    "def build_model():\n",
    "  model = keras.Sequential([\n",
    "    keras.layers.Dense( 64, activation=tensorflow.nn.relu, input_shape=(train_data.shape[1],) ),\n",
    "    keras.layers.Dense( 64, activation=tensorflow.nn.relu ),\n",
    "    keras.layers.Dense(1)\n",
    "  ])\n",
    "\n",
    "  optimizer = tensorflow.train.RMSPropOptimizer(0.001)\n",
    "\n",
    "  model.compile(loss='mse', optimizer=optimizer, metrics=['mae'])\n",
    "\n",
    "  return model"
   ]
  },
  {
   "cell_type": "code",
   "execution_count": 13,
   "metadata": {
    "scrolled": true
   },
   "outputs": [
    {
     "name": "stdout",
     "output_type": "stream",
     "text": [
      "_________________________________________________________________\n",
      "Layer (type)                 Output Shape              Param #   \n",
      "=================================================================\n",
      "dense (Dense)                (None, 64)                896       \n",
      "_________________________________________________________________\n",
      "dense_1 (Dense)              (None, 64)                4160      \n",
      "_________________________________________________________________\n",
      "dense_2 (Dense)              (None, 1)                 65        \n",
      "=================================================================\n",
      "Total params: 5,121\n",
      "Trainable params: 5,121\n",
      "Non-trainable params: 0\n",
      "_________________________________________________________________\n"
     ]
    }
   ],
   "source": [
    "model = build_model()\n",
    "model.summary()"
   ]
  },
  {
   "cell_type": "code",
   "execution_count": 14,
   "metadata": {},
   "outputs": [],
   "source": [
    "# Display training progress by printing a single dot for each completed epoch\n",
    "class PrintDot(keras.callbacks.Callback):\n",
    "  def on_epoch_end(self, epoch, logs):\n",
    "    if epoch % 100 == 0: print('')\n",
    "    print('.', end='')"
   ]
  },
  {
   "cell_type": "code",
   "execution_count": 15,
   "metadata": {},
   "outputs": [],
   "source": [
    "# The patience parameter is the amount of epochs to check for improvement\n",
    "early_stop = keras.callbacks.EarlyStopping(monitor='val_loss', patience=20)"
   ]
  },
  {
   "cell_type": "code",
   "execution_count": 16,
   "metadata": {},
   "outputs": [
    {
     "name": "stdout",
     "output_type": "stream",
     "text": [
      "Train on 323 samples, validate on 81 samples\n",
      "Epoch 1/500\n",
      " 32/323 [=>............................] - ETA: 17s - loss: 536.3857 - mean_absolute_error: 21.2733\n",
      "323/323 [==============================] - 2s 6ms/step - loss: 557.3911 - mean_absolute_error: 21.6878 - val_loss: 574.4580 - val_mean_absolute_error: 22.1869\n",
      "Epoch 2/500\n",
      "323/323 [==============================] - 0s 87us/step - loss: 505.2720 - mean_absolute_error: 20.4589 - val_loss: 513.4827 - val_mean_absolute_error: 20.8329\n",
      "Epoch 3/500\n",
      "323/323 [==============================] - 0s 99us/step - loss: 444.5551 - mean_absolute_error: 18.9589 - val_loss: 441.0366 - val_mean_absolute_error: 19.0930\n",
      "Epoch 4/500\n",
      "323/323 [==============================] - 0s 99us/step - loss: 372.9668 - mean_absolute_error: 17.0792 - val_loss: 354.1445 - val_mean_absolute_error: 16.8369\n",
      "Epoch 5/500\n",
      "323/323 [==============================] - 0s 105us/step - loss: 291.5727 - mean_absolute_error: 14.8249 - val_loss: 257.8456 - val_mean_absolute_error: 13.9794\n",
      "Epoch 6/500\n",
      "323/323 [==============================] - 0s 99us/step - loss: 209.6497 - mean_absolute_error: 12.1206 - val_loss: 179.1522 - val_mean_absolute_error: 11.2259\n",
      "Epoch 7/500\n",
      "323/323 [==============================] - 0s 90us/step - loss: 146.2801 - mean_absolute_error: 9.7270 - val_loss: 118.7917 - val_mean_absolute_error: 8.7113\n",
      "Epoch 8/500\n",
      "323/323 [==============================] - 0s 87us/step - loss: 99.0263 - mean_absolute_error: 7.6864 - val_loss: 78.5014 - val_mean_absolute_error: 6.6712\n",
      "Epoch 9/500\n",
      "323/323 [==============================] - 0s 87us/step - loss: 69.3255 - mean_absolute_error: 6.3000 - val_loss: 53.0140 - val_mean_absolute_error: 5.2092\n",
      "Epoch 10/500\n",
      "323/323 [==============================] - 0s 84us/step - loss: 50.2599 - mean_absolute_error: 5.3109 - val_loss: 44.5523 - val_mean_absolute_error: 4.7502\n",
      "Epoch 11/500\n",
      "323/323 [==============================] - 0s 87us/step - loss: 40.4050 - mean_absolute_error: 4.6406 - val_loss: 36.3259 - val_mean_absolute_error: 4.2562\n",
      "Epoch 12/500\n",
      "323/323 [==============================] - 0s 99us/step - loss: 32.4074 - mean_absolute_error: 4.1276 - val_loss: 31.6687 - val_mean_absolute_error: 3.9377\n",
      "Epoch 13/500\n",
      "323/323 [==============================] - 0s 102us/step - loss: 26.6704 - mean_absolute_error: 3.7240 - val_loss: 26.7454 - val_mean_absolute_error: 3.5727\n",
      "Epoch 14/500\n",
      "323/323 [==============================] - 0s 102us/step - loss: 22.8313 - mean_absolute_error: 3.4422 - val_loss: 25.0053 - val_mean_absolute_error: 3.4865\n",
      "Epoch 15/500\n",
      "323/323 [==============================] - 0s 99us/step - loss: 20.3342 - mean_absolute_error: 3.2410 - val_loss: 23.5650 - val_mean_absolute_error: 3.3666\n",
      "Epoch 16/500\n",
      "323/323 [==============================] - 0s 96us/step - loss: 18.4220 - mean_absolute_error: 3.0912 - val_loss: 23.2530 - val_mean_absolute_error: 3.2087\n",
      "Epoch 17/500\n",
      "323/323 [==============================] - 0s 102us/step - loss: 17.0681 - mean_absolute_error: 2.9240 - val_loss: 22.2396 - val_mean_absolute_error: 3.1332\n",
      "Epoch 18/500\n",
      "323/323 [==============================] - 0s 96us/step - loss: 16.1294 - mean_absolute_error: 2.8209 - val_loss: 20.4240 - val_mean_absolute_error: 3.0245\n",
      "Epoch 19/500\n",
      "323/323 [==============================] - 0s 93us/step - loss: 15.1474 - mean_absolute_error: 2.7756 - val_loss: 19.9906 - val_mean_absolute_error: 3.0383\n",
      "Epoch 20/500\n",
      "323/323 [==============================] - 0s 93us/step - loss: 14.0247 - mean_absolute_error: 2.7074 - val_loss: 18.1197 - val_mean_absolute_error: 2.8930\n",
      "Epoch 21/500\n",
      "323/323 [==============================] - 0s 102us/step - loss: 13.2693 - mean_absolute_error: 2.6356 - val_loss: 18.1961 - val_mean_absolute_error: 2.8786\n",
      "Epoch 22/500\n",
      "323/323 [==============================] - 0s 93us/step - loss: 12.7351 - mean_absolute_error: 2.5529 - val_loss: 18.8302 - val_mean_absolute_error: 2.9870\n",
      "Epoch 23/500\n",
      "323/323 [==============================] - 0s 96us/step - loss: 12.1764 - mean_absolute_error: 2.5335 - val_loss: 17.7532 - val_mean_absolute_error: 2.8359\n",
      "Epoch 24/500\n",
      "323/323 [==============================] - 0s 87us/step - loss: 11.5633 - mean_absolute_error: 2.4474 - val_loss: 17.7235 - val_mean_absolute_error: 2.8729\n",
      "Epoch 25/500\n",
      "323/323 [==============================] - 0s 90us/step - loss: 10.7927 - mean_absolute_error: 2.3726 - val_loss: 16.6123 - val_mean_absolute_error: 2.8346\n",
      "Epoch 26/500\n",
      "323/323 [==============================] - 0s 105us/step - loss: 10.6327 - mean_absolute_error: 2.4535 - val_loss: 17.8528 - val_mean_absolute_error: 2.8900\n",
      "Epoch 27/500\n",
      "323/323 [==============================] - 0s 93us/step - loss: 10.4718 - mean_absolute_error: 2.3218 - val_loss: 17.0951 - val_mean_absolute_error: 2.8473\n",
      "Epoch 28/500\n",
      "323/323 [==============================] - 0s 105us/step - loss: 9.8386 - mean_absolute_error: 2.2970 - val_loss: 16.6752 - val_mean_absolute_error: 2.8058\n",
      "Epoch 29/500\n",
      "323/323 [==============================] - 0s 108us/step - loss: 9.7293 - mean_absolute_error: 2.2719 - val_loss: 16.6277 - val_mean_absolute_error: 2.7908\n",
      "Epoch 30/500\n",
      "323/323 [==============================] - 0s 102us/step - loss: 9.5130 - mean_absolute_error: 2.2441 - val_loss: 17.2444 - val_mean_absolute_error: 2.8964\n",
      "Epoch 31/500\n",
      "323/323 [==============================] - 0s 96us/step - loss: 9.3193 - mean_absolute_error: 2.2349 - val_loss: 17.0899 - val_mean_absolute_error: 2.8586\n",
      "Epoch 32/500\n",
      "323/323 [==============================] - 0s 96us/step - loss: 9.1854 - mean_absolute_error: 2.2179 - val_loss: 17.1638 - val_mean_absolute_error: 2.8260\n",
      "Epoch 33/500\n",
      "323/323 [==============================] - 0s 87us/step - loss: 8.9351 - mean_absolute_error: 2.1620 - val_loss: 17.4069 - val_mean_absolute_error: 2.9137\n",
      "Epoch 34/500\n",
      "323/323 [==============================] - 0s 90us/step - loss: 8.7108 - mean_absolute_error: 2.1692 - val_loss: 17.6500 - val_mean_absolute_error: 2.9014\n",
      "Epoch 35/500\n",
      "323/323 [==============================] - 0s 93us/step - loss: 8.7380 - mean_absolute_error: 2.1541 - val_loss: 18.4356 - val_mean_absolute_error: 3.0287\n",
      "Epoch 36/500\n",
      "323/323 [==============================] - 0s 96us/step - loss: 8.5249 - mean_absolute_error: 2.1806 - val_loss: 18.2141 - val_mean_absolute_error: 2.9106\n",
      "Epoch 37/500\n",
      "323/323 [==============================] - 0s 84us/step - loss: 8.3764 - mean_absolute_error: 2.0940 - val_loss: 16.4402 - val_mean_absolute_error: 2.8062\n",
      "Epoch 38/500\n",
      "323/323 [==============================] - 0s 87us/step - loss: 8.3141 - mean_absolute_error: 2.1300 - val_loss: 17.5164 - val_mean_absolute_error: 2.9188\n",
      "Epoch 39/500\n",
      "323/323 [==============================] - 0s 84us/step - loss: 8.1598 - mean_absolute_error: 2.1629 - val_loss: 17.1583 - val_mean_absolute_error: 2.8873\n",
      "Epoch 40/500\n",
      "323/323 [==============================] - 0s 77us/step - loss: 8.0550 - mean_absolute_error: 2.0928 - val_loss: 16.8536 - val_mean_absolute_error: 2.8419\n",
      "Epoch 41/500\n",
      "323/323 [==============================] - 0s 80us/step - loss: 8.0404 - mean_absolute_error: 2.0835 - val_loss: 15.8729 - val_mean_absolute_error: 2.7625\n",
      "Epoch 42/500\n",
      "323/323 [==============================] - 0s 80us/step - loss: 8.1436 - mean_absolute_error: 2.1037 - val_loss: 16.1041 - val_mean_absolute_error: 2.7766\n",
      "Epoch 43/500\n",
      "323/323 [==============================] - 0s 80us/step - loss: 7.8906 - mean_absolute_error: 2.0493 - val_loss: 16.7810 - val_mean_absolute_error: 2.8333\n",
      "Epoch 44/500\n",
      "323/323 [==============================] - 0s 77us/step - loss: 7.6723 - mean_absolute_error: 2.0269 - val_loss: 16.4401 - val_mean_absolute_error: 2.8049\n",
      "Epoch 45/500\n",
      "323/323 [==============================] - 0s 90us/step - loss: 7.6502 - mean_absolute_error: 2.0412 - val_loss: 17.1406 - val_mean_absolute_error: 2.8834\n",
      "Epoch 46/500\n",
      "323/323 [==============================] - 0s 84us/step - loss: 7.6850 - mean_absolute_error: 1.9921 - val_loss: 18.0240 - val_mean_absolute_error: 2.9830\n",
      "Epoch 47/500\n",
      "323/323 [==============================] - 0s 80us/step - loss: 7.7024 - mean_absolute_error: 2.0529 - val_loss: 16.8826 - val_mean_absolute_error: 2.8610\n",
      "Epoch 48/500\n"
     ]
    },
    {
     "name": "stdout",
     "output_type": "stream",
     "text": [
      "323/323 [==============================] - 0s 84us/step - loss: 7.6285 - mean_absolute_error: 2.0493 - val_loss: 15.8871 - val_mean_absolute_error: 2.8015\n",
      "Epoch 49/500\n",
      "323/323 [==============================] - 0s 77us/step - loss: 7.3754 - mean_absolute_error: 2.0347 - val_loss: 16.3421 - val_mean_absolute_error: 2.7971\n",
      "Epoch 50/500\n",
      "323/323 [==============================] - 0s 84us/step - loss: 7.3970 - mean_absolute_error: 1.9943 - val_loss: 16.6098 - val_mean_absolute_error: 2.8205\n",
      "Epoch 51/500\n",
      "323/323 [==============================] - 0s 87us/step - loss: 7.4278 - mean_absolute_error: 2.0097 - val_loss: 16.0502 - val_mean_absolute_error: 2.8058\n",
      "Epoch 52/500\n",
      "323/323 [==============================] - 0s 74us/step - loss: 7.1526 - mean_absolute_error: 2.0236 - val_loss: 17.6143 - val_mean_absolute_error: 2.8811\n",
      "Epoch 53/500\n",
      "323/323 [==============================] - 0s 84us/step - loss: 7.3805 - mean_absolute_error: 1.9596 - val_loss: 16.2950 - val_mean_absolute_error: 2.8426\n",
      "Epoch 54/500\n",
      "323/323 [==============================] - 0s 80us/step - loss: 7.1800 - mean_absolute_error: 2.0069 - val_loss: 15.9401 - val_mean_absolute_error: 2.7749\n",
      "Epoch 55/500\n",
      "323/323 [==============================] - 0s 80us/step - loss: 7.1874 - mean_absolute_error: 1.9808 - val_loss: 16.9290 - val_mean_absolute_error: 2.8689\n",
      "Epoch 56/500\n",
      "323/323 [==============================] - 0s 84us/step - loss: 7.1208 - mean_absolute_error: 1.9703 - val_loss: 15.7872 - val_mean_absolute_error: 2.7749\n",
      "Epoch 57/500\n",
      "323/323 [==============================] - 0s 90us/step - loss: 7.0717 - mean_absolute_error: 1.9664 - val_loss: 17.7268 - val_mean_absolute_error: 2.8991\n",
      "Epoch 58/500\n",
      "323/323 [==============================] - 0s 80us/step - loss: 7.1033 - mean_absolute_error: 1.9582 - val_loss: 15.8650 - val_mean_absolute_error: 2.7617\n",
      "Epoch 59/500\n",
      "323/323 [==============================] - 0s 84us/step - loss: 6.9934 - mean_absolute_error: 1.9581 - val_loss: 16.4828 - val_mean_absolute_error: 2.7922\n",
      "Epoch 60/500\n",
      "323/323 [==============================] - 0s 80us/step - loss: 7.0222 - mean_absolute_error: 1.9247 - val_loss: 15.7750 - val_mean_absolute_error: 2.7646\n",
      "Epoch 61/500\n",
      "323/323 [==============================] - 0s 90us/step - loss: 6.8929 - mean_absolute_error: 1.9425 - val_loss: 15.7416 - val_mean_absolute_error: 2.8242\n",
      "Epoch 62/500\n",
      "323/323 [==============================] - 0s 84us/step - loss: 6.8627 - mean_absolute_error: 1.9738 - val_loss: 16.7569 - val_mean_absolute_error: 2.8168\n",
      "Epoch 63/500\n",
      "323/323 [==============================] - 0s 77us/step - loss: 6.9163 - mean_absolute_error: 1.9414 - val_loss: 16.3685 - val_mean_absolute_error: 2.8094\n",
      "Epoch 64/500\n",
      "323/323 [==============================] - 0s 81us/step - loss: 6.7626 - mean_absolute_error: 1.9217 - val_loss: 16.1108 - val_mean_absolute_error: 2.7820\n",
      "Epoch 65/500\n",
      "323/323 [==============================] - 0s 77us/step - loss: 6.8686 - mean_absolute_error: 1.9628 - val_loss: 16.4940 - val_mean_absolute_error: 2.8159\n",
      "Epoch 66/500\n",
      "323/323 [==============================] - 0s 84us/step - loss: 7.0157 - mean_absolute_error: 1.9480 - val_loss: 18.1144 - val_mean_absolute_error: 2.9747\n",
      "Epoch 67/500\n",
      "323/323 [==============================] - 0s 84us/step - loss: 6.9830 - mean_absolute_error: 1.9584 - val_loss: 16.0083 - val_mean_absolute_error: 2.8597\n",
      "Epoch 68/500\n",
      "323/323 [==============================] - 0s 77us/step - loss: 6.7025 - mean_absolute_error: 1.9526 - val_loss: 15.4771 - val_mean_absolute_error: 2.7509\n",
      "Epoch 69/500\n",
      "323/323 [==============================] - 0s 77us/step - loss: 6.4626 - mean_absolute_error: 1.8847 - val_loss: 17.3209 - val_mean_absolute_error: 2.9652\n",
      "Epoch 70/500\n",
      "323/323 [==============================] - 0s 84us/step - loss: 6.5445 - mean_absolute_error: 1.8911 - val_loss: 15.1257 - val_mean_absolute_error: 2.7535\n",
      "Epoch 71/500\n",
      "323/323 [==============================] - 0s 80us/step - loss: 6.5735 - mean_absolute_error: 1.9231 - val_loss: 15.6497 - val_mean_absolute_error: 2.7570\n",
      "Epoch 72/500\n",
      "323/323 [==============================] - 0s 81us/step - loss: 6.6280 - mean_absolute_error: 1.9030 - val_loss: 16.5646 - val_mean_absolute_error: 2.8182\n",
      "Epoch 73/500\n",
      "323/323 [==============================] - 0s 77us/step - loss: 6.4325 - mean_absolute_error: 1.8759 - val_loss: 16.3514 - val_mean_absolute_error: 2.7773\n",
      "Epoch 74/500\n",
      "323/323 [==============================] - 0s 84us/step - loss: 6.4109 - mean_absolute_error: 1.8701 - val_loss: 17.5726 - val_mean_absolute_error: 2.9631\n",
      "Epoch 75/500\n",
      "323/323 [==============================] - 0s 74us/step - loss: 6.5017 - mean_absolute_error: 1.8577 - val_loss: 15.3393 - val_mean_absolute_error: 2.7290\n",
      "Epoch 76/500\n",
      "323/323 [==============================] - 0s 77us/step - loss: 6.5311 - mean_absolute_error: 1.8998 - val_loss: 16.4601 - val_mean_absolute_error: 2.8395\n",
      "Epoch 77/500\n",
      "323/323 [==============================] - 0s 84us/step - loss: 6.3903 - mean_absolute_error: 1.8868 - val_loss: 15.1098 - val_mean_absolute_error: 2.7314\n",
      "Epoch 78/500\n",
      "323/323 [==============================] - 0s 74us/step - loss: 6.2974 - mean_absolute_error: 1.8749 - val_loss: 15.4705 - val_mean_absolute_error: 2.7258\n",
      "Epoch 79/500\n",
      "323/323 [==============================] - 0s 80us/step - loss: 6.1695 - mean_absolute_error: 1.8451 - val_loss: 15.9529 - val_mean_absolute_error: 2.7278\n",
      "Epoch 80/500\n",
      "323/323 [==============================] - 0s 77us/step - loss: 6.2340 - mean_absolute_error: 1.8500 - val_loss: 14.7750 - val_mean_absolute_error: 2.6575\n",
      "Epoch 81/500\n",
      "323/323 [==============================] - 0s 80us/step - loss: 6.3050 - mean_absolute_error: 1.8666 - val_loss: 15.1362 - val_mean_absolute_error: 2.7192\n",
      "Epoch 82/500\n",
      "323/323 [==============================] - 0s 74us/step - loss: 6.2209 - mean_absolute_error: 1.8535 - val_loss: 15.2543 - val_mean_absolute_error: 2.7303\n",
      "Epoch 83/500\n",
      "323/323 [==============================] - 0s 87us/step - loss: 6.1731 - mean_absolute_error: 1.8501 - val_loss: 14.7421 - val_mean_absolute_error: 2.7177\n",
      "Epoch 84/500\n",
      "323/323 [==============================] - 0s 77us/step - loss: 6.2616 - mean_absolute_error: 1.8761 - val_loss: 15.4890 - val_mean_absolute_error: 2.7221\n",
      "Epoch 85/500\n",
      "323/323 [==============================] - 0s 77us/step - loss: 6.0983 - mean_absolute_error: 1.8115 - val_loss: 15.1681 - val_mean_absolute_error: 2.7094\n",
      "Epoch 86/500\n",
      "323/323 [==============================] - 0s 81us/step - loss: 6.0320 - mean_absolute_error: 1.8245 - val_loss: 15.3460 - val_mean_absolute_error: 2.7380\n",
      "Epoch 87/500\n",
      "323/323 [==============================] - 0s 77us/step - loss: 5.8821 - mean_absolute_error: 1.8253 - val_loss: 16.5767 - val_mean_absolute_error: 2.8739\n",
      "Epoch 88/500\n",
      "323/323 [==============================] - 0s 77us/step - loss: 6.0803 - mean_absolute_error: 1.8373 - val_loss: 14.7852 - val_mean_absolute_error: 2.6386\n",
      "Epoch 89/500\n",
      "323/323 [==============================] - 0s 80us/step - loss: 5.9656 - mean_absolute_error: 1.8036 - val_loss: 17.3251 - val_mean_absolute_error: 2.8773\n",
      "Epoch 90/500\n",
      "323/323 [==============================] - 0s 77us/step - loss: 6.0363 - mean_absolute_error: 1.8359 - val_loss: 15.8659 - val_mean_absolute_error: 2.7155\n",
      "Epoch 91/500\n",
      "323/323 [==============================] - 0s 87us/step - loss: 6.0463 - mean_absolute_error: 1.7982 - val_loss: 15.4314 - val_mean_absolute_error: 2.7235\n",
      "Epoch 92/500\n",
      "323/323 [==============================] - 0s 74us/step - loss: 5.8281 - mean_absolute_error: 1.7966 - val_loss: 15.0007 - val_mean_absolute_error: 2.7030\n",
      "Epoch 93/500\n",
      "323/323 [==============================] - 0s 77us/step - loss: 5.8258 - mean_absolute_error: 1.8017 - val_loss: 17.0286 - val_mean_absolute_error: 2.8143\n",
      "Epoch 94/500\n",
      "323/323 [==============================] - 0s 77us/step - loss: 6.1597 - mean_absolute_error: 1.8257 - val_loss: 15.1483 - val_mean_absolute_error: 2.6691\n",
      "Epoch 95/500\n",
      "323/323 [==============================] - 0s 80us/step - loss: 5.8887 - mean_absolute_error: 1.7763 - val_loss: 15.0990 - val_mean_absolute_error: 2.6650\n",
      "Epoch 96/500\n",
      "323/323 [==============================] - 0s 90us/step - loss: 6.0155 - mean_absolute_error: 1.8201 - val_loss: 14.3270 - val_mean_absolute_error: 2.5733\n"
     ]
    },
    {
     "name": "stdout",
     "output_type": "stream",
     "text": [
      "Epoch 97/500\n",
      "323/323 [==============================] - 0s 80us/step - loss: 5.6613 - mean_absolute_error: 1.8032 - val_loss: 15.2439 - val_mean_absolute_error: 2.6542\n",
      "Epoch 98/500\n",
      "323/323 [==============================] - 0s 84us/step - loss: 5.6316 - mean_absolute_error: 1.7411 - val_loss: 16.2386 - val_mean_absolute_error: 2.8280\n",
      "Epoch 99/500\n",
      "323/323 [==============================] - 0s 77us/step - loss: 5.7249 - mean_absolute_error: 1.8034 - val_loss: 16.3086 - val_mean_absolute_error: 2.7830\n",
      "Epoch 100/500\n",
      "323/323 [==============================] - 0s 80us/step - loss: 5.8760 - mean_absolute_error: 1.7810 - val_loss: 15.1390 - val_mean_absolute_error: 2.6555\n",
      "Epoch 101/500\n",
      " 32/323 [=>............................] - ETA: 0s - loss: 4.5081 - mean_absolute_error: 1.6323\n",
      "323/323 [==============================] - 0s 80us/step - loss: 5.6892 - mean_absolute_error: 1.7637 - val_loss: 15.7328 - val_mean_absolute_error: 2.7041\n",
      "Epoch 102/500\n",
      "323/323 [==============================] - 0s 74us/step - loss: 5.5524 - mean_absolute_error: 1.7625 - val_loss: 17.3371 - val_mean_absolute_error: 2.9163\n",
      "Epoch 103/500\n",
      "323/323 [==============================] - 0s 80us/step - loss: 5.7571 - mean_absolute_error: 1.7690 - val_loss: 14.3236 - val_mean_absolute_error: 2.6367\n",
      "Epoch 104/500\n",
      "323/323 [==============================] - 0s 77us/step - loss: 5.6375 - mean_absolute_error: 1.7617 - val_loss: 15.2640 - val_mean_absolute_error: 2.7217\n",
      "Epoch 105/500\n",
      "323/323 [==============================] - 0s 80us/step - loss: 5.4440 - mean_absolute_error: 1.7460 - val_loss: 14.7212 - val_mean_absolute_error: 2.6526\n",
      "Epoch 106/500\n",
      "323/323 [==============================] - 0s 80us/step - loss: 5.4693 - mean_absolute_error: 1.7360 - val_loss: 15.9312 - val_mean_absolute_error: 2.7634\n",
      "Epoch 107/500\n",
      "323/323 [==============================] - 0s 77us/step - loss: 5.6016 - mean_absolute_error: 1.7436 - val_loss: 14.8607 - val_mean_absolute_error: 2.6600\n",
      "Epoch 108/500\n",
      "323/323 [==============================] - 0s 84us/step - loss: 5.7274 - mean_absolute_error: 1.7852 - val_loss: 14.5402 - val_mean_absolute_error: 2.6230\n",
      "Epoch 109/500\n",
      "323/323 [==============================] - 0s 74us/step - loss: 5.2728 - mean_absolute_error: 1.6840 - val_loss: 15.0799 - val_mean_absolute_error: 2.6516\n",
      "Epoch 110/500\n",
      "323/323 [==============================] - 0s 84us/step - loss: 5.6350 - mean_absolute_error: 1.7541 - val_loss: 15.3540 - val_mean_absolute_error: 2.6812\n",
      "Epoch 111/500\n",
      "323/323 [==============================] - 0s 74us/step - loss: 5.6921 - mean_absolute_error: 1.7568 - val_loss: 16.0318 - val_mean_absolute_error: 2.8270\n",
      "Epoch 112/500\n",
      "323/323 [==============================] - 0s 77us/step - loss: 5.4762 - mean_absolute_error: 1.7385 - val_loss: 14.8595 - val_mean_absolute_error: 2.6073\n",
      "Epoch 113/500\n",
      "323/323 [==============================] - 0s 84us/step - loss: 5.4301 - mean_absolute_error: 1.7178 - val_loss: 16.3782 - val_mean_absolute_error: 2.8644\n",
      "Epoch 114/500\n",
      "323/323 [==============================] - 0s 84us/step - loss: 5.4852 - mean_absolute_error: 1.7050 - val_loss: 14.9103 - val_mean_absolute_error: 2.6578\n",
      "Epoch 115/500\n",
      "323/323 [==============================] - 0s 84us/step - loss: 5.2549 - mean_absolute_error: 1.6959 - val_loss: 14.7893 - val_mean_absolute_error: 2.6471\n",
      "Epoch 116/500\n",
      "323/323 [==============================] - 0s 77us/step - loss: 5.5048 - mean_absolute_error: 1.7211 - val_loss: 14.7916 - val_mean_absolute_error: 2.6969\n",
      "Epoch 117/500\n",
      "323/323 [==============================] - 0s 84us/step - loss: 5.3598 - mean_absolute_error: 1.7409 - val_loss: 16.2188 - val_mean_absolute_error: 2.8488\n",
      "Epoch 118/500\n",
      "323/323 [==============================] - 0s 84us/step - loss: 5.3144 - mean_absolute_error: 1.7320 - val_loss: 15.4755 - val_mean_absolute_error: 2.7021\n",
      "Epoch 119/500\n",
      "323/323 [==============================] - 0s 77us/step - loss: 5.2109 - mean_absolute_error: 1.6763 - val_loss: 14.7610 - val_mean_absolute_error: 2.5815\n",
      "Epoch 120/500\n",
      "323/323 [==============================] - 0s 87us/step - loss: 5.2754 - mean_absolute_error: 1.7069 - val_loss: 14.6478 - val_mean_absolute_error: 2.7091\n",
      "Epoch 121/500\n",
      "323/323 [==============================] - 0s 80us/step - loss: 5.6487 - mean_absolute_error: 1.7963 - val_loss: 15.1076 - val_mean_absolute_error: 2.7596\n",
      "Epoch 122/500\n",
      "323/323 [==============================] - 0s 80us/step - loss: 5.3197 - mean_absolute_error: 1.7162 - val_loss: 14.3010 - val_mean_absolute_error: 2.6649\n",
      "Epoch 123/500\n",
      "323/323 [==============================] - 0s 84us/step - loss: 5.2474 - mean_absolute_error: 1.7127 - val_loss: 15.3675 - val_mean_absolute_error: 2.7915\n",
      "Epoch 124/500\n",
      "323/323 [==============================] - 0s 77us/step - loss: 5.3849 - mean_absolute_error: 1.7374 - val_loss: 14.6605 - val_mean_absolute_error: 2.7097\n",
      "Epoch 125/500\n",
      "323/323 [==============================] - 0s 84us/step - loss: 5.1924 - mean_absolute_error: 1.7193 - val_loss: 14.2432 - val_mean_absolute_error: 2.5889\n",
      "Epoch 126/500\n",
      "323/323 [==============================] - 0s 80us/step - loss: 5.1267 - mean_absolute_error: 1.6587 - val_loss: 15.9661 - val_mean_absolute_error: 2.8560\n",
      "Epoch 127/500\n",
      "323/323 [==============================] - 0s 74us/step - loss: 5.1201 - mean_absolute_error: 1.6869 - val_loss: 14.1140 - val_mean_absolute_error: 2.6210\n",
      "Epoch 128/500\n",
      "323/323 [==============================] - 0s 80us/step - loss: 4.9671 - mean_absolute_error: 1.6400 - val_loss: 14.0657 - val_mean_absolute_error: 2.6155\n",
      "Epoch 129/500\n",
      "323/323 [==============================] - 0s 80us/step - loss: 5.1080 - mean_absolute_error: 1.6700 - val_loss: 13.8432 - val_mean_absolute_error: 2.5792\n",
      "Epoch 130/500\n",
      "323/323 [==============================] - 0s 81us/step - loss: 5.1722 - mean_absolute_error: 1.6793 - val_loss: 16.7623 - val_mean_absolute_error: 2.9245\n",
      "Epoch 131/500\n",
      "323/323 [==============================] - 0s 84us/step - loss: 5.0882 - mean_absolute_error: 1.6663 - val_loss: 15.9485 - val_mean_absolute_error: 2.7955\n",
      "Epoch 132/500\n",
      "323/323 [==============================] - 0s 80us/step - loss: 5.0433 - mean_absolute_error: 1.6399 - val_loss: 15.0477 - val_mean_absolute_error: 2.6358\n",
      "Epoch 133/500\n",
      "323/323 [==============================] - 0s 81us/step - loss: 5.0781 - mean_absolute_error: 1.6536 - val_loss: 14.9447 - val_mean_absolute_error: 2.6618\n",
      "Epoch 134/500\n",
      "323/323 [==============================] - 0s 74us/step - loss: 4.9197 - mean_absolute_error: 1.6424 - val_loss: 15.7852 - val_mean_absolute_error: 2.7333\n",
      "Epoch 135/500\n",
      "323/323 [==============================] - 0s 87us/step - loss: 4.9665 - mean_absolute_error: 1.5980 - val_loss: 14.8143 - val_mean_absolute_error: 2.6920\n",
      "Epoch 136/500\n",
      "323/323 [==============================] - 0s 84us/step - loss: 4.8643 - mean_absolute_error: 1.6506 - val_loss: 14.9391 - val_mean_absolute_error: 2.6558\n",
      "Epoch 137/500\n",
      "323/323 [==============================] - 0s 87us/step - loss: 4.7671 - mean_absolute_error: 1.6132 - val_loss: 14.2207 - val_mean_absolute_error: 2.6104\n",
      "Epoch 138/500\n",
      "323/323 [==============================] - 0s 84us/step - loss: 4.9607 - mean_absolute_error: 1.6542 - val_loss: 14.3840 - val_mean_absolute_error: 2.6207\n",
      "Epoch 139/500\n",
      "323/323 [==============================] - 0s 90us/step - loss: 4.9208 - mean_absolute_error: 1.6565 - val_loss: 15.0360 - val_mean_absolute_error: 2.7132\n",
      "Epoch 140/500\n",
      "323/323 [==============================] - 0s 81us/step - loss: 4.8417 - mean_absolute_error: 1.6275 - val_loss: 14.8476 - val_mean_absolute_error: 2.6805\n",
      "Epoch 141/500\n",
      "323/323 [==============================] - 0s 90us/step - loss: 4.8164 - mean_absolute_error: 1.6241 - val_loss: 14.4480 - val_mean_absolute_error: 2.6052\n",
      "Epoch 142/500\n",
      "323/323 [==============================] - 0s 87us/step - loss: 4.7575 - mean_absolute_error: 1.6021 - val_loss: 14.3985 - val_mean_absolute_error: 2.5848\n",
      "Epoch 143/500\n",
      "323/323 [==============================] - 0s 84us/step - loss: 4.8395 - mean_absolute_error: 1.6212 - val_loss: 14.1077 - val_mean_absolute_error: 2.6023\n",
      "Epoch 144/500\n",
      "323/323 [==============================] - 0s 81us/step - loss: 4.6847 - mean_absolute_error: 1.6139 - val_loss: 13.9196 - val_mean_absolute_error: 2.5587\n"
     ]
    },
    {
     "name": "stdout",
     "output_type": "stream",
     "text": [
      "Epoch 145/500\n",
      "323/323 [==============================] - 0s 93us/step - loss: 4.5833 - mean_absolute_error: 1.5727 - val_loss: 14.1069 - val_mean_absolute_error: 2.5801\n",
      "Epoch 146/500\n",
      "323/323 [==============================] - 0s 84us/step - loss: 4.6577 - mean_absolute_error: 1.5787 - val_loss: 13.8964 - val_mean_absolute_error: 2.5802\n",
      "Epoch 147/500\n",
      "323/323 [==============================] - 0s 87us/step - loss: 4.6306 - mean_absolute_error: 1.5770 - val_loss: 13.9781 - val_mean_absolute_error: 2.5532\n",
      "Epoch 148/500\n",
      "323/323 [==============================] - 0s 84us/step - loss: 4.7255 - mean_absolute_error: 1.6063 - val_loss: 14.6323 - val_mean_absolute_error: 2.6528\n",
      "Epoch 149/500\n",
      "323/323 [==============================] - 0s 77us/step - loss: 4.7410 - mean_absolute_error: 1.6014 - val_loss: 15.7188 - val_mean_absolute_error: 2.7873\n"
     ]
    }
   ],
   "source": [
    "EPOCHS = 500\n",
    "\n",
    "# Store training stats\n",
    "history = model.fit( train_data, train_labels, epochs=EPOCHS,\n",
    "                    validation_split=0.2, verbose=1,\n",
    "                    callbacks=[ early_stop, PrintDot() ] )"
   ]
  },
  {
   "cell_type": "code",
   "execution_count": 17,
   "metadata": {},
   "outputs": [],
   "source": [
    "from matplotlib import pyplot"
   ]
  },
  {
   "cell_type": "code",
   "execution_count": 18,
   "metadata": {},
   "outputs": [],
   "source": [
    "def plot_history(history):\n",
    "    pyplot.figure()\n",
    "    pyplot.xlabel('Epoch')\n",
    "    pyplot.ylabel('Mean Abs Error [1000$]')\n",
    "  \n",
    "    pyplot.plot(history.epoch, numpy.array(history.history['mean_absolute_error']), label='Train Loss')\n",
    "    pyplot.plot(history.epoch, numpy.array(history.history['val_mean_absolute_error']), label = 'Val loss')\n",
    "    \n",
    "    pyplot.legend()\n",
    "    pyplot.ylim([0, 5])"
   ]
  },
  {
   "cell_type": "code",
   "execution_count": 19,
   "metadata": {},
   "outputs": [
    {
     "data": {
      "image/png": "[encoded data removed]",
      "text/plain": [
       "<Figure size 432x288 with 1 Axes>"
      ]
     },
     "metadata": {},
     "output_type": "display_data"
    }
   ],
   "source": [
    "plot_history(history)"
   ]
  },
  {
   "cell_type": "code",
   "execution_count": 20,
   "metadata": {},
   "outputs": [
    {
     "name": "stdout",
     "output_type": "stream",
     "text": [
      "Testing set Mean Abs Error: $2560.98\n"
     ]
    }
   ],
   "source": [
    "[loss, mae] = model.evaluate(test_data, test_labels, verbose=0)\n",
    "\n",
    "print(\"Testing set Mean Abs Error: ${:7.2f}\".format(mae * 1000))"
   ]
  },
  {
   "cell_type": "code",
   "execution_count": 21,
   "metadata": {},
   "outputs": [],
   "source": [
    "def plot_predict(test_labels, test_predictions):\n",
    "    pyplot.scatter(test_labels, test_predictions)\n",
    "    \n",
    "    pyplot.xlabel('True Values [1000$]')\n",
    "    pyplot.ylabel('Predictions [1000$]')\n",
    "    \n",
    "    pyplot.axis('equal')\n",
    "    \n",
    "    pyplot.xlim(pyplot.xlim())\n",
    "    pyplot.ylim(pyplot.ylim())\n",
    "    \n",
    "    _ = pyplot.plot([-100, 100], [-100, 100])"
   ]
  },
  {
   "cell_type": "code",
   "execution_count": 22,
   "metadata": {},
   "outputs": [],
   "source": [
    "test_predictions = model.predict(test_data).flatten()"
   ]
  },
  {
   "cell_type": "code",
   "execution_count": 23,
   "metadata": {},
   "outputs": [
    {
     "data": {
      "image/png": "[encoded data removed]",
      "text/plain": [
       "<Figure size 432x288 with 1 Axes>"
      ]
     },
     "metadata": {},
     "output_type": "display_data"
    }
   ],
   "source": [
    "plot_predict(test_labels, test_predictions)"
   ]
  },
  {
   "cell_type": "code",
   "execution_count": 24,
   "metadata": {},
   "outputs": [],
   "source": [
    "def plot_predict_error(test_labels, test_predictions):\n",
    "    error = test_predictions - test_labels\n",
    "    \n",
    "    pyplot.hist(error, bins = 50)\n",
    "    \n",
    "    pyplot.xlabel(\"Prediction Error [1000$]\")\n",
    "    _ = pyplot.ylabel(\"Count\")"
   ]
  },
  {
   "cell_type": "code",
   "execution_count": 25,
   "metadata": {},
   "outputs": [
    {
     "data": {
      "image/png": "[encoded data removed]",
      "text/plain": [
       "<Figure size 432x288 with 1 Axes>"
      ]
     },
     "metadata": {},
     "output_type": "display_data"
    }
   ],
   "source": [
    "plot_predict_error(test_labels, test_predictions)"
   ]
  }
 ],
 "metadata": {
  "kernelspec": {
   "display_name": "Python 3",
   "language": "python",
   "name": "python3"
  },
  "language_info": {
   "codemirror_mode": {
    "name": "ipython",
    "version": 3
   },
   "file_extension": ".py",
   "mimetype": "text/x-python",
   "name": "python",
   "nbconvert_exporter": "python",
   "pygments_lexer": "ipython3",
   "version": "3.6.5"
  }
 },
 "nbformat": 4,
 "nbformat_minor": 2
}
